{
 "cells": [
  {
   "cell_type": "code",
   "execution_count": 1,
   "metadata": {},
   "outputs": [],
   "source": [
    "import ants\n",
    "import numpy as np\n",
    "from dipy.tracking.streamline import *\n",
    "from dipy.io.streamline import *\n",
    "from scipy.io import loadmat, savemat\n",
    "import nibabel as nib\n",
    "import nibabel.streamlines as nis"
   ]
  },
  {
   "cell_type": "code",
   "execution_count": 2,
   "metadata": {},
   "outputs": [],
   "source": [
    "avgt = nib.load('/Users/mahdi/stage-2022-mahdi/AVGT.nii.gz')\n",
    "affine = avgt.affine\n",
    "ref_vol = avgt.get_fdata()\n",
    "shape = avgt.shape"
   ]
  },
  {
   "cell_type": "code",
   "execution_count": 3,
   "metadata": {},
   "outputs": [],
   "source": [
    "sft_file = '/Users/mahdi/stage-2022-mahdi/niftis/tracts/allen_wildtype_tractogram.tck'\n",
    "ref = '/Users/mahdi/stage-2022-mahdi/niftis/allen_template_50_ras.nii.gz'\n",
    "sft_streamlines, sft_hdr = load_tractogram(filename=sft_file)"
   ]
  },
  {
   "cell_type": "code",
   "execution_count": 4,
   "metadata": {},
   "outputs": [],
   "source": [
    "ref_allen_ras = nib.load(ref)"
   ]
  },
  {
   "cell_type": "code",
   "execution_count": 6,
   "metadata": {},
   "outputs": [],
   "source": [
    "save_tractogram(\n",
    "    fname=\"/Users/mahdi/stage-2022-mahdi/niftis/tracts/allen_wildtype_tractogram.trk\",\n",
    "    streamlines=sft_streamlines,\n",
    "    affine=np.eye(4)\n",
    "    )"
   ]
  },
  {
   "cell_type": "code",
   "execution_count": 19,
   "metadata": {},
   "outputs": [],
   "source": [
    "def allenPIRmm_allenRASvox(pt):\n",
    "    x, y, z = pt[0], pt[1], pt[2]\n",
    "    B = np.array([[ 0.05,  0,        0,      0],\n",
    "                 [  0,    -0.05,     0,      0],\n",
    "                 [  0,     0,       -0.05,   0],\n",
    "                 [  0,     0,        0,      1]])\n",
    "    \n",
    "    pt = np.array([x, y, z, 1])\n",
    "    vox = np.linalg.inv(B) @ pt\n",
    "\n",
    "    return vox[0:3]"
   ]
  },
  {
   "cell_type": "code",
   "execution_count": 20,
   "metadata": {},
   "outputs": [],
   "source": [
    "file_t = '/Users/mahdi/stage-2022-mahdi/transformations_allen2avgt/allen2avgtAffine_50.mat'\n",
    "t = ants.read_transform(file_t)"
   ]
  },
  {
   "cell_type": "code",
   "execution_count": 21,
   "metadata": {},
   "outputs": [],
   "source": [
    "def allenRASvox_avgtRASvox(pt, t):\n",
    "    it = t.invert()\n",
    "    return it.apply_to_point(pt)"
   ]
  },
  {
   "cell_type": "code",
   "execution_count": 23,
   "metadata": {},
   "outputs": [],
   "source": [
    "streamlines_list = []\n",
    "for streamline in sft_streamlines:\n",
    "    strimline = []\n",
    "    for point in streamline:\n",
    "        allenRASvox = allenPIRmm_allenRASvox(point)\n",
    "        avgtRASvox = allenRASvox_avgtRASvox(allenRASvox, t)\n",
    "        strimline.append(avgtRASvox)\n",
    "    streamlines_list.append(strimline)"
   ]
  },
  {
   "cell_type": "code",
   "execution_count": 24,
   "metadata": {},
   "outputs": [
    {
     "name": "stdout",
     "output_type": "stream",
     "text": [
      "577555\n"
     ]
    }
   ],
   "source": [
    "print(len(streamlines_list))"
   ]
  },
  {
   "cell_type": "code",
   "execution_count": 30,
   "metadata": {},
   "outputs": [],
   "source": [
    "rotation = np.array([\n",
    "    [1,  0,  0, 0],\n",
    "    [0, -1,  0, 0],\n",
    "    [0,  0, -1, 0],\n",
    "    [0,  0,  0, 1]\n",
    "    ])"
   ]
  },
  {
   "cell_type": "code",
   "execution_count": 31,
   "metadata": {},
   "outputs": [],
   "source": [
    "translation = np.array([\n",
    "    [1, 0, 0,  0  ],\n",
    "    [0, 1, 0, -212],\n",
    "    [0, 0, 1, -158],\n",
    "    [0, 0, 0,  1  ]\n",
    "    ])"
   ]
  },
  {
   "cell_type": "code",
   "execution_count": 32,
   "metadata": {},
   "outputs": [],
   "source": [
    "affine_mib_tract = affine @ rotation @ translation"
   ]
  },
  {
   "cell_type": "code",
   "execution_count": 33,
   "metadata": {},
   "outputs": [],
   "source": [
    "save_tractogram(\n",
    "    fname=\"/Users/mahdi/stage-2022-mahdi/niftis/tracts/manually_filled_streamlines.trk\",\n",
    "    streamlines=streamlines_list,\n",
    "    affine=affine_mib_tract\n",
    "    )"
   ]
  }
 ],
 "metadata": {
  "interpreter": {
   "hash": "89bcfc095d93340fd71944c2b6d026b0e5cbee18d73e5518fd1156fb5e6b8805"
  },
  "kernelspec": {
   "display_name": "Python 3.6.13 ('allen2tract')",
   "language": "python",
   "name": "python3"
  },
  "language_info": {
   "codemirror_mode": {
    "name": "ipython",
    "version": 3
   },
   "file_extension": ".py",
   "mimetype": "text/x-python",
   "name": "python",
   "nbconvert_exporter": "python",
   "pygments_lexer": "ipython3",
   "version": "3.6.13"
  },
  "orig_nbformat": 4
 },
 "nbformat": 4,
 "nbformat_minor": 2
}
