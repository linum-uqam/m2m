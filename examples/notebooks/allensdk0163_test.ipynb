{
 "cells": [
  {
   "cell_type": "code",
   "execution_count": 1,
   "metadata": {},
   "outputs": [],
   "source": [
    "from allensdk.core.mouse_connectivity_cache import MouseConnectivityCache\n",
    "\n",
    "experiments_path = './cache/allen_mouse_conn_experiments.json'\n",
    "manifest_path = './cache/mouse_conn_manifest.json'\n",
    "structures_path = './cache/structures.json'\n",
    "\n",
    "mcc = MouseConnectivityCache(manifest_file=manifest_path)\n",
    "experiments = mcc.get_experiments(dataframe=True, file_name=experiments_path)"
   ]
  },
  {
   "cell_type": "code",
   "execution_count": 7,
   "metadata": {},
   "outputs": [
    {
     "data": {
      "text/plain": [
       "gender                                          M\n",
       "injection_structures                   [985, 993]\n",
       "injection_volume                         0.316101\n",
       "injection_x                                  4200\n",
       "injection_y                                  1670\n",
       "injection_z                                  7070\n",
       "product_id                                      5\n",
       "specimen_name                  Efr3a-Cre_NO108-84\n",
       "strain                               FVB.CD1(ICR)\n",
       "structure_abbrev                              MOp\n",
       "structure_id                                  985\n",
       "structure_name                 Primary motor area\n",
       "transgenic_line                   Efr3a-Cre_NO108\n",
       "transgenic_line_id                    1.82762e+08\n",
       "id                                      288169135\n",
       "primary_injection_structure                   985\n",
       "Name: 288169135, dtype: object"
      ]
     },
     "execution_count": 7,
     "metadata": {},
     "output_type": "execute_result"
    }
   ],
   "source": [
    "import pandas as pd\n",
    "\n",
    "pd.DataFrame(experiments).loc[288169135]"
   ]
  },
  {
   "cell_type": "code",
   "execution_count": 7,
   "metadata": {},
   "outputs": [],
   "source": [
    "from dipy.io.streamline import load_tractogram, save_tractogram\n",
    "from dipy.io.stateful_tractogram import StatefulTractogram, Space\n",
    "import nibabel as nib"
   ]
  },
  {
   "cell_type": "code",
   "execution_count": 4,
   "metadata": {},
   "outputs": [],
   "source": [
    "sft = load_tractogram(\n",
    "    \"/Users/mahdi/stage-2022-mahdi/tracts/288169135_avgt.trk\",\n",
    "    \"/Users/mahdi/stage-2022-mahdi/data/AVGT.nii.gz\"\n",
    "    )"
   ]
  },
  {
   "cell_type": "code",
   "execution_count": null,
   "metadata": {},
   "outputs": [],
   "source": [
    "sft.streamlines"
   ]
  },
  {
   "cell_type": "code",
   "execution_count": 18,
   "metadata": {},
   "outputs": [],
   "source": [
    "trk = StatefulTractogram(\n",
    "    sft.streamlines,\n",
    "    \"/Users/mahdi/stage-2022-mahdi/data/AVGT.nii.gz\",\n",
    "    Space.RASMM\n",
    "\n",
    ")"
   ]
  },
  {
   "cell_type": "code",
   "execution_count": 21,
   "metadata": {},
   "outputs": [
    {
     "data": {
      "text/plain": [
       "True"
      ]
     },
     "execution_count": 21,
     "metadata": {},
     "output_type": "execute_result"
    }
   ],
   "source": [
    "save_tractogram(\n",
    "    trk,\n",
    "    \"/Users/mahdi/stage-2022-mahdi/tracts/sft288.trk\"\n",
    ")"
   ]
  },
  {
   "cell_type": "code",
   "execution_count": 3,
   "metadata": {},
   "outputs": [],
   "source": [
    "trk_allen = load_tractogram(\n",
    "    \"/Users/mahdi/stage-2022-mahdi/tracts/288169135.trk\",\n",
    "    \"/Users/mahdi/stage-2022-mahdi/data/allen/allen_template_50_ras.nii.gz\",\n",
    "    trk_header_check=False,\n",
    "    bbox_valid_check=False)"
   ]
  },
  {
   "cell_type": "code",
   "execution_count": 11,
   "metadata": {},
   "outputs": [
    {
     "data": {
      "text/plain": [
       "array([[ 0.  ,  0.  ,  0.05,  0.  ],\n",
       "       [-0.05,  0.  ,  0.  ,  0.  ],\n",
       "       [ 0.  , -0.05,  0.  ,  0.  ],\n",
       "       [ 0.  ,  0.  ,  0.  ,  1.  ]])"
      ]
     },
     "execution_count": 11,
     "metadata": {},
     "output_type": "execute_result"
    }
   ],
   "source": [
    "trk_allen.affine"
   ]
  },
  {
   "cell_type": "code",
   "execution_count": 12,
   "metadata": {},
   "outputs": [
    {
     "data": {
      "text/plain": [
       "<Space.RASMM: 'rasmm'>"
      ]
     },
     "execution_count": 12,
     "metadata": {},
     "output_type": "execute_result"
    }
   ],
   "source": [
    "trk_allen.space"
   ]
  },
  {
   "cell_type": "code",
   "execution_count": 8,
   "metadata": {},
   "outputs": [],
   "source": [
    "refz = nib.load(\"/Users/mahdi/stage-2022-mahdi/data/allen/allen_template_50_ras.nii.gz\")"
   ]
  },
  {
   "cell_type": "code",
   "execution_count": 10,
   "metadata": {},
   "outputs": [
    {
     "data": {
      "text/plain": [
       "array([[ 0.  ,  0.  ,  0.05,  0.  ],\n",
       "       [-0.05,  0.  ,  0.  ,  0.  ],\n",
       "       [ 0.  , -0.05,  0.  ,  0.  ],\n",
       "       [ 0.  ,  0.  ,  0.  ,  1.  ]])"
      ]
     },
     "execution_count": 10,
     "metadata": {},
     "output_type": "execute_result"
    }
   ],
   "source": [
    "refz.affine"
   ]
  },
  {
   "cell_type": "code",
   "execution_count": null,
   "metadata": {},
   "outputs": [],
   "source": [
    "trk_allen = load_tractogram(\n",
    "    \"/Users/mahdi/stage-2022-mahdi/niftis/288169135.trk\",\n",
    "    \"/Users/mahdi/stage-2022-mahdi/data/allen/allen_template_50_ras.nii.gz\",\n",
    "    trk_header_check=False,\n",
    "    bbox_valid_check=False)"
   ]
  }
 ],
 "metadata": {
  "interpreter": {
   "hash": "db73e59a968aa1e0fceb7df9646b944d88aa907e755a507aea91030e8b91bc97"
  },
  "kernelspec": {
   "display_name": "Python 3.10.4 ('docker')",
   "language": "python",
   "name": "python3"
  },
  "language_info": {
   "codemirror_mode": {
    "name": "ipython",
    "version": 3
   },
   "file_extension": ".py",
   "mimetype": "text/x-python",
   "name": "python",
   "nbconvert_exporter": "python",
   "pygments_lexer": "ipython3",
   "version": "3.7.0"
  },
  "orig_nbformat": 4
 },
 "nbformat": 4,
 "nbformat_minor": 2
}
