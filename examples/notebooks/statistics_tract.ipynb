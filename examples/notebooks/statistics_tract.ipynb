{
 "cells": [
  {
   "cell_type": "code",
   "execution_count": 311,
   "metadata": {},
   "outputs": [],
   "source": [
    "import ants\n",
    "import numpy as np\n",
    "from dipy.tracking.streamline import *\n",
    "from dipy.io.streamline import *\n",
    "from dipy.tracking.utils import *\n",
    "from scipy.io import loadmat, savemat\n",
    "import nibabel as nib\n",
    "import nibabel.streamlines as nis\n",
    "import matplotlib.pyplot as plt\n",
    "from dipy.tracking.metrics import *"
   ]
  },
  {
   "cell_type": "code",
   "execution_count": 376,
   "metadata": {},
   "outputs": [],
   "source": [
    "file = '/Users/mahdi/stage-2022-mahdi/niftis/tracts/avgt_wildtype_tractogram.trk'\n",
    "streamlines, hdr = load_tractogram(filename=file)"
   ]
  },
  {
   "cell_type": "code",
   "execution_count": 431,
   "metadata": {},
   "outputs": [
    {
     "name": "stdout",
     "output_type": "stream",
     "text": [
      "{'magic_number': b'TRACK', 'dimensions': array([164, 212, 158], dtype=int16), 'voxel_sizes': array([ 0.06999999,  0.06999999,  0.06999999], dtype=float32), 'origin': array([ 0.,  0.,  0.], dtype=float32), 'nb_scalars_per_point': 0, 'scalar_name': array([b'', b'', b'', b'', b'', b'', b'', b'', b'', b''], \n",
      "      dtype='|S20'), 'nb_properties_per_streamline': 0, 'property_name': array([b'', b'', b'', b'', b'', b'', b'', b'', b'', b''], \n",
      "      dtype='|S20'), 'voxel_to_rasmm': array([[ 0.06999999,  0.        ,  0.        , -5.67500019],\n",
      "       [ 0.        ,  0.06999999,  0.        , -8.79448032],\n",
      "       [ 0.        ,  0.        ,  0.06999999, -8.45033455],\n",
      "       [ 0.        ,  0.        ,  0.        ,  1.        ]], dtype=float32), 'reserved': b'', 'voxel_order': b'RAS', 'pad2': b'', 'image_orientation_patient': array([ 0.,  0.,  0.,  0.,  0.,  0.], dtype=float32), 'pad1': b'', 'invert_x': b'', 'invert_y': b'', 'invert_z': b'', 'swap_xy': b'', 'swap_yz': b'', 'swap_zx': b'', 'nb_streamlines': 577555, 'version': 2, 'hdr_size': 1000, 'endianness': '<', '_offset_data': 1000}\n"
     ]
    }
   ],
   "source": [
    "print(hdr)"
   ]
  },
  {
   "cell_type": "markdown",
   "metadata": {},
   "source": [
    "## Fiber lengths histogram"
   ]
  },
  {
   "cell_type": "code",
   "execution_count": null,
   "metadata": {},
   "outputs": [],
   "source": [
    "length(streamlines)"
   ]
  },
  {
   "cell_type": "code",
   "execution_count": 377,
   "metadata": {},
   "outputs": [
    {
     "data": {
      "image/png": "[encoded data removed]",
      "text/plain": [
       "<Figure size 432x288 with 1 Axes>"
      ]
     },
     "metadata": {
      "needs_background": "light"
     },
     "output_type": "display_data"
    }
   ],
   "source": [
    "lengths = list(length(streamlines))\n",
    "\n",
    "fig_hist, ax = plt.subplots(1)\n",
    "ax.hist(lengths, color='burlywood')\n",
    "ax.set_xlabel('Length')\n",
    "ax.set_ylabel('Count')\n",
    "plt.show()"
   ]
  },
  {
   "cell_type": "markdown",
   "metadata": {},
   "source": [
    "## Fiber from a ROI mask"
   ]
  },
  {
   "cell_type": "code",
   "execution_count": 378,
   "metadata": {},
   "outputs": [],
   "source": [
    "roi_file = \"/Users/mahdi/stage-2022-mahdi/niftis/485847695_180403712_25_0.07/485847695_180403712_x-rois_mask_25_0.07.nii.gz\"\n",
    "mask = nib.load(roi_file)"
   ]
  },
  {
   "cell_type": "code",
   "execution_count": 379,
   "metadata": {},
   "outputs": [],
   "source": [
    "nearby_roi = near_roi(\n",
    "    streamlines=streamlines,\n",
    "    affine=mask.affine,\n",
    "    region_of_interest=mask.get_fdata()\n",
    "    )"
   ]
  },
  {
   "cell_type": "code",
   "execution_count": 380,
   "metadata": {},
   "outputs": [
    {
     "name": "stdout",
     "output_type": "stream",
     "text": [
      "(577555,)\n"
     ]
    }
   ],
   "source": [
    "print(nearby_roi.shape)"
   ]
  },
  {
   "cell_type": "code",
   "execution_count": 381,
   "metadata": {},
   "outputs": [],
   "source": [
    "streamlines_near_roi = []\n",
    "for i in range(len(streamlines)):\n",
    "    if nearby_roi[i]:\n",
    "        streamlines_near_roi.append(streamlines[i])   \n"
   ]
  },
  {
   "cell_type": "code",
   "execution_count": 401,
   "metadata": {},
   "outputs": [],
   "source": [
    "save_tractogram(\n",
    "    fname=\"/Users/mahdi/stage-2022-mahdi/niftis/tracts/near_roi.trk\",\n",
    "    streamlines=streamlines_near_roi,\n",
    "    affine=np.eye(4),\n",
    "    header=hdr\n",
    "    )"
   ]
  },
  {
   "cell_type": "markdown",
   "metadata": {},
   "source": [
    "## Fiber from sphere and radius (entry coords)"
   ]
  },
  {
   "cell_type": "code",
   "execution_count": 384,
   "metadata": {},
   "outputs": [],
   "source": [
    "def draw_spherical_mask(shape, radius, center):\n",
    "    \"\"\"\n",
    "    Generate an n-dimensional spherical mask.\n",
    "\n",
    "    Parameters\n",
    "    ----------\n",
    "    shape: tuple\n",
    "        Shape of the volume created.\n",
    "    radius: int/float\n",
    "        Radius of the spherical mask.\n",
    "    center: tuple\n",
    "        Position of the center of the spherical mask.\n",
    "\n",
    "    Return\n",
    "    ------\n",
    "    ndarray: Volume containing the spherical mask.\n",
    "    \"\"\"\n",
    "    # Assuming shape and center have the same length and contain ints\n",
    "    # (the units are pixels / voxels (px for short),\n",
    "    # radius is a int or float in px)\n",
    "    assert len(center) == len(shape)\n",
    "    semisizes = (radius,) * len(shape)\n",
    "\n",
    "    # Generating the grid for the support points\n",
    "    # centered at the position indicated by center\n",
    "    grid = [slice(-x0, dim - x0) for x0, dim in zip(center, shape)]\n",
    "    center = np.ogrid[grid]\n",
    "\n",
    "    # Calculating the distance of all points from center\n",
    "    # scaled by the radius\n",
    "    vol = np.zeros(shape, dtype=float)\n",
    "    for x_i, semisize in zip(center, semisizes):\n",
    "        vol += (x_i / semisize) ** 2\n",
    "\n",
    "    # the inner part of the sphere will have distance below or equal to 1\n",
    "    return vol <= 1.0"
   ]
  },
  {
   "cell_type": "code",
   "execution_count": 385,
   "metadata": {},
   "outputs": [],
   "source": [
    "sphere = draw_spherical_mask(\n",
    "    shape=mask.shape,\n",
    "    radius=1,\n",
    "    center=(68, 128, 66)\n",
    ").astype(np.float32)"
   ]
  },
  {
   "cell_type": "code",
   "execution_count": 386,
   "metadata": {},
   "outputs": [],
   "source": [
    "through_sphere = near_roi(\n",
    "    streamlines=streamlines,\n",
    "    affine=mask.affine,\n",
    "    region_of_interest=sphere\n",
    "    )"
   ]
  },
  {
   "cell_type": "code",
   "execution_count": 387,
   "metadata": {},
   "outputs": [
    {
     "name": "stdout",
     "output_type": "stream",
     "text": [
      "(577555,)\n"
     ]
    }
   ],
   "source": [
    "print(through_sphere.shape)"
   ]
  },
  {
   "cell_type": "code",
   "execution_count": 388,
   "metadata": {},
   "outputs": [],
   "source": [
    "streamlines_in_sphere = []\n",
    "for i in range(len(streamlines)):\n",
    "    if through_sphere[i]:\n",
    "        streamlines_in_sphere.append(streamlines[i])   "
   ]
  },
  {
   "cell_type": "code",
   "execution_count": 400,
   "metadata": {},
   "outputs": [],
   "source": [
    "save_tractogram(\n",
    "    fname=\"/Users/mahdi/stage-2022-mahdi/niftis/tracts/in_sphere.trk\",\n",
    "    streamlines=streamlines_in_sphere,\n",
    "    affine=np.eye(4),\n",
    "    header=hdr\n",
    "    )"
   ]
  },
  {
   "cell_type": "code",
   "execution_count": null,
   "metadata": {},
   "outputs": [],
   "source": [
    "print(load_tractogram(\"/Users/mahdi/stage-2022-mahdi/niftis/tracts/near_roi.trk\")[1])"
   ]
  },
  {
   "cell_type": "markdown",
   "metadata": {},
   "source": [
    "## Gradient"
   ]
  },
  {
   "cell_type": "code",
   "execution_count": 329,
   "metadata": {},
   "outputs": [],
   "source": [
    "def compute_gradient_streamline(streamline):\n",
    "    return np.gradient(streamline)"
   ]
  },
  {
   "cell_type": "code",
   "execution_count": 330,
   "metadata": {},
   "outputs": [],
   "source": [
    "def compute_gradient_bundle(bundle):\n",
    "    gradients = []\n",
    "    for streamline in bundle:\n",
    "        gradients.append(\n",
    "            compute_gradient_streamline(streamline))\n",
    "    return gradients"
   ]
  },
  {
   "cell_type": "code",
   "execution_count": 332,
   "metadata": {},
   "outputs": [],
   "source": [
    "gradients = compute_gradient_bundle(streamlines_in_sphere)"
   ]
  },
  {
   "cell_type": "markdown",
   "metadata": {},
   "source": [
    "## Orientation inside roi"
   ]
  },
  {
   "cell_type": "code",
   "execution_count": 258,
   "metadata": {},
   "outputs": [
    {
     "name": "stdout",
     "output_type": "stream",
     "text": [
      "[ 0.05695901 -0.04966164 -0.03916985]\n"
     ]
    }
   ],
   "source": [
    "print(mean_orientation(streamlines_near_roi[7894]))"
   ]
  },
  {
   "cell_type": "code",
   "execution_count": 260,
   "metadata": {},
   "outputs": [],
   "source": [
    "import math"
   ]
  },
  {
   "cell_type": "code",
   "execution_count": 271,
   "metadata": {},
   "outputs": [],
   "source": [
    "def compute_direction(vector):\n",
    "    x, y, z = vector[0], vector[1], vector[2]\n",
    "    return math.atan(math.sqrt((z**2)/(x**2 + y**2))) * 180/math.pi"
   ]
  },
  {
   "cell_type": "code",
   "execution_count": 292,
   "metadata": {},
   "outputs": [],
   "source": [
    "def compute_direction_per_point(streamline):\n",
    "    directions = []\n",
    "    for vector in streamline:\n",
    "        directions.append(compute_direction(vector))\n",
    "    return directions"
   ]
  },
  {
   "cell_type": "code",
   "execution_count": 272,
   "metadata": {},
   "outputs": [
    {
     "name": "stdout",
     "output_type": "stream",
     "text": [
      "62.10526317010092\n"
     ]
    }
   ],
   "source": [
    "print(compute_direction(streamlines_near_roi[7894][0]))"
   ]
  },
  {
   "cell_type": "code",
   "execution_count": 293,
   "metadata": {},
   "outputs": [],
   "source": [
    "directions_in_roi = []\n",
    "for s in streamlines_near_roi:\n",
    "    directions_in_roi.append(compute_direction_per_point(s))"
   ]
  },
  {
   "cell_type": "code",
   "execution_count": 302,
   "metadata": {},
   "outputs": [
    {
     "name": "stdout",
     "output_type": "stream",
     "text": [
      "[62.10526317010092, 62.5051749373461, 62.84207687817745, 62.71125484534937, 62.271408863389304, 61.77459306214649, 61.22330196441009, 60.60909569348748, 59.877004248986545, 59.20629832142198, 58.45090629964322, 57.8718035710309]\n"
     ]
    }
   ],
   "source": [
    "print(directions_in_roi[7894])"
   ]
  },
  {
   "cell_type": "code",
   "execution_count": null,
   "metadata": {},
   "outputs": [],
   "source": [
    "n,bins,_ = plt.hist(np.array(directions_in_roi).ravel(),bins=20)\n",
    "plt.xlabel(\"degré\",fontsize=14)\n",
    "plt.ylabel(\"nombre d'orientations\",fontsize=14)\n",
    "xs = np.arange(len(n))\n",
    "ymax = np.array(n).max()\n",
    "for x in xs:\n",
    "    if(n[x]==np.array(n).max().all()):\n",
    "        xmax = bins[x]\n",
    "plt.annotate('max',xy=(xmax,ymax),xytext=(xmax-50,ymax+ymax/20),arrowprops=dict(facecolor='black',shrink=0.01))"
   ]
  },
  {
   "cell_type": "markdown",
   "metadata": {},
   "source": [
    "cf plot"
   ]
  },
  {
   "cell_type": "markdown",
   "metadata": {},
   "source": [
    "c'est faux.... c'est des points ici non des vecteurs"
   ]
  },
  {
   "cell_type": "markdown",
   "metadata": {},
   "source": [
    "## HOG"
   ]
  },
  {
   "cell_type": "code",
   "execution_count": 129,
   "metadata": {},
   "outputs": [],
   "source": [
    "import matplotlib.pyplot as plt\n",
    "from skimage.feature import hog\n",
    "from skimage import data, exposure\n",
    "from PIL import Image"
   ]
  },
  {
   "cell_type": "code",
   "execution_count": 146,
   "metadata": {},
   "outputs": [],
   "source": [
    "image = Image.open(\"/Users/mahdi/Desktop/img_rapport/Capture d’écran 2022-05-03 à 17.19.51.png\")"
   ]
  },
  {
   "cell_type": "code",
   "execution_count": 320,
   "metadata": {},
   "outputs": [],
   "source": [
    "fd, hog_image = hog(image, orientations=8, pixels_per_cell=(16, 16),\n",
    "                    cells_per_block=(1, 1), visualize=True)"
   ]
  },
  {
   "cell_type": "code",
   "execution_count": 321,
   "metadata": {},
   "outputs": [
    {
     "data": {
      "text/plain": [
       "<matplotlib.image.AxesImage at 0x7fe50154a518>"
      ]
     },
     "execution_count": 321,
     "metadata": {},
     "output_type": "execute_result"
    },
    {
     "data": {
      "image/png": "[encoded data removed]",
      "text/plain": [
       "<Figure size 432x288 with 1 Axes>"
      ]
     },
     "metadata": {
      "needs_background": "light"
     },
     "output_type": "display_data"
    }
   ],
   "source": [
    "# Rescale histogram for better display\n",
    "hog_image_rescaled = exposure.rescale_intensity(hog_image, in_range=(0, 10))\n",
    "plt.imshow(hog_image_rescaled, cmap=plt.cm.gray)"
   ]
  },
  {
   "cell_type": "markdown",
   "metadata": {},
   "source": [
    "## ODF"
   ]
  },
  {
   "cell_type": "code",
   "execution_count": 373,
   "metadata": {},
   "outputs": [],
   "source": [
    "from dipy.data import read_stanford_labels\n",
    "from dipy.reconst.csdeconv import auto_response\n",
    "from dipy.reconst.shm import CsaOdfModel\n",
    "from dipy.data import default_sphere\n",
    "from dipy.direction import peaks_from_model"
   ]
  },
  {
   "cell_type": "code",
   "execution_count": 403,
   "metadata": {},
   "outputs": [],
   "source": [
    "# response, ratio = auto_response(gtab, data, roi_radius=10, fa_thr=0.7)\n",
    "# csa_model = CsaOdfModel(gtab, sh_order=6)\n",
    "# csa_peaks = peaks_from_model(csa_model, data, default_sphere,\n",
    "#                              relative_peak_threshold=.8,\n",
    "#                              min_separation_angle=45,\n",
    "#                              mask=sphere)"
   ]
  },
  {
   "cell_type": "markdown",
   "metadata": {},
   "source": [
    "## bval bvecs ?"
   ]
  },
  {
   "cell_type": "code",
   "execution_count": null,
   "metadata": {},
   "outputs": [],
   "source": []
  },
  {
   "cell_type": "markdown",
   "metadata": {},
   "source": [
    "## some metrics in dipy"
   ]
  },
  {
   "cell_type": "code",
   "execution_count": 404,
   "metadata": {},
   "outputs": [],
   "source": [
    "curvature = mean_curvature(streamlines_in_sphere[5654])"
   ]
  },
  {
   "cell_type": "code",
   "execution_count": 405,
   "metadata": {},
   "outputs": [
    {
     "name": "stdout",
     "output_type": "stream",
     "text": [
      "1.0766\n"
     ]
    }
   ],
   "source": [
    "print(curvature)"
   ]
  },
  {
   "cell_type": "code",
   "execution_count": 409,
   "metadata": {},
   "outputs": [],
   "source": [
    "orientation = mean_orientation(streamlines_in_sphere[5654])"
   ]
  },
  {
   "cell_type": "code",
   "execution_count": 410,
   "metadata": {},
   "outputs": [
    {
     "name": "stdout",
     "output_type": "stream",
     "text": [
      "[ 0.06999087 -0.02729972  0.01197381]\n"
     ]
    }
   ],
   "source": [
    "print(orientation)"
   ]
  },
  {
   "cell_type": "code",
   "execution_count": 411,
   "metadata": {},
   "outputs": [],
   "source": [
    "longest_track = longest_track_bundle(streamlines_in_sphere)"
   ]
  },
  {
   "cell_type": "code",
   "execution_count": 427,
   "metadata": {},
   "outputs": [
    {
     "name": "stdout",
     "output_type": "stream",
     "text": [
      "10.8547\n"
     ]
    }
   ],
   "source": [
    "print(length(streamlines_in_sphere[5654]))"
   ]
  },
  {
   "cell_type": "code",
   "execution_count": 428,
   "metadata": {},
   "outputs": [],
   "source": [
    "from dipy.data import read_stanford_hardi"
   ]
  },
  {
   "cell_type": "code",
   "execution_count": 429,
   "metadata": {},
   "outputs": [],
   "source": [
    "from dipy.core.gradients import gradient_table\n",
    "from dipy.io import read_bvals_bvecs"
   ]
  },
  {
   "cell_type": "code",
   "execution_count": 430,
   "metadata": {},
   "outputs": [],
   "source": [
    "import dipy.reconst.dti as dti"
   ]
  },
  {
   "cell_type": "code",
   "execution_count": null,
   "metadata": {},
   "outputs": [],
   "source": [
    "dti.TensorModel()"
   ]
  }
 ],
 "metadata": {
  "interpreter": {
   "hash": "89bcfc095d93340fd71944c2b6d026b0e5cbee18d73e5518fd1156fb5e6b8805"
  },
  "kernelspec": {
   "display_name": "Python 3.6.13 ('allen2tract')",
   "language": "python",
   "name": "python3"
  },
  "language_info": {
   "codemirror_mode": {
    "name": "ipython",
    "version": 3
   },
   "file_extension": ".py",
   "mimetype": "text/x-python",
   "name": "python",
   "nbconvert_exporter": "python",
   "pygments_lexer": "ipython3",
   "version": "3.6.13"
  },
  "orig_nbformat": 4
 },
 "nbformat": 4,
 "nbformat_minor": 2
}
