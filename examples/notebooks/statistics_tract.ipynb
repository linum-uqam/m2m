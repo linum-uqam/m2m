{
 "cells": [
  {
   "cell_type": "code",
   "execution_count": 70,
   "metadata": {},
   "outputs": [],
   "source": [
    "import ants\n",
    "import numpy as np\n",
    "from dipy.tracking.streamline import *\n",
    "from dipy.io.streamline import *\n",
    "from dipy.tracking.utils import *\n",
    "from scipy.io import loadmat, savemat\n",
    "import nibabel as nib\n",
    "import nibabel.streamlines as nis\n",
    "import matplotlib.pyplot as plt\n",
    "from dipy.tracking.metrics import *"
   ]
  },
  {
   "cell_type": "code",
   "execution_count": 8,
   "metadata": {},
   "outputs": [],
   "source": [
    "file = '/Users/mahdi/stage-2022-mahdi/niftis/tracts/avgt_wildtype_tractogram.trk'\n",
    "streamlines, hdr = load_tractogram(filename=file)"
   ]
  },
  {
   "cell_type": "markdown",
   "metadata": {},
   "source": [
    "## Fiber lengths histogram"
   ]
  },
  {
   "cell_type": "code",
   "execution_count": 9,
   "metadata": {},
   "outputs": [
    {
     "data": {
      "image/png": "[encoded data removed]",
      "text/plain": [
       "<Figure size 432x288 with 1 Axes>"
      ]
     },
     "metadata": {
      "needs_background": "light"
     },
     "output_type": "display_data"
    }
   ],
   "source": [
    "lengths = list(length(streamlines))\n",
    "\n",
    "fig_hist, ax = plt.subplots(1)\n",
    "ax.hist(lengths, color='burlywood')\n",
    "ax.set_xlabel('Length')\n",
    "ax.set_ylabel('Count')\n",
    "plt.show()"
   ]
  },
  {
   "cell_type": "markdown",
   "metadata": {},
   "source": [
    "## Fiber from a ROI mask"
   ]
  },
  {
   "cell_type": "code",
   "execution_count": 13,
   "metadata": {},
   "outputs": [],
   "source": [
    "roi_file = \"/Users/mahdi/stage-2022-mahdi/niftis/485847695_180403712_25_0.07/485847695_180403712_x-rois_mask_25_0.07.nii.gz\"\n",
    "mask = nib.load(roi_file)"
   ]
  },
  {
   "cell_type": "code",
   "execution_count": 14,
   "metadata": {},
   "outputs": [],
   "source": [
    "nearby_roi = near_roi(\n",
    "    streamlines=streamlines,\n",
    "    affine=mask.affine,\n",
    "    region_of_interest=mask.get_fdata()\n",
    "    )"
   ]
  },
  {
   "cell_type": "code",
   "execution_count": 15,
   "metadata": {},
   "outputs": [
    {
     "name": "stdout",
     "output_type": "stream",
     "text": [
      "(577555,)\n"
     ]
    }
   ],
   "source": [
    "print(nearby_roi.shape)"
   ]
  },
  {
   "cell_type": "code",
   "execution_count": 25,
   "metadata": {},
   "outputs": [],
   "source": [
    "streamlines_near_roi = []\n",
    "for i in range(len(streamlines)):\n",
    "    if nearby_roi[i]:\n",
    "        streamlines_near_roi.append(streamlines[i])   \n"
   ]
  },
  {
   "cell_type": "code",
   "execution_count": 30,
   "metadata": {},
   "outputs": [],
   "source": [
    "save_tractogram(\n",
    "    fname=\"/Users/mahdi/stage-2022-mahdi/niftis/tracts/near_roi.trk\",\n",
    "    streamlines=streamlines_near_roi,\n",
    "    affine=np.eye(4)\n",
    "    )"
   ]
  },
  {
   "cell_type": "markdown",
   "metadata": {},
   "source": [
    "## Fiber from sphere and radius (entry coords)"
   ]
  },
  {
   "cell_type": "code",
   "execution_count": 76,
   "metadata": {},
   "outputs": [],
   "source": [
    "def draw_spherical_mask(shape, radius, center):\n",
    "    \"\"\"\n",
    "    Generate an n-dimensional spherical mask.\n",
    "\n",
    "    Parameters\n",
    "    ----------\n",
    "    shape: tuple\n",
    "        Shape of the volume created.\n",
    "    radius: int/float\n",
    "        Radius of the spherical mask.\n",
    "    center: tuple\n",
    "        Position of the center of the spherical mask.\n",
    "\n",
    "    Return\n",
    "    ------\n",
    "    ndarray: Volume containing the spherical mask.\n",
    "    \"\"\"\n",
    "    # Assuming shape and center have the same length and contain ints\n",
    "    # (the units are pixels / voxels (px for short),\n",
    "    # radius is a int or float in px)\n",
    "    assert len(center) == len(shape)\n",
    "    semisizes = (radius,) * len(shape)\n",
    "\n",
    "    # Generating the grid for the support points\n",
    "    # centered at the position indicated by center\n",
    "    grid = [slice(-x0, dim - x0) for x0, dim in zip(center, shape)]\n",
    "    center = np.ogrid[grid]\n",
    "\n",
    "    # Calculating the distance of all points from center\n",
    "    # scaled by the radius\n",
    "    vol = np.zeros(shape, dtype=float)\n",
    "    for x_i, semisize in zip(center, semisizes):\n",
    "        vol += (x_i / semisize) ** 2\n",
    "\n",
    "    # the inner part of the sphere will have distance below or equal to 1\n",
    "    return vol <= 1.0"
   ]
  },
  {
   "cell_type": "code",
   "execution_count": 94,
   "metadata": {},
   "outputs": [],
   "source": [
    "sphere = draw_spherical_mask(\n",
    "    shape=mask.shape,\n",
    "    radius=1,\n",
    "    center=(68, 128, 66)\n",
    ").astype(np.float32)"
   ]
  },
  {
   "cell_type": "code",
   "execution_count": 95,
   "metadata": {},
   "outputs": [],
   "source": [
    "through_sphere = near_roi(\n",
    "    streamlines=streamlines,\n",
    "    affine=mask.affine,\n",
    "    region_of_interest=sphere\n",
    "    )"
   ]
  },
  {
   "cell_type": "code",
   "execution_count": 96,
   "metadata": {},
   "outputs": [
    {
     "name": "stdout",
     "output_type": "stream",
     "text": [
      "(577555,)\n"
     ]
    }
   ],
   "source": [
    "print(through_sphere.shape)"
   ]
  },
  {
   "cell_type": "code",
   "execution_count": 100,
   "metadata": {},
   "outputs": [],
   "source": [
    "streamlines_in_sphere = []\n",
    "for i in range(len(streamlines)):\n",
    "    if through_sphere[i]:\n",
    "        streamlines_in_sphere.append(streamlines[i])   "
   ]
  },
  {
   "cell_type": "code",
   "execution_count": 101,
   "metadata": {},
   "outputs": [],
   "source": [
    "save_tractogram(\n",
    "    fname=\"/Users/mahdi/stage-2022-mahdi/niftis/tracts/in_sphere.trk\",\n",
    "    streamlines=streamlines_in_sphere,\n",
    "    affine=np.eye(4)\n",
    "    )"
   ]
  },
  {
   "cell_type": "markdown",
   "metadata": {},
   "source": [
    "## Orientation inside roi"
   ]
  },
  {
   "cell_type": "code",
   "execution_count": 69,
   "metadata": {},
   "outputs": [
    {
     "name": "stdout",
     "output_type": "stream",
     "text": [
      "[ 0.05918167  0.05097019  0.01013423]\n"
     ]
    }
   ],
   "source": [
    "print(mean_orientation(streamlines_near_roi[0]))"
   ]
  }
 ],
 "metadata": {
  "interpreter": {
   "hash": "89bcfc095d93340fd71944c2b6d026b0e5cbee18d73e5518fd1156fb5e6b8805"
  },
  "kernelspec": {
   "display_name": "Python 3.6.13 ('allen2tract')",
   "language": "python",
   "name": "python3"
  },
  "language_info": {
   "codemirror_mode": {
    "name": "ipython",
    "version": 3
   },
   "file_extension": ".py",
   "mimetype": "text/x-python",
   "name": "python",
   "nbconvert_exporter": "python",
   "pygments_lexer": "ipython3",
   "version": "3.6.13"
  },
  "orig_nbformat": 4
 },
 "nbformat": 4,
 "nbformat_minor": 2
}
