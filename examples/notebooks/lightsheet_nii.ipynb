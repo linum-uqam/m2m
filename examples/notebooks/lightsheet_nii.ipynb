{
 "cells": [
  {
   "cell_type": "code",
   "execution_count": 2,
   "metadata": {},
   "outputs": [],
   "source": [
    "import ants\n",
    "import nibabel as nib\n",
    "import numpy as np"
   ]
  },
  {
   "cell_type": "code",
   "execution_count": 46,
   "metadata": {},
   "outputs": [],
   "source": [
    "avgt = nib.load(\"/Users/mahdi/stage-2022-mahdi/data/AVGT.nii.gz\")\n",
    "avgt_data = avgt.get_fdata()\n",
    "avgt_affine = avgt.affine\n",
    "avgt_shape = avgt.shape"
   ]
  },
  {
   "cell_type": "markdown",
   "metadata": {},
   "source": [
    "## registration"
   ]
  },
  {
   "cell_type": "code",
   "execution_count": 47,
   "metadata": {},
   "outputs": [],
   "source": [
    "ls = nib.load(\"/Users/mahdi/Desktop/test_ls/lightsheetRAS.nii\")"
   ]
  },
  {
   "cell_type": "code",
   "execution_count": 48,
   "metadata": {},
   "outputs": [],
   "source": [
    "fvol = avgt_data.astype(np.float32)\n",
    "mvol = ls.get_fdata().astype(np.float32)"
   ]
  },
  {
   "cell_type": "code",
   "execution_count": 49,
   "metadata": {},
   "outputs": [],
   "source": [
    "fi = ants.from_numpy(fvol).resample_image(avgt_shape, 1, 0)\n",
    "mi = ants.from_numpy(mvol).resample_image(avgt_shape, 1, 0)"
   ]
  },
  {
   "cell_type": "code",
   "execution_count": 54,
   "metadata": {},
   "outputs": [],
   "source": [
    "mytx = ants.registration(\n",
    "    fixed=fi,\n",
    "    moving=mi,\n",
    "    type_of_transform='AffineFast'\n",
    ")"
   ]
  },
  {
   "cell_type": "code",
   "execution_count": 55,
   "metadata": {},
   "outputs": [],
   "source": [
    "wmi = ants.apply_transforms(\n",
    "    fixed=fi,\n",
    "    moving=mi,\n",
    "    transformlist=mytx['fwdtransforms']\n",
    ")"
   ]
  },
  {
   "cell_type": "code",
   "execution_count": 57,
   "metadata": {},
   "outputs": [],
   "source": [
    "aligned = nib.Nifti1Image(wmi.numpy(),avgt_affine)"
   ]
  },
  {
   "cell_type": "code",
   "execution_count": 58,
   "metadata": {},
   "outputs": [],
   "source": [
    "nib.save(aligned,\"/Users/mahdi/Desktop/test_ls/test_reg/aligned1.nii\")"
   ]
  },
  {
   "cell_type": "markdown",
   "metadata": {},
   "source": [
    "## ASR to RAS"
   ]
  },
  {
   "cell_type": "code",
   "execution_count": 9,
   "metadata": {},
   "outputs": [],
   "source": [
    "lightsheet = nib.load(\"/Users/mahdi/Desktop/mice01-2xy.nii\")"
   ]
  },
  {
   "cell_type": "code",
   "execution_count": 39,
   "metadata": {},
   "outputs": [],
   "source": [
    "data = lightsheet.get_fdata()\n",
    "aff = lightsheet.affine"
   ]
  },
  {
   "cell_type": "code",
   "execution_count": 40,
   "metadata": {},
   "outputs": [],
   "source": [
    "def switch_axis(vol):\n",
    "    vol = np.moveaxis(vol, (0, 1, 2), (2, 0, 1))\n",
    "    vol = np.flip(vol, axis=2)\n",
    "    vol = np.flip(vol, axis=1)\n",
    "    return vol"
   ]
  },
  {
   "cell_type": "code",
   "execution_count": 41,
   "metadata": {},
   "outputs": [
    {
     "name": "stdout",
     "output_type": "stream",
     "text": [
      "(1667, 2679, 660)\n"
     ]
    }
   ],
   "source": [
    "print(data.shape)"
   ]
  },
  {
   "cell_type": "code",
   "execution_count": 42,
   "metadata": {},
   "outputs": [],
   "source": [
    "data = switch_axis(data)"
   ]
  },
  {
   "cell_type": "code",
   "execution_count": 43,
   "metadata": {},
   "outputs": [
    {
     "name": "stdout",
     "output_type": "stream",
     "text": [
      "(2679, 660, 1667)\n"
     ]
    }
   ],
   "source": [
    "print(data.shape)"
   ]
  },
  {
   "cell_type": "code",
   "execution_count": 45,
   "metadata": {},
   "outputs": [],
   "source": [
    "dimg = nib.Nifti1Image(data, aff)\n",
    "nib.save(dimg, \"/Users/mahdi/Desktop/test_ls/lsRAS.nii\")"
   ]
  }
 ],
 "metadata": {
  "interpreter": {
   "hash": "89bcfc095d93340fd71944c2b6d026b0e5cbee18d73e5518fd1156fb5e6b8805"
  },
  "kernelspec": {
   "display_name": "Python 3.6.13 ('allen2tract')",
   "language": "python",
   "name": "python3"
  },
  "language_info": {
   "codemirror_mode": {
    "name": "ipython",
    "version": 3
   },
   "file_extension": ".py",
   "mimetype": "text/x-python",
   "name": "python",
   "nbconvert_exporter": "python",
   "pygments_lexer": "ipython3",
   "version": "3.6.13"
  },
  "orig_nbformat": 4
 },
 "nbformat": 4,
 "nbformat_minor": 2
}
