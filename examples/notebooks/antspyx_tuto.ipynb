{
 "cells": [
  {
   "cell_type": "code",
   "execution_count": null,
   "metadata": {},
   "outputs": [],
   "source": [
    "import ants\n",
    "import numpy as np"
   ]
  },
  {
   "cell_type": "code",
   "execution_count": null,
   "metadata": {},
   "outputs": [],
   "source": [
    "fname1 = ants.get_ants_data('r16')\n",
    "fname2 = ants.get_ants_data('r64')\n",
    "print(fname1)\n",
    "print(fname2)"
   ]
  },
  {
   "cell_type": "code",
   "execution_count": null,
   "metadata": {},
   "outputs": [],
   "source": [
    "img1 = ants.image_read(fname1)\n",
    "img2 = ants.image_read(fname2)\n",
    "print(img1)"
   ]
  },
  {
   "cell_type": "code",
   "execution_count": null,
   "metadata": {},
   "outputs": [],
   "source": [
    "arr_4d = np.random.randn(70,70,70,10).astype('float32')\n",
    "img_fmri = ants.from_numpy(arr_4d, has_components=True)\n",
    "print(img_fmri)\n",
    "\n",
    "# todo : tester aussi from_nibabel/ to_nibabel (-> .nii.gz)\n",
    "#        nifti_to_ants"
   ]
  },
  {
   "cell_type": "code",
   "execution_count": null,
   "metadata": {},
   "outputs": [],
   "source": [
    "img = ants.image_read(ants.get_ants_data('r16'))\n",
    "img = ants.resample_image(img, (64,64), 1, 0)\n",
    "mask = ants.get_mask(img)\n",
    "img_seg = ants.atropos(a=img, \n",
    "                       m='[0.2,1x1]', \n",
    "                       c='[2,0]', \n",
    "                       i='kmeans[3]', \n",
    "                       x=mask)\n",
    "print(img_seg.keys())\n",
    "ants.plot(img_seg['segmentation'])"
   ]
  },
  {
   "cell_type": "code",
   "execution_count": null,
   "metadata": {},
   "outputs": [],
   "source": [
    "mg = ants.image_read( ants.get_ants_data('r16') ,2)\n",
    "mask = ants.get_mask( img ).threshold_image( 1, 2 )\n",
    "segs=ants.atropos( a = img, \n",
    "                   m = '[0.2,1x1]', \n",
    "                   c = '[2,0]',  \n",
    "                   i = 'kmeans[3]', \n",
    "                   x = mask )\n",
    "thickimg = ants.kelly_kapowski(s=segs['segmentation'], \n",
    "                               g=segs['probabilityimages'][1],\n",
    "                               w=segs['probabilityimages'][2], \n",
    "                               its=45, \n",
    "                               r=0.5, \n",
    "                               m=1)\n",
    "print(thickimg)\n",
    "img.plot(overlay=thickimg, overlay_cmap='jet')"
   ]
  },
  {
   "cell_type": "markdown",
   "metadata": {},
   "source": [
    "# Transform manually template "
   ]
  },
  {
   "cell_type": "code",
   "execution_count": null,
   "metadata": {},
   "outputs": [],
   "source": [
    "import nrrd\n",
    "import nibabel as nib\n",
    "import numpy as np\n",
    "import os\n",
    "from pathlib import Path\n",
    "\n",
    "template_file = '/Users/mahdi/stage-2022-mahdi/src/allen_template_25.nii.gz'\n",
    "template_ras_file = \"/Users/mahdi/stage-2022-mahdi/src/allen_template_25_manualRAS.nii.gz\"\n",
    "\n",
    "resolution = 25\n",
    "res_avgt_mm = 70 / 1e3\n",
    "avgt_offset = np.array([-5.675, -8.79448, -8.450335, 0])\n",
    "\n",
    "# Load and manually transform the template\n",
    "vol = nib.load(template_file).get_fdata()\n",
    "\n",
    "vol_ras = np.moveaxis(vol, (0,1,2), (1,2,0))\n",
    "vol_ras = np.flip(vol_ras, axis=2)\n",
    "vol_ras = np.flip(vol_ras, axis=1)\n",
    "\n",
    "affine = np.eye(4) * res_avgt_mm\n",
    "\n",
    "img_ras = nib.Nifti1Image(vol_ras, affine)\n",
    "nib.save(img_ras, template_ras_file)\n",
    "\n",
    "# load reference\n",
    "avgt = nib.load('/Users/mahdi/stage-2022-mahdi/src/AVGT.nii.gz')\n",
    "ref_vol = avgt.get_fdata()\n",
    "\n",
    "# load moving\n",
    "allen = nib.load('/Users/mahdi/stage-2022-mahdi/src/allen_template_25_manualRAS.nii.gz')\n",
    "allen_vol = allen.get_fdata()\n",
    "\n",
    "\n",
    "allen_vol = allen_vol.astype(float)\n",
    "ref_vol = ref_vol.astype(float)\n",
    "\n",
    "fixed = ants.from_numpy( ref_vol ).resample_image((164, 212, 158),1,0)\n",
    "moving = ants.from_numpy( allen_vol ).resample_image((164, 212, 158),1,0)\n",
    "\n",
    "fixed.plot_ortho()\n",
    "moving.plot_ortho()\n",
    "mytx = ants.registration(fixed=fixed , moving=moving, type_of_transform='SyN' )\n",
    "\n",
    "warped_moving = ants.apply_transforms(fixed=fixed, moving=moving, \n",
    "                                          transformlist=mytx['fwdtransforms'])\n",
    "fixed.plot_ortho_double(warped_moving)\n",
    "affine_offset = affine.copy()\n",
    "affine_offset[:,3] + avgt_offset\n",
    "\n",
    "warped_vol = warped_moving.numpy()\n",
    "# Saving the volume (nifti)\n",
    "img = nib.Nifti1Image(warped_vol, affine_offset)\n",
    "nib.save(img, '/Users/mahdi/stage-2022-mahdi/src/template_reg.nii.gz')"
   ]
  },
  {
   "cell_type": "code",
   "execution_count": null,
   "metadata": {},
   "outputs": [],
   "source": [
    "warped_moving.shape"
   ]
  },
  {
   "cell_type": "markdown",
   "metadata": {},
   "source": [
    "### essais nii nibabel ants"
   ]
  },
  {
   "cell_type": "code",
   "execution_count": null,
   "metadata": {},
   "outputs": [],
   "source": [
    "# todo : tester aussi from_nibabel/ to_nibabel (-> .nii.gz)\n",
    "#        nifti_to_ants\n",
    "\n",
    "import ants\n",
    "import nrrd\n",
    "import numpy as np\n",
    "\n",
    "array, metadata = nrrd.read('/Users/mahdi/stage-2022-mahdi/src/average_template_25.nrrd')\n",
    "\n",
    "img = ants.from_numpy(array) # convertir en float\n",
    "\n",
    "orientation = ants.get_orientation(img)\n",
    "\n",
    "print(orientation)"
   ]
  },
  {
   "cell_type": "code",
   "execution_count": null,
   "metadata": {},
   "outputs": [],
   "source": [
    "import ants\n",
    "import numpy as np\n",
    "import matplotlib.pyplot as plt\n",
    "\n",
    "img = ants.image_read(ants.get_ants_data('r16'))\n",
    "mask = ants.get_mask(img, cleanup=15, low_thresh=55)\n",
    "ants.plot(mask)\n",
    "nimg = img * mask\n",
    "ants.plot(nimg,black_bg=False)\n"
   ]
  },
  {
   "cell_type": "code",
   "execution_count": null,
   "metadata": {},
   "outputs": [],
   "source": [
    "import numpy as np\n",
    "import nibabel as nib\n",
    "\n",
    "\n",
    "ants.ANTsImage.pixeltype = np.int32\n",
    "img = nib.load('/Users/mahdi/stage-2022-mahdi/src/288169135_projection_density_50.nii.gz')\n",
    "\n",
    "vol = img.get_fdata().astype(np.float32)\n",
    "\n",
    "img = ants.from_numpy( vol ).resample_image((164, 212, 158),1,0)\n",
    "\n",
    "img.plot_ortho()\n",
    "\n",
    "for z in range(158):\n",
    "    for y in range(212):\n",
    "        for x in range(164):\n",
    "            if vol[x, y, z] < 1e-01:\n",
    "                vol[x, y, z] = 0.0\n",
    "\n",
    "img = ants.from_numpy( vol )\n",
    "\n",
    "img.plot_ortho()\n",
    "\n",
    " # Removing background \n",
    "    # mask = ants.get_mask(warped_moving)\n",
    "    # warped_moving = warped_moving * mask\n",
    "\n",
    "\n",
    "\n",
    "#####BINARIZED FORMULA######    S\n",
    "    #warped_moving = warped_moving > 1e-01"
   ]
  },
  {
   "cell_type": "code",
   "execution_count": null,
   "metadata": {},
   "outputs": [],
   "source": [
    "import cv2\n",
    "\n",
    "tmp = cv2.cvtColor(img.numpy(), cv2.COLOR_BGR2GRAY)\n",
    "_,alpha = cv2.threshold(tmp,0,255,cv2.THRESH_BINARY)\n",
    "b, g, r = cv2.split(img.numpy())\n",
    "rgba = [b,g,r, alpha]\n",
    "dst = cv2.merge(rgba,4)\n"
   ]
  },
  {
   "cell_type": "code",
   "execution_count": null,
   "metadata": {},
   "outputs": [],
   "source": [
    "from PIL import Image\n",
    "import numpy as np\n",
    "\n",
    "image = Image.open('../images/288169135_proj_density_/288169266.jpg')\n",
    "\n",
    "vol = np.asarray(image)\n",
    "\n",
    "img = nib.Nifti1Image(vol, np.eye(4))\n",
    "\n",
    "nib.save(img, '../../niftis/test.nii')"
   ]
  },
  {
   "cell_type": "markdown",
   "metadata": {},
   "source": [
    "# test fusions 2 niftis"
   ]
  },
  {
   "cell_type": "code",
   "execution_count": 1,
   "metadata": {},
   "outputs": [],
   "source": [
    "import ants\n",
    "import numpy as np\n",
    "import nibabel as nib\n",
    "import PIL"
   ]
  },
  {
   "cell_type": "code",
   "execution_count": 17,
   "metadata": {},
   "outputs": [],
   "source": [
    "vol = nib.load('/Users/mahdi/stage-2022-mahdi/niftis/485847695_AIp_R_proj_density_100.nii.gz').get_fdata()\n",
    "voll = nib.load('/Users/mahdi/stage-2022-mahdi/niftis/180403712_ECT_R_proj_density_100.nii.gz').get_fdata()"
   ]
  },
  {
   "cell_type": "code",
   "execution_count": 11,
   "metadata": {},
   "outputs": [
    {
     "name": "stdout",
     "output_type": "stream",
     "text": [
      "0.0 0.0004686765605583787\n"
     ]
    }
   ],
   "source": [
    "print(vol[109,97,117],\n",
    "      voll[109,97,117])   "
   ]
  },
  {
   "cell_type": "code",
   "execution_count": 19,
   "metadata": {},
   "outputs": [
    {
     "name": "stdout",
     "output_type": "stream",
     "text": [
      "0.00012096612044842914 0.0014684608904644847\n"
     ]
    }
   ],
   "source": [
    "print(vol[117,69,76],\n",
    "      voll[117,69,76])"
   ]
  },
  {
   "cell_type": "code",
   "execution_count": 18,
   "metadata": {},
   "outputs": [],
   "source": [
    "rgb = np.zeros((164,212,158,1,1), [('R', 'u1'), ('G','u1'), ('B', 'u1'), ('A', 'u1')])\n",
    "\n",
    "for i in range(164):\n",
    "    for j in range(212):\n",
    "        for k in range(158):\n",
    "            if vol[i,j,k] == 0.0 and voll[i,j,k] == 0.0:\n",
    "                rgb[i,j,k] = (0, 0, 0, 0)\n",
    "            else:\n",
    "                rgb[i,j,k] = (vol[i,j,k] * 255, voll[i,j,k] * 255, 0, 255)\n",
    "\n",
    "img_ = nib.Nifti1Image(rgb, affine)\n",
    "nib.save(img_, '/Users/mahdi/stage-2022-mahdi/niftis/rbg_180601025_183171679.nii.gz')"
   ]
  },
  {
   "cell_type": "code",
   "execution_count": 21,
   "metadata": {},
   "outputs": [
    {
     "name": "stdout",
     "output_type": "stream",
     "text": [
      "[[(0, 0, 0, 255)]]\n"
     ]
    }
   ],
   "source": [
    "print(rgb[117,69,76])"
   ]
  },
  {
   "cell_type": "code",
   "execution_count": 3,
   "metadata": {},
   "outputs": [],
   "source": [
    "vol1 = nib.load('/Users/mahdi/stage-2022-mahdi/niftis/288169135_MOp_R_proj_density_25.nii.gz').get_fdata()\n",
    "vol2 = nib.load('/Users/mahdi/stage-2022-mahdi/niftis/100141563_MOp_R_proj_density_25.nii.gz').get_fdata()\n",
    "vol3 = nib.load('/Users/mahdi/stage-2022-mahdi/niftis/603468246_ENTm_L_proj_density_25.nii.gz').get_fdata()\n",
    "\n",
    "v4 = nib.load('/Users/mahdi/Downloads/180601025_SSp-un_R_proj_density_25.nii.gz').get_fdata()\n",
    "v5 = nib.load('/Users/mahdi/Downloads/183171679_SSp-bfd_R_proj_density_25.nii.gz').get_fdata()"
   ]
  },
  {
   "cell_type": "code",
   "execution_count": 15,
   "metadata": {},
   "outputs": [],
   "source": [
    "affine = nib.load('/Users/mahdi/stage-2022-mahdi/utils/AVGT.nii.gz').affine"
   ]
  },
  {
   "cell_type": "code",
   "execution_count": 4,
   "metadata": {},
   "outputs": [],
   "source": [
    "rgb = np.zeros((164,212,158,1,1), [('R', 'u1'), ('G','u1'), ('B', 'u1'), ('A', 'u1')])\n",
    "\n",
    "for i in range(164):\n",
    "    for j in range(212):\n",
    "        for k in range(158):\n",
    "            if v4[i,j,k] == 0 and v5[i,j,k] == 0:\n",
    "                rgb[i,j,k] = (0, 0, 0, 0)\n",
    "            else:\n",
    "                rgb[i,j,k] = (v5[i,j,k] * 255, v4[i,j,k] * 255, 0, 255)\n",
    "\n",
    "img_ = nib.Nifti1Image(rgb, affine)\n",
    "nib.save(img_, '/Users/mahdi/stage-2022-mahdi/niftis/rbg_180601025_183171679.nii.gz')"
   ]
  },
  {
   "cell_type": "markdown",
   "metadata": {},
   "source": [
    "## Test creation volume RGB"
   ]
  },
  {
   "cell_type": "code",
   "execution_count": 5,
   "metadata": {},
   "outputs": [],
   "source": [
    "arr = np.zeros((164,212,158,1,1), [('R', 'u1'), ('G','u1'), ('B', 'u1'), ('A', 'u1')])\n",
    "\n",
    "for i in range(164):\n",
    "    for j in range(212):\n",
    "        for k in range(158):\n",
    "            if vol1[i,j,k] == 0 and vol2[i,j,k] == 0:\n",
    "                arr[i,j,k] = (0, 0, 0, 0)\n",
    "            else:\n",
    "                arr[i,j,k] = (vol1[i,j,k] * 255, vol2[i,j,k] * 255, 0, 255)\n"
   ]
  },
  {
   "cell_type": "code",
   "execution_count": 6,
   "metadata": {},
   "outputs": [
    {
     "name": "stdout",
     "output_type": "stream",
     "text": [
      "(255, 62, 0, 255)\n",
      "(0, 0, 0, 0)\n"
     ]
    }
   ],
   "source": [
    "print(arr[101,127,118,0,0])\n",
    "print(arr[51,103,65,0,0])"
   ]
  },
  {
   "cell_type": "code",
   "execution_count": 7,
   "metadata": {},
   "outputs": [],
   "source": [
    "img = nib.Nifti1Image(arr, affine)\n",
    "nib.save(img, '/Users/mahdi/stage-2022-mahdi/niftis/rbg.nii.gz')"
   ]
  },
  {
   "cell_type": "code",
   "execution_count": 150,
   "metadata": {},
   "outputs": [
    {
     "name": "stdout",
     "output_type": "stream",
     "text": [
      "[('R', 'u1'), ('G', 'u1'), ('B', 'u1'), ('A', 'u1')]\n",
      "<class 'nibabel.nifti1.Nifti1Header'> object, endian='<'\n",
      "sizeof_hdr      : 348\n",
      "data_type       : b''\n",
      "db_name         : b''\n",
      "extents         : 0\n",
      "session_error   : 0\n",
      "regular         : b''\n",
      "dim_info        : 0\n",
      "dim             : [  5 164 212 158   1   1   1   1]\n",
      "intent_p1       : 0.0\n",
      "intent_p2       : 0.0\n",
      "intent_p3       : 0.0\n",
      "intent_code     : none\n",
      "datatype        : RGBA\n",
      "bitpix          : 32\n",
      "slice_start     : 0\n",
      "pixdim          : [1.         0.06999999 0.06999999 0.06999999 1.         1.\n",
      " 1.         1.        ]\n",
      "vox_offset      : 0.0\n",
      "scl_slope       : nan\n",
      "scl_inter       : nan\n",
      "slice_end       : 0\n",
      "slice_code      : unknown\n",
      "xyzt_units      : 0\n",
      "cal_max         : 0.0\n",
      "cal_min         : 0.0\n",
      "slice_duration  : 0.0\n",
      "toffset         : 0.0\n",
      "glmax           : 0\n",
      "glmin           : 0\n",
      "descrip         : b''\n",
      "aux_file        : b''\n",
      "qform_code      : unknown\n",
      "sform_code      : aligned\n",
      "quatern_b       : 0.0\n",
      "quatern_c       : 0.0\n",
      "quatern_d       : 0.0\n",
      "qoffset_x       : -5.675\n",
      "qoffset_y       : -8.79448\n",
      "qoffset_z       : -8.450335\n",
      "srow_x          : [ 0.06999999  0.          0.         -5.675     ]\n",
      "srow_y          : [ 0.          0.06999999  0.         -8.79448   ]\n",
      "srow_z          : [ 0.          0.          0.06999999 -8.450335  ]\n",
      "intent_name     : b''\n",
      "magic           : b'n+1'\n"
     ]
    }
   ],
   "source": [
    "fname = '/Users/mahdi/stage-2022-mahdi/niftis/rbg.nii.gz'\n",
    "im = nib.load(fname)\n",
    "print(im.get_data_dtype())\n",
    "print(im.header)"
   ]
  },
  {
   "cell_type": "markdown",
   "metadata": {},
   "source": [
    "# Mosaic"
   ]
  },
  {
   "cell_type": "code",
   "execution_count": 2,
   "metadata": {},
   "outputs": [],
   "source": [
    "import ants\n",
    "import numpy as np\n",
    "import nibabel as nib"
   ]
  },
  {
   "cell_type": "code",
   "execution_count": 3,
   "metadata": {},
   "outputs": [],
   "source": [
    "template = nib.load('/Users/mahdi/stage-2022-mahdi/niftis/allen_volume_100.nii.gz')\n",
    "xroi_mask = nib.load('/Users/mahdi/stage-2022-mahdi/niftis/485847695_180403712_crossing_25/485847695_180403712_x-rois_mask_25.nii.gz')"
   ]
  },
  {
   "cell_type": "code",
   "execution_count": 4,
   "metadata": {},
   "outputs": [],
   "source": [
    "template_arr = template.get_fdata()\n",
    "xroi_mask_arr = xroi_mask.get_fdata()"
   ]
  },
  {
   "cell_type": "code",
   "execution_count": 14,
   "metadata": {},
   "outputs": [],
   "source": [
    "xroi = (template_arr * xroi_mask_arr).clip(0,255).astype(np.uint8)"
   ]
  },
  {
   "cell_type": "code",
   "execution_count": 17,
   "metadata": {},
   "outputs": [],
   "source": [
    "xroi_img = nib.Nifti1Image(xroi, affine)\n",
    "nib.save(xroi_img, \"/Users/mahdi/stage-2022-mahdi/niftis/xroi.nii.gz\")"
   ]
  }
 ],
 "metadata": {
  "interpreter": {
   "hash": "89bcfc095d93340fd71944c2b6d026b0e5cbee18d73e5518fd1156fb5e6b8805"
  },
  "kernelspec": {
   "display_name": "Python 3.6.13 ('allen2tract')",
   "language": "python",
   "name": "python3"
  },
  "language_info": {
   "codemirror_mode": {
    "name": "ipython",
    "version": 3
   },
   "file_extension": ".py",
   "mimetype": "text/x-python",
   "name": "python",
   "nbconvert_exporter": "python",
   "pygments_lexer": "ipython3",
   "version": "3.6.13"
  },
  "orig_nbformat": 4
 },
 "nbformat": 4,
 "nbformat_minor": 2
}
