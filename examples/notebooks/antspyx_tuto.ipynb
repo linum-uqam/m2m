{
 "cells": [
  {
   "cell_type": "code",
   "execution_count": null,
   "metadata": {},
   "outputs": [],
   "source": [
    "import ants\n",
    "import numpy as np"
   ]
  },
  {
   "cell_type": "code",
   "execution_count": null,
   "metadata": {},
   "outputs": [],
   "source": [
    "fname1 = ants.get_ants_data('r16')\n",
    "fname2 = ants.get_ants_data('r64')\n",
    "print(fname1)\n",
    "print(fname2)"
   ]
  },
  {
   "cell_type": "code",
   "execution_count": null,
   "metadata": {},
   "outputs": [],
   "source": [
    "img1 = ants.image_read(fname1)\n",
    "img2 = ants.image_read(fname2)\n",
    "print(img1)"
   ]
  },
  {
   "cell_type": "code",
   "execution_count": null,
   "metadata": {},
   "outputs": [],
   "source": [
    "arr_4d = np.random.randn(70,70,70,10).astype('float32')\n",
    "img_fmri = ants.from_numpy(arr_4d, has_components=True)\n",
    "print(img_fmri)\n",
    "\n",
    "# todo : tester aussi from_nibabel/ to_nibabel (-> .nii.gz)\n",
    "#        nifti_to_ants"
   ]
  },
  {
   "cell_type": "code",
   "execution_count": null,
   "metadata": {},
   "outputs": [],
   "source": [
    "img = ants.image_read(ants.get_ants_data('r16'))\n",
    "img = ants.resample_image(img, (64,64), 1, 0)\n",
    "mask = ants.get_mask(img)\n",
    "img_seg = ants.atropos(a=img, \n",
    "                       m='[0.2,1x1]', \n",
    "                       c='[2,0]', \n",
    "                       i='kmeans[3]', \n",
    "                       x=mask)\n",
    "print(img_seg.keys())\n",
    "ants.plot(img_seg['segmentation'])"
   ]
  },
  {
   "cell_type": "code",
   "execution_count": null,
   "metadata": {},
   "outputs": [],
   "source": [
    "mg = ants.image_read( ants.get_ants_data('r16') ,2)\n",
    "mask = ants.get_mask( img ).threshold_image( 1, 2 )\n",
    "segs=ants.atropos( a = img, \n",
    "                   m = '[0.2,1x1]', \n",
    "                   c = '[2,0]',  \n",
    "                   i = 'kmeans[3]', \n",
    "                   x = mask )\n",
    "thickimg = ants.kelly_kapowski(s=segs['segmentation'], \n",
    "                               g=segs['probabilityimages'][1],\n",
    "                               w=segs['probabilityimages'][2], \n",
    "                               its=45, \n",
    "                               r=0.5, \n",
    "                               m=1)\n",
    "print(thickimg)\n",
    "img.plot(overlay=thickimg, overlay_cmap='jet')"
   ]
  },
  {
   "cell_type": "markdown",
   "metadata": {},
   "source": [
    "# Transform manually template "
   ]
  },
  {
   "cell_type": "code",
   "execution_count": null,
   "metadata": {},
   "outputs": [],
   "source": [
    "import nrrd\n",
    "import nibabel as nib\n",
    "import numpy as np\n",
    "import os\n",
    "from pathlib import Path\n",
    "\n",
    "template_file = '/Users/mahdi/stage-2022-mahdi/src/allen_template_25.nii.gz'\n",
    "template_ras_file = \"/Users/mahdi/stage-2022-mahdi/src/allen_template_25_manualRAS.nii.gz\"\n",
    "\n",
    "resolution = 25\n",
    "res_avgt_mm = 70 / 1e3\n",
    "avgt_offset = np.array([-5.675, -8.79448, -8.450335, 0])\n",
    "\n",
    "# Load and manually transform the template\n",
    "vol = nib.load(template_file).get_fdata()\n",
    "\n",
    "vol_ras = np.moveaxis(vol, (0,1,2), (1,2,0))\n",
    "vol_ras = np.flip(vol_ras, axis=2)\n",
    "vol_ras = np.flip(vol_ras, axis=1)\n",
    "\n",
    "affine = np.eye(4) * res_avgt_mm\n",
    "\n",
    "img_ras = nib.Nifti1Image(vol_ras, affine)\n",
    "nib.save(img_ras, template_ras_file)\n",
    "\n",
    "# load reference\n",
    "avgt = nib.load('/Users/mahdi/stage-2022-mahdi/src/AVGT.nii.gz')\n",
    "ref_vol = avgt.get_fdata()\n",
    "\n",
    "# load moving\n",
    "allen = nib.load('/Users/mahdi/stage-2022-mahdi/src/allen_template_25_manualRAS.nii.gz')\n",
    "allen_vol = allen.get_fdata()\n",
    "\n",
    "\n",
    "allen_vol = allen_vol.astype(float)\n",
    "ref_vol = ref_vol.astype(float)\n",
    "\n",
    "fixed = ants.from_numpy( ref_vol ).resample_image((164, 212, 158),1,0)\n",
    "moving = ants.from_numpy( allen_vol ).resample_image((164, 212, 158),1,0)\n",
    "\n",
    "fixed.plot_ortho()\n",
    "moving.plot_ortho()\n",
    "mytx = ants.registration(fixed=fixed , moving=moving, type_of_transform='SyN' )\n",
    "\n",
    "warped_moving = ants.apply_transforms(fixed=fixed, moving=moving, \n",
    "                                          transformlist=mytx['fwdtransforms'])\n",
    "fixed.plot_ortho_double(warped_moving)\n",
    "affine_offset = affine.copy()\n",
    "affine_offset[:,3] + avgt_offset\n",
    "\n",
    "warped_vol = warped_moving.numpy()\n",
    "# Saving the volume (nifti)\n",
    "img = nib.Nifti1Image(warped_vol, affine_offset)\n",
    "nib.save(img, '/Users/mahdi/stage-2022-mahdi/src/template_reg.nii.gz')"
   ]
  },
  {
   "cell_type": "code",
   "execution_count": null,
   "metadata": {},
   "outputs": [],
   "source": [
    "warped_moving.shape"
   ]
  },
  {
   "cell_type": "markdown",
   "metadata": {},
   "source": [
    "### essais nii nibabel ants"
   ]
  },
  {
   "cell_type": "code",
   "execution_count": null,
   "metadata": {},
   "outputs": [],
   "source": [
    "# todo : tester aussi from_nibabel/ to_nibabel (-> .nii.gz)\n",
    "#        nifti_to_ants\n",
    "\n",
    "import ants\n",
    "import nrrd\n",
    "import numpy as np\n",
    "\n",
    "array, metadata = nrrd.read('/Users/mahdi/stage-2022-mahdi/src/average_template_25.nrrd')\n",
    "\n",
    "img = ants.from_numpy(array) # convertir en float\n",
    "\n",
    "orientation = ants.get_orientation(img)\n",
    "\n",
    "print(orientation)"
   ]
  },
  {
   "cell_type": "code",
   "execution_count": null,
   "metadata": {},
   "outputs": [],
   "source": [
    "import ants\n",
    "import numpy as np\n",
    "import matplotlib.pyplot as plt\n",
    "\n",
    "img = ants.image_read(ants.get_ants_data('r16'))\n",
    "mask = ants.get_mask(img, cleanup=15, low_thresh=55)\n",
    "ants.plot(mask)\n",
    "nimg = img * mask\n",
    "ants.plot(nimg,black_bg=False)\n"
   ]
  },
  {
   "cell_type": "code",
   "execution_count": null,
   "metadata": {},
   "outputs": [],
   "source": [
    "import numpy as np\n",
    "import nibabel as nib\n",
    "\n",
    "\n",
    "ants.ANTsImage.pixeltype = np.int32\n",
    "img = nib.load('/Users/mahdi/stage-2022-mahdi/src/288169135_projection_density_50.nii.gz')\n",
    "\n",
    "vol = img.get_fdata().astype(np.float32)\n",
    "\n",
    "img = ants.from_numpy( vol ).resample_image((164, 212, 158),1,0)\n",
    "\n",
    "img.plot_ortho()\n",
    "\n",
    "for z in range(158):\n",
    "    for y in range(212):\n",
    "        for x in range(164):\n",
    "            if vol[x, y, z] < 1e-01:\n",
    "                vol[x, y, z] = 0.0\n",
    "\n",
    "img = ants.from_numpy( vol )\n",
    "\n",
    "img.plot_ortho()\n",
    "\n",
    " # Removing background \n",
    "    # mask = ants.get_mask(warped_moving)\n",
    "    # warped_moving = warped_moving * mask\n",
    "\n",
    "\n",
    "\n",
    "#####BINARIZED FORMULA######    S\n",
    "    #warped_moving = warped_moving > 1e-01"
   ]
  },
  {
   "cell_type": "code",
   "execution_count": null,
   "metadata": {},
   "outputs": [],
   "source": [
    "import cv2\n",
    "\n",
    "tmp = cv2.cvtColor(img.numpy(), cv2.COLOR_BGR2GRAY)\n",
    "_,alpha = cv2.threshold(tmp,0,255,cv2.THRESH_BINARY)\n",
    "b, g, r = cv2.split(img.numpy())\n",
    "rgba = [b,g,r, alpha]\n",
    "dst = cv2.merge(rgba,4)\n"
   ]
  },
  {
   "cell_type": "code",
   "execution_count": null,
   "metadata": {},
   "outputs": [],
   "source": [
    "from PIL import Image\n",
    "import numpy as np\n",
    "\n",
    "image = Image.open('../images/288169135_proj_density_/288169266.jpg')\n",
    "\n",
    "vol = np.asarray(image)\n",
    "\n",
    "img = nib.Nifti1Image(vol, np.eye(4))\n",
    "\n",
    "nib.save(img, '../../niftis/test.nii')"
   ]
  },
  {
   "cell_type": "markdown",
   "metadata": {},
   "source": [
    "# test fusions 2 niftis"
   ]
  },
  {
   "cell_type": "code",
   "execution_count": 1,
   "metadata": {},
   "outputs": [],
   "source": [
    "import ants\n",
    "import numpy as np\n",
    "import nibabel as nib\n",
    "import PIL"
   ]
  },
  {
   "cell_type": "code",
   "execution_count": 17,
   "metadata": {},
   "outputs": [],
   "source": [
    "vol = nib.load('/Users/mahdi/stage-2022-mahdi/niftis/485847695_AIp_R_proj_density_100.nii.gz').get_fdata()\n",
    "voll = nib.load('/Users/mahdi/stage-2022-mahdi/niftis/180403712_ECT_R_proj_density_100.nii.gz').get_fdata()"
   ]
  },
  {
   "cell_type": "code",
   "execution_count": 11,
   "metadata": {},
   "outputs": [
    {
     "name": "stdout",
     "output_type": "stream",
     "text": [
      "0.0 0.0004686765605583787\n"
     ]
    }
   ],
   "source": [
    "print(vol[109,97,117],\n",
    "      voll[109,97,117])   "
   ]
  },
  {
   "cell_type": "code",
   "execution_count": 19,
   "metadata": {},
   "outputs": [
    {
     "name": "stdout",
     "output_type": "stream",
     "text": [
      "0.00012096612044842914 0.0014684608904644847\n"
     ]
    }
   ],
   "source": [
    "print(vol[117,69,76],\n",
    "      voll[117,69,76])"
   ]
  },
  {
   "cell_type": "code",
   "execution_count": 18,
   "metadata": {},
   "outputs": [],
   "source": [
    "rgb = np.zeros((164,212,158,1,1), [('R', 'u1'), ('G','u1'), ('B', 'u1'), ('A', 'u1')])\n",
    "\n",
    "for i in range(164):\n",
    "    for j in range(212):\n",
    "        for k in range(158):\n",
    "            if vol[i,j,k] == 0.0 and voll[i,j,k] == 0.0:\n",
    "                rgb[i,j,k] = (0, 0, 0, 0)\n",
    "            else:\n",
    "                rgb[i,j,k] = (vol[i,j,k] * 255, voll[i,j,k] * 255, 0, 255)\n",
    "\n",
    "img_ = nib.Nifti1Image(rgb, affine)\n",
    "nib.save(img_, '/Users/mahdi/stage-2022-mahdi/niftis/rbg_180601025_183171679.nii.gz')"
   ]
  },
  {
   "cell_type": "code",
   "execution_count": 21,
   "metadata": {},
   "outputs": [
    {
     "name": "stdout",
     "output_type": "stream",
     "text": [
      "[[(0, 0, 0, 255)]]\n"
     ]
    }
   ],
   "source": [
    "print(rgb[117,69,76])"
   ]
  },
  {
   "cell_type": "code",
   "execution_count": 3,
   "metadata": {},
   "outputs": [],
   "source": [
    "vol1 = nib.load('/Users/mahdi/stage-2022-mahdi/niftis/288169135_MOp_R_proj_density_25.nii.gz').get_fdata()\n",
    "vol2 = nib.load('/Users/mahdi/stage-2022-mahdi/niftis/100141563_MOp_R_proj_density_25.nii.gz').get_fdata()\n",
    "vol3 = nib.load('/Users/mahdi/stage-2022-mahdi/niftis/603468246_ENTm_L_proj_density_25.nii.gz').get_fdata()\n",
    "\n",
    "v4 = nib.load('/Users/mahdi/Downloads/180601025_SSp-un_R_proj_density_25.nii.gz').get_fdata()\n",
    "v5 = nib.load('/Users/mahdi/Downloads/183171679_SSp-bfd_R_proj_density_25.nii.gz').get_fdata()"
   ]
  },
  {
   "cell_type": "code",
   "execution_count": 15,
   "metadata": {},
   "outputs": [],
   "source": [
    "affine = nib.load('/Users/mahdi/stage-2022-mahdi/utils/AVGT.nii.gz').affine"
   ]
  },
  {
   "cell_type": "code",
   "execution_count": 4,
   "metadata": {},
   "outputs": [],
   "source": [
    "rgb = np.zeros((164,212,158,1,1), [('R', 'u1'), ('G','u1'), ('B', 'u1'), ('A', 'u1')])\n",
    "\n",
    "for i in range(164):\n",
    "    for j in range(212):\n",
    "        for k in range(158):\n",
    "            if v4[i,j,k] == 0 and v5[i,j,k] == 0:\n",
    "                rgb[i,j,k] = (0, 0, 0, 0)\n",
    "            else:\n",
    "                rgb[i,j,k] = (v5[i,j,k] * 255, v4[i,j,k] * 255, 0, 255)\n",
    "\n",
    "img_ = nib.Nifti1Image(rgb, affine)\n",
    "nib.save(img_, '/Users/mahdi/stage-2022-mahdi/niftis/rbg_180601025_183171679.nii.gz')"
   ]
  },
  {
   "cell_type": "markdown",
   "metadata": {},
   "source": [
    "## Test creation volume RGB"
   ]
  },
  {
   "cell_type": "code",
   "execution_count": 5,
   "metadata": {},
   "outputs": [],
   "source": [
    "arr = np.zeros((164,212,158,1,1), [('R', 'u1'), ('G','u1'), ('B', 'u1'), ('A', 'u1')])\n",
    "\n",
    "for i in range(164):\n",
    "    for j in range(212):\n",
    "        for k in range(158):\n",
    "            if vol1[i,j,k] == 0 and vol2[i,j,k] == 0:\n",
    "                arr[i,j,k] = (0, 0, 0, 0)\n",
    "            else:\n",
    "                arr[i,j,k] = (vol1[i,j,k] * 255, vol2[i,j,k] * 255, 0, 255)\n"
   ]
  },
  {
   "cell_type": "code",
   "execution_count": 6,
   "metadata": {},
   "outputs": [
    {
     "name": "stdout",
     "output_type": "stream",
     "text": [
      "(255, 62, 0, 255)\n",
      "(0, 0, 0, 0)\n"
     ]
    }
   ],
   "source": [
    "print(arr[101,127,118,0,0])\n",
    "print(arr[51,103,65,0,0])"
   ]
  },
  {
   "cell_type": "code",
   "execution_count": 7,
   "metadata": {},
   "outputs": [],
   "source": [
    "img = nib.Nifti1Image(arr, affine)\n",
    "nib.save(img, '/Users/mahdi/stage-2022-mahdi/niftis/rbg.nii.gz')"
   ]
  },
  {
   "cell_type": "code",
   "execution_count": 150,
   "metadata": {},
   "outputs": [
    {
     "name": "stdout",
     "output_type": "stream",
     "text": [
      "[('R', 'u1'), ('G', 'u1'), ('B', 'u1'), ('A', 'u1')]\n",
      "<class 'nibabel.nifti1.Nifti1Header'> object, endian='<'\n",
      "sizeof_hdr      : 348\n",
      "data_type       : b''\n",
      "db_name         : b''\n",
      "extents         : 0\n",
      "session_error   : 0\n",
      "regular         : b''\n",
      "dim_info        : 0\n",
      "dim             : [  5 164 212 158   1   1   1   1]\n",
      "intent_p1       : 0.0\n",
      "intent_p2       : 0.0\n",
      "intent_p3       : 0.0\n",
      "intent_code     : none\n",
      "datatype        : RGBA\n",
      "bitpix          : 32\n",
      "slice_start     : 0\n",
      "pixdim          : [1.         0.06999999 0.06999999 0.06999999 1.         1.\n",
      " 1.         1.        ]\n",
      "vox_offset      : 0.0\n",
      "scl_slope       : nan\n",
      "scl_inter       : nan\n",
      "slice_end       : 0\n",
      "slice_code      : unknown\n",
      "xyzt_units      : 0\n",
      "cal_max         : 0.0\n",
      "cal_min         : 0.0\n",
      "slice_duration  : 0.0\n",
      "toffset         : 0.0\n",
      "glmax           : 0\n",
      "glmin           : 0\n",
      "descrip         : b''\n",
      "aux_file        : b''\n",
      "qform_code      : unknown\n",
      "sform_code      : aligned\n",
      "quatern_b       : 0.0\n",
      "quatern_c       : 0.0\n",
      "quatern_d       : 0.0\n",
      "qoffset_x       : -5.675\n",
      "qoffset_y       : -8.79448\n",
      "qoffset_z       : -8.450335\n",
      "srow_x          : [ 0.06999999  0.          0.         -5.675     ]\n",
      "srow_y          : [ 0.          0.06999999  0.         -8.79448   ]\n",
      "srow_z          : [ 0.          0.          0.06999999 -8.450335  ]\n",
      "intent_name     : b''\n",
      "magic           : b'n+1'\n"
     ]
    }
   ],
   "source": [
    "fname = '/Users/mahdi/stage-2022-mahdi/niftis/rbg.nii.gz'\n",
    "im = nib.load(fname)\n",
    "print(im.get_data_dtype())\n",
    "print(im.header)"
   ]
  },
  {
   "cell_type": "markdown",
   "metadata": {},
   "source": [
    "# Mosaic"
   ]
  },
  {
   "cell_type": "code",
   "execution_count": 3,
   "metadata": {},
   "outputs": [],
   "source": [
    "import ants\n",
    "import numpy as np\n",
    "import nibabel as nib"
   ]
  },
  {
   "cell_type": "code",
   "execution_count": 3,
   "metadata": {},
   "outputs": [],
   "source": [
    "template = nib.load('/Users/mahdi/stage-2022-mahdi/niftis/allen_volume_100.nii.gz')\n",
    "xroi_mask = nib.load('/Users/mahdi/stage-2022-mahdi/niftis/485847695_180403712_crossing_25/485847695_180403712_x-rois_mask_25.nii.gz')"
   ]
  },
  {
   "cell_type": "code",
   "execution_count": 4,
   "metadata": {},
   "outputs": [],
   "source": [
    "template_arr = template.get_fdata()\n",
    "xroi_mask_arr = xroi_mask.get_fdata()"
   ]
  },
  {
   "cell_type": "code",
   "execution_count": 14,
   "metadata": {},
   "outputs": [],
   "source": [
    "xroi = (template_arr * xroi_mask_arr).clip(0,255).astype(np.uint8)"
   ]
  },
  {
   "cell_type": "code",
   "execution_count": 17,
   "metadata": {},
   "outputs": [],
   "source": [
    "xroi_img = nib.Nifti1Image(xroi, affine)\n",
    "nib.save(xroi_img, \"/Users/mahdi/stage-2022-mahdi/niftis/xroi.nii.gz\")"
   ]
  },
  {
   "cell_type": "markdown",
   "metadata": {},
   "source": [
    "# Tracto to avgt"
   ]
  },
  {
   "cell_type": "code",
   "execution_count": 4,
   "metadata": {},
   "outputs": [],
   "source": [
    "import ants\n",
    "import numpy as np\n",
    "import nibabel as nib\n",
    "import nibabel.streamlines as nis\n",
    "from dipy.io.streamline import load_tractogram, save_tractogram"
   ]
  },
  {
   "cell_type": "code",
   "execution_count": 15,
   "metadata": {},
   "outputs": [],
   "source": [
    "avgt = nib.load('/Users/mahdi/stage-2022-mahdi/AVGT.nii.gz')\n",
    "affine = avgt.affine\n",
    "ref_vol = avgt.get_fdata()\n",
    "shape = avgt.shape"
   ]
  },
  {
   "cell_type": "code",
   "execution_count": 444,
   "metadata": {},
   "outputs": [
    {
     "name": "stdout",
     "output_type": "stream",
     "text": [
      "[[ 0.06999999  0.          0.         -5.67500019]\n",
      " [ 0.          0.06999999  0.         -8.79448032]\n",
      " [ 0.          0.          0.06999999 -8.45033455]\n",
      " [ 0.          0.          0.          1.        ]]\n"
     ]
    }
   ],
   "source": [
    "print(affine)"
   ]
  },
  {
   "cell_type": "code",
   "execution_count": 154,
   "metadata": {},
   "outputs": [],
   "source": [
    "tract = load_tractogram('/Users/mahdi/stage-2022-mahdi/niftis/allen_wildtype_tractogram.tck')"
   ]
  },
  {
   "cell_type": "code",
   "execution_count": 155,
   "metadata": {},
   "outputs": [],
   "source": [
    "data_mm_allen = tract[0].get_data()"
   ]
  },
  {
   "cell_type": "code",
   "execution_count": 156,
   "metadata": {},
   "outputs": [],
   "source": [
    "B = np.array([[ 0.05,  0,        0,      0],\n",
    "             [  0,    -0.05,     0,      0],\n",
    "             [  0,     0,       -0.05,   0],\n",
    "             [  0,     0,        0,      1]])"
   ]
  },
  {
   "cell_type": "code",
   "execution_count": 157,
   "metadata": {},
   "outputs": [],
   "source": [
    "data_vox_allen = []"
   ]
  },
  {
   "cell_type": "code",
   "execution_count": 160,
   "metadata": {},
   "outputs": [],
   "source": [
    "for point in data_mm_allen:\n",
    "    point_mm = np.concatenate((point, np.ndarray(1)))\n",
    "    point_voxel = (np.linalg.inv(B) @ point_mm)\n",
    "    point = point_voxel[0:3]\n",
    "    data_vox_allen.append(point)"
   ]
  },
  {
   "cell_type": "code",
   "execution_count": 161,
   "metadata": {},
   "outputs": [
    {
     "name": "stdout",
     "output_type": "stream",
     "text": [
      "[ 4.40700006 -5.55600023 -6.98899984] [  88.1400013   111.12000465  139.77999687]\n"
     ]
    }
   ],
   "source": [
    "print(data_mm_allen[1], data_vox_allen[1])"
   ]
  },
  {
   "cell_type": "code",
   "execution_count": 162,
   "metadata": {},
   "outputs": [],
   "source": [
    "data_vox_avgt = []"
   ]
  },
  {
   "cell_type": "code",
   "execution_count": 163,
   "metadata": {},
   "outputs": [],
   "source": [
    "tx25 = ants.read_transform('/Users/mahdi/stage-2022-mahdi/transformations_allen2avgt/allen2avgtAffine_50.mat')\n",
    "itx25 = tx25.invert()"
   ]
  },
  {
   "cell_type": "code",
   "execution_count": 164,
   "metadata": {},
   "outputs": [
    {
     "name": "stdout",
     "output_type": "stream",
     "text": [
      "(99.83096313476562, -101.90909576416016, 3.2597193717956543)\n"
     ]
    }
   ],
   "source": [
    "print(itx25.apply_to_point([139.77999687, -175.8599987,    48.87999535 ]))"
   ]
  },
  {
   "cell_type": "code",
   "execution_count": 165,
   "metadata": {},
   "outputs": [],
   "source": [
    "def pir_ras(coords, pir):\n",
    "    p, i, r = pir[0], pir[1], pir[2]\n",
    "    x, y, z = coords[0], coords[1], coords[2]\n",
    "    x_, y_, z_ = z, p-x, i-y\n",
    "    return [x_, y_, z_]"
   ]
  },
  {
   "cell_type": "code",
   "execution_count": 166,
   "metadata": {},
   "outputs": [],
   "source": [
    "for point in data_vox_allen:\n",
    "    allen_ras = pir_ras([point[0], point[1], point[2]], (264,160,228))\n",
    "    point = itx25.apply_to_point(allen_ras)\n",
    "    pt = [point[0], point[1], point[2]]\n",
    "    data_vox_avgt.append(pt)"
   ]
  },
  {
   "cell_type": "code",
   "execution_count": 167,
   "metadata": {},
   "outputs": [
    {
     "name": "stdout",
     "output_type": "stream",
     "text": [
      "26551916 [99.82926940917969, 141.4864501953125, 65.3900375366211]\n"
     ]
    }
   ],
   "source": [
    "print(len(data_vox_avgt), data_vox_avgt[1])"
   ]
  },
  {
   "cell_type": "code",
   "execution_count": 168,
   "metadata": {},
   "outputs": [],
   "source": [
    "data_mm_avgt = []"
   ]
  },
  {
   "cell_type": "code",
   "execution_count": 169,
   "metadata": {},
   "outputs": [],
   "source": [
    "A = np.array([[-0.07,  0,        0,      5.675  ],\n",
    "             [  0,    -0.07,     0,      8.79448],\n",
    "             [  0,     0,        0.07,  -8.40533],\n",
    "             [  0,     0,        0,      1      ]])"
   ]
  },
  {
   "cell_type": "code",
   "execution_count": 170,
   "metadata": {},
   "outputs": [],
   "source": [
    "def mibrain_voxel2mm_RAS(coords_voxel, A):\n",
    "    x, y, z = coords_voxel[0], coords_voxel[1], coords_voxel[2]\n",
    "    coords_voxel = np.array([x, y, z, 1])\n",
    "    coords_mm = A @ coords_voxel\n",
    "\n",
    "    return coords_mm[0:3]\n"
   ]
  },
  {
   "cell_type": "code",
   "execution_count": 171,
   "metadata": {},
   "outputs": [],
   "source": [
    "for point in data_vox_avgt:\n",
    "    mm = mibrain_voxel2mm_RAS(point, A)\n",
    "    data_mm_avgt.append(mm)"
   ]
  },
  {
   "cell_type": "code",
   "execution_count": 172,
   "metadata": {},
   "outputs": [
    {
     "name": "stdout",
     "output_type": "stream",
     "text": [
      "[ 4.40700006 -5.55600023 -6.98899984] [  88.1400013   111.12000465  139.77999687] [99.82926940917969, 141.4864501953125, 65.3900375366211] [-1.31304886 -1.10957151 -3.82802737]\n"
     ]
    }
   ],
   "source": [
    "print(data_mm_allen[1], data_vox_allen[1], data_vox_avgt[1], data_mm_avgt[1])"
   ]
  },
  {
   "cell_type": "code",
   "execution_count": 173,
   "metadata": {},
   "outputs": [],
   "source": [
    "array_sequence = nis.ArraySequence(np.array([data_mm_avgt]))"
   ]
  },
  {
   "cell_type": "code",
   "execution_count": 174,
   "metadata": {},
   "outputs": [],
   "source": [
    "save_tractogram(\n",
    "    fname=\"/Users/mahdi/stage-2022-mahdi/niftis/tracto_avgt.trk\",\n",
    "    streamlines=array_sequence,\n",
    "    affine=np.eye(4),\n",
    "    )"
   ]
  },
  {
   "cell_type": "code",
   "execution_count": 41,
   "metadata": {},
   "outputs": [],
   "source": [
    "avgt_tract = load_tractogram('/Users/mahdi/stage-2022-mahdi/niftis/tracto_avgt.tck')"
   ]
  },
  {
   "cell_type": "code",
   "execution_count": 42,
   "metadata": {},
   "outputs": [
    {
     "name": "stdout",
     "output_type": "stream",
     "text": [
      "(ArraySequence([array([[-5.76068354, -8.87338352, -8.72115612],\n",
      "       [-5.76691341, -8.87215042, -8.71829605],\n",
      "       [-5.76663446, -8.86604214, -8.71473312],\n",
      "       ..., \n",
      "       [-5.40215921, -8.64045048, -8.84667206],\n",
      "       [-5.3993597 , -8.64526844, -8.84205055],\n",
      "       [-5.39663124, -8.65155411, -8.83525085]], dtype=float32)]), {'count': '0000000001', 'datatype': 'Float32LE', 'voxel_sizes': '(0.07, 0.07, 0.07)', 'dimensions': '(164, 212, 158)', 'voxel_order': 'RAS', 'file': '. 145', 'magic_number': b'mrtrix tracks', 'endianness': '<', '_dtype': dtype('float32'), '_offset_data': 145, 'nb_streamlines': 1, 'voxel_to_rasmm': array([[ 1.,  0.,  0.,  0.],\n",
      "       [ 0.,  1.,  0.,  0.],\n",
      "       [ 0.,  0.,  1.,  0.],\n",
      "       [ 0.,  0.,  0.,  1.]])})\n"
     ]
    }
   ],
   "source": [
    "print(avgt_tract)"
   ]
  },
  {
   "cell_type": "code",
   "execution_count": 43,
   "metadata": {},
   "outputs": [
    {
     "name": "stdout",
     "output_type": "stream",
     "text": [
      "(ArraySequence([array([[ 4.4000001 , -5.5999999 , -6.9000001 ],\n",
      "       [ 4.40700006, -5.55600023, -6.98899984],\n",
      "       [ 4.47900009, -5.48500013, -6.98500013],\n",
      "       [ 4.48100042, -5.40899992, -6.99900007],\n",
      "       [ 4.51600027, -5.40700006, -6.99800062],\n",
      "       [ 4.57999992, -5.40800047, -7.0250001 ],\n",
      "       [ 4.57700014, -5.37599993, -7.00400019],\n",
      "       [ 4.59700012, -5.39599991, -7.0250001 ],\n",
      "       [ 4.59200001, -5.36300039, -7.00699997],\n",
      "       [ 4.5999999 , -5.32599974, -7.00600004],\n",
      "       [ 4.62000036, -5.34600019, -7.0260005 ],\n",
      "       [ 4.5999999 , -5.32599974, -7.00600004],\n",
      "       [ 4.62000036, -5.34600019, -7.0260005 ],\n",
      "       [ 4.5999999 , -5.32599974, -7.00600004],\n",
      "       [ 4.61000013, -5.28700018, -7.00800037],\n",
      "       [ 4.61000013, -5.24500036, -6.99800062],\n",
      "       [ 4.63700008, -5.19399977, -7.02200031],\n",
      "       [ 4.68300009, -5.125     , -7.00699997],\n",
      "       [ 4.73000002, -5.07999992, -7.02200031],\n",
      "       [ 4.70900011, -5.0619998 , -7.00199986],\n",
      "       [ 4.73000002, -5.07999992, -7.02200031],\n",
      "       [ 4.70900011, -5.0619998 , -7.00199986],\n",
      "       [ 4.73000002, -5.07999992, -7.02200031],\n",
      "       [ 4.70900011, -5.0619998 , -7.00199986],\n",
      "       [ 4.74900007, -5.04199982, -7.02799988],\n",
      "       [ 4.72900009, -5.02200031, -7.00800037],\n",
      "       [ 4.74900007, -5.04199982, -7.02799988],\n",
      "       [ 4.74300003, -5.00800037, -7.00600004],\n",
      "       [ 4.76300001, -5.02799988, -7.0260005 ],\n",
      "       [ 4.74300003, -5.00800037, -7.00600004],\n",
      "       [ 4.76300001, -5.02799988, -7.0260005 ],\n",
      "       [ 4.7590003 , -4.99599981, -7.0010004 ],\n",
      "       [ 4.76300001, -4.97000027, -6.97100019],\n",
      "       [ 4.82299995, -4.9369998 , -6.96600056],\n",
      "       [ 4.90500021, -4.88800001, -6.92500019],\n",
      "       [ 4.95800018, -4.82299995, -6.89899969],\n",
      "       [ 5.02200031, -4.76900005, -6.86399984],\n",
      "       [ 5.08400011, -4.6960001 , -6.82399988],\n",
      "       [ 5.15800047, -4.63199997, -6.80599976],\n",
      "       [ 5.24599981, -4.58300018, -6.80700016],\n",
      "       [ 5.30999994, -4.52600002, -6.77200031],\n",
      "       [ 5.37700033, -4.48199987, -6.71299982],\n",
      "       [ 5.45300007, -4.41200018, -6.70199966],\n",
      "       [ 5.50800037, -4.32700014, -6.69400024],\n",
      "       [ 5.56699991, -4.26600027, -6.63700056],\n",
      "       [ 5.65999985, -4.24700022, -6.59899998],\n",
      "       [ 5.75699997, -4.23800039, -6.56600046],\n",
      "       [ 5.85600042, -4.24100018, -6.53300047],\n",
      "       [ 5.95600033, -4.23100042, -6.50800037],\n",
      "       [ 6.05900002, -4.21899986, -6.50199986],\n",
      "       [ 6.16200018, -4.21400023, -6.5       ],\n",
      "       [ 6.26600027, -4.20700026, -6.5       ],\n",
      "       [ 6.3670001 , -4.20499992, -6.51900053],\n",
      "       [ 6.45300007, -4.20200014, -6.57500029],\n",
      "       [ 6.55599976, -4.20000029, -6.59299994],\n",
      "       [ 6.65899992, -4.20099974, -6.59700012],\n",
      "       [ 6.76300001, -4.20700026, -6.59899998],\n",
      "       [ 6.86600065, -4.22000027, -6.59899998],\n",
      "       [ 6.96900034, -4.21700001, -6.58700037],\n",
      "       [ 7.02799988, -4.17400026, -6.51699972],\n",
      "       [ 7.09299994, -4.10900021, -6.47300053],\n",
      "       [ 7.125     , -4.05200005, -6.39400005],\n",
      "       [ 7.18499994, -4.01200008, -6.32000017],\n",
      "       [ 7.23700047, -4.00200033, -6.23100042],\n",
      "       [ 7.27699995, -4.        , -6.13499975],\n",
      "       [ 7.30199957, -4.        , -6.03399992],\n",
      "       [ 7.34200001, -4.        , -5.9380002 ],\n",
      "       [ 7.39499998, -4.        , -5.84900045],\n",
      "       [ 7.45599985, -4.        , -5.76500034],\n",
      "       [ 7.5250001 , -4.00099993, -5.6869998 ],\n",
      "       [ 7.58700037, -4.00699997, -5.60500002],\n",
      "       [ 7.64899969, -4.0090003 , -5.52200031],\n",
      "       [ 7.7420001 , -4.00500011, -5.47800016],\n",
      "       [ 7.73399973, -4.03200006, -5.43499994]], dtype=float32), array([[ 4.80000019, -7.        , -5.0999999 ],\n",
      "       [ 4.90299988, -7.        , -5.0999999 ],\n",
      "       [ 5.00699997, -7.00899982, -5.0999999 ],\n",
      "       [ 5.11000013, -7.01500034, -5.0999999 ],\n",
      "       [ 5.21400023, -7.01100016, -5.09900045],\n",
      "       [ 5.31800032, -7.00699997, -5.09900045],\n",
      "       [ 5.42200041, -7.00400019, -5.09900045],\n",
      "       [ 5.52600002, -7.00199986, -5.09900045],\n",
      "       [ 5.63000011, -7.0010004 , -5.09900045],\n",
      "       [ 5.73400021, -7.        , -5.09900045],\n",
      "       [ 5.8380003 , -7.        , -5.09900045],\n",
      "       [ 5.94199991, -7.        , -5.09900045],\n",
      "       [ 6.04500008, -7.        , -5.09900045],\n",
      "       [ 6.14900017, -7.        , -5.09900045],\n",
      "       [ 6.25099993, -6.98600006, -5.09900045],\n",
      "       [ 6.32400036, -6.91299963, -5.0999999 ],\n",
      "       [ 6.37900019, -6.82699966, -5.1170001 ],\n",
      "       [ 6.39800024, -6.73600006, -5.16100025],\n",
      "       [ 6.41500044, -6.63700056, -5.18600035],\n",
      "       [ 6.47399998, -6.55199957, -5.19500017],\n",
      "       [ 6.53900003, -6.47100019, -5.19799995],\n",
      "       [ 6.61500025, -6.4010005 , -5.19900036],\n",
      "       [ 6.7050004 , -6.35099983, -5.20900011],\n",
      "       [ 6.79100037, -6.30800009, -5.24800014],\n",
      "       [ 6.87900019, -6.26200008, -5.27799988],\n",
      "       [ 6.97300053, -6.23000002, -5.30700016],\n",
      "       [ 7.06200027, -6.20099974, -5.35300016],\n",
      "       [ 7.15199995, -6.16300011, -5.38800001],\n",
      "       [ 7.24800062, -6.13199997, -5.40999985],\n",
      "       [ 7.32600021, -6.06699991, -5.42999983],\n",
      "       [ 7.39400053, -5.99000025, -5.4460001 ],\n",
      "       [ 7.44899988, -5.90400028, -5.46400023],\n",
      "       [ 7.48899984, -5.81100035, -5.48800039],\n",
      "       [ 7.52300024, -5.71700001, -5.51500034],\n",
      "       [ 7.55899954, -5.63300037, -5.56100035],\n",
      "       [ 7.58599997, -5.57200003, -5.64100027],\n",
      "       [ 7.60300016, -5.50500011, -5.71899986],\n",
      "       [ 7.64100027, -5.42600012, -5.77099991],\n",
      "       [ 7.70899963, -5.3499999 , -5.78700018],\n",
      "       [ 7.77900028, -5.27300024, -5.79300022],\n",
      "       [ 7.83900023, -5.1880002 , -5.79700041],\n",
      "       [ 7.87699986, -5.09200001, -5.79900026],\n",
      "       [ 7.89300013, -4.99000025, -5.79900026],\n",
      "       [ 7.9010005 , -4.88899994, -5.8210001 ],\n",
      "       [ 7.93200016, -4.79400015, -5.8499999 ],\n",
      "       [ 7.96799994, -4.69700003, -5.85400009],\n",
      "       [ 7.98699999, -4.59800005, -5.82800007],\n",
      "       [ 7.99599981, -4.51200008, -5.77200031],\n",
      "       [ 8.01200008, -4.4380002 , -5.70200014],\n",
      "       [ 8.02200031, -4.37099981, -5.62300014],\n",
      "       [ 8.02099991, -4.30900002, -5.54000044],\n",
      "       [ 8.01299953, -4.25      , -5.454     ],\n",
      "       [ 8.02400017, -4.1880002 , -5.38000011],\n",
      "       [ 7.97100019, -4.19399977, -5.29400015]], dtype=float32), array([[ 4.9000001 , -4.80000019, -6.9000001 ],\n",
      "       [ 5.00500011, -4.79199982, -6.88399982],\n",
      "       [ 5.06100035, -4.71700001, -6.83900023],\n",
      "       [ 5.10200024, -4.67200041, -6.80700016],\n",
      "       [ 5.1880002 , -4.61899996, -6.81600046],\n",
      "       [ 5.27900028, -4.56699991, -6.78499985],\n",
      "       [ 5.34900045, -4.49700022, -6.7249999 ],\n",
      "       [ 5.4749999 , -4.38600016, -6.70599985],\n",
      "       [ 5.54300022, -4.28200006, -6.65500021],\n",
      "       [ 5.62599993, -4.25200033, -6.60400009],\n",
      "       [ 5.7249999 , -4.24000025, -6.579     ],\n",
      "       [ 5.82299995, -4.24100018, -6.54400015],\n",
      "       [ 5.92200041, -4.23600006, -6.51300001],\n",
      "       [ 6.02400017, -4.22100019, -6.50299978],\n",
      "       [ 6.12799978, -4.21700001, -6.5       ],\n",
      "       [ 6.23100042, -4.20900011, -6.5       ],\n",
      "       [ 6.33500004, -4.20600033, -6.50500059],\n",
      "       [ 6.42200041, -4.20300007, -6.55999994],\n",
      "       [ 6.52099991, -4.20000029, -6.59000015],\n",
      "       [ 6.625     , -4.20099974, -6.59600019],\n",
      "       [ 6.72900009, -4.204     , -6.59899998],\n",
      "       [ 6.83200026, -4.21700001, -6.59899998],\n",
      "       [ 6.93499994, -4.21799994, -6.59600019],\n",
      "       [ 7.00899982, -4.19300032, -6.53900003],\n",
      "       [ 7.07300043, -4.13000011, -6.4920001 ],\n",
      "       [ 7.125     , -4.05200005, -6.39400005],\n",
      "       [ 7.20300007, -4.00600004, -6.29099989],\n",
      "       [ 7.2510004 , -4.00099993, -6.19900036],\n",
      "       [ 7.30199957, -4.        , -6.03399992],\n",
      "       [ 7.34200001, -4.        , -5.9380002 ],\n",
      "       [ 7.39499998, -4.        , -5.84900045],\n",
      "       [ 7.47800016, -4.        , -5.73800039],\n",
      "       [ 7.56800032, -4.00600004, -5.63300037],\n",
      "       [ 7.64899969, -4.0090003 , -5.52200031],\n",
      "       [ 7.72200012, -4.0250001 , -5.45800018],\n",
      "       [ 7.71400023, -4.05200005, -5.41500044]], dtype=float32), ..., array([[ 10.69999981,  -7.4000001 ,  -4.20000029],\n",
      "       [ 10.6970005 ,  -7.33500004,  -4.13899994],\n",
      "       [ 10.69900036,  -7.25800037,  -4.02400017],\n",
      "       [ 10.69900036,  -7.20700026,  -3.93300033],\n",
      "       [ 10.69200039,  -7.13700056,  -3.81399989],\n",
      "       [ 10.62900066,  -7.0800004 ,  -3.70800018],\n",
      "       [ 10.51900005,  -7.04199982,  -3.63300014],\n",
      "       [ 10.38000011,  -7.01999998,  -3.56900001],\n",
      "       [ 10.28299999,  -7.00500059,  -3.53699994],\n",
      "       [ 10.18000031,  -7.0010004 ,  -3.52000022],\n",
      "       [ 10.06700039,  -7.        ,  -3.51899981],\n",
      "       [  9.97200012,  -6.98099995,  -3.49799991],\n",
      "       [  9.88099957,  -6.98799992,  -3.45200014],\n",
      "       [  9.80500031,  -6.99300003,  -3.38100028],\n",
      "       [  9.73900032,  -6.99599981,  -3.30099988],\n",
      "       [  9.67800045,  -6.99900007,  -3.21699977],\n",
      "       [  9.63899994,  -7.01399994,  -3.12000012],\n",
      "       [  9.57300091,  -7.05299997,  -3.05200005],\n",
      "       [  9.53600025,  -7.07200003,  -2.95799994],\n",
      "       [  9.49300003,  -7.08300018,  -2.87700009],\n",
      "       [  9.42700005,  -7.09000015,  -2.77900004],\n",
      "       [  9.3760004 ,  -7.09299994,  -2.68899989],\n",
      "       [  9.30500031,  -7.07600021,  -2.61500001],\n",
      "       [  9.23300076,  -7.05100012,  -2.54400015],\n",
      "       [  9.15700054,  -7.0250001 ,  -2.47800016],\n",
      "       [  9.08300018,  -6.99300003,  -2.41400003],\n",
      "       [  9.00899982,  -6.96000004,  -2.34800005],\n",
      "       [  8.93099976,  -6.92900038,  -2.28600001],\n",
      "       [  8.85400009,  -6.88899994,  -2.23000002],\n",
      "       [  8.78700066,  -6.84700012,  -2.19099998],\n",
      "       [  8.70800018,  -6.80400038,  -2.13899994],\n",
      "       [  8.60999966,  -6.7420001 ,  -2.08299994],\n",
      "       [  8.49600029,  -6.69899988,  -2.01699996],\n",
      "       [  8.40700054,  -6.67799997,  -1.96700001],\n",
      "       [  8.31999969,  -6.65199995,  -1.91700006],\n",
      "       [  8.20400047,  -6.60899973,  -1.8549999 ],\n",
      "       [  8.09800053,  -6.55299997,  -1.78700006],\n",
      "       [  7.99800062,  -6.48500013,  -1.73500001],\n",
      "       [  7.92600012,  -6.43799973,  -1.71599996]], dtype=float32), array([[ 10.80000019,  -7.0999999 ,  -3.5       ],\n",
      "       [ 10.70500088,  -7.14100027,  -3.5       ],\n",
      "       [ 10.63300037,  -7.06800032,  -3.5       ],\n",
      "       [ 10.53800011,  -7.0260005 ,  -3.5       ],\n",
      "       [ 10.43500042,  -7.00899982,  -3.5       ],\n",
      "       [ 10.33199978,  -7.00199986,  -3.5       ],\n",
      "       [ 10.21500015,  -7.00699997,  -3.49700022],\n",
      "       [ 10.13300037,  -7.0010004 ,  -3.49000025],\n",
      "       [ 10.02900028,  -7.        ,  -3.49600005],\n",
      "       [  9.90899944,  -6.98700047,  -3.47300005],\n",
      "       [  9.82900047,  -6.99100065,  -3.40700006],\n",
      "       [  9.76100063,  -6.99499989,  -3.32799983],\n",
      "       [  9.69800091,  -6.99700022,  -3.24600005],\n",
      "       [  9.64400005,  -7.00999975,  -3.15799999],\n",
      "       [  9.60000038,  -7.04000044,  -3.09599996],\n",
      "       [  9.5710001 ,  -7.06600046,  -2.98200011],\n",
      "       [  9.50400066,  -7.0800004 ,  -2.89599991],\n",
      "       [  9.46600056,  -7.08799982,  -2.82099986],\n",
      "       [  9.3949995 ,  -7.09499979,  -2.71700001],\n",
      "       [  9.32900047,  -7.08300018,  -2.63899994],\n",
      "       [  9.25699997,  -7.05999994,  -2.56700015],\n",
      "       [  9.18200016,  -7.03399992,  -2.5       ],\n",
      "       [  9.10800076,  -7.00400019,  -2.43400002],\n",
      "       [  9.03399944,  -6.96900034,  -2.37000012],\n",
      "       [  8.95800018,  -6.94000006,  -2.30599999],\n",
      "       [  8.87900066,  -6.90299988,  -2.24900007],\n",
      "       [  8.81400013,  -6.85699987,  -2.2110002 ],\n",
      "       [  8.73499966,  -6.81999969,  -2.15400004],\n",
      "       [  8.64400005,  -6.77099991,  -2.10500002],\n",
      "       [  8.58100033,  -6.7300005 ,  -2.06800008],\n",
      "       [  8.49600029,  -6.69899988,  -2.01699996],\n",
      "       [  8.40700054,  -6.67799997,  -1.96700001],\n",
      "       [  8.31999969,  -6.65199995,  -1.91700006],\n",
      "       [  8.23099995,  -6.61999989,  -1.87300003],\n",
      "       [  8.14900017,  -6.58599997,  -1.82000005],\n",
      "       [  8.06700039,  -6.51600027,  -1.77800012],\n",
      "       [  7.98399973,  -6.46900034,  -1.73799992],\n",
      "       [  7.87300062,  -6.39700031,  -1.699     ]], dtype=float32), array([[ 10.80000019,  -7.4000001 ,  -3.9000001 ],\n",
      "       [ 10.71600056,  -7.36900043,  -3.84700012],\n",
      "       [ 10.69200039,  -7.27099991,  -3.80600023],\n",
      "       [ 10.66499996,  -7.19000006,  -3.74799991],\n",
      "       [ 10.62100029,  -7.12799978,  -3.69199991],\n",
      "       [ 10.52099991,  -7.08300018,  -3.64700007],\n",
      "       [ 10.44000053,  -7.04100037,  -3.59700012],\n",
      "       [ 10.34800053,  -7.01300001,  -3.55699992],\n",
      "       [ 10.2489996 ,  -7.00299978,  -3.52999997],\n",
      "       [ 10.1239996 ,  -6.99900007,  -3.53200006],\n",
      "       [ 10.02900028,  -7.        ,  -3.49600005],\n",
      "       [  9.92100048,  -7.        ,  -3.49900031],\n",
      "       [  9.85400009,  -6.99000025,  -3.43000007],\n",
      "       [  9.78299999,  -6.99400043,  -3.35500002],\n",
      "       [  9.71900082,  -6.99599981,  -3.273     ],\n",
      "       [  9.66100025,  -7.00199986,  -3.18700004],\n",
      "       [  9.60000038,  -7.04000044,  -3.09599996],\n",
      "       [  9.5710001 ,  -7.06600046,  -2.98200011],\n",
      "       [  9.50400066,  -7.0800004 ,  -2.89599991],\n",
      "       [  9.46600056,  -7.08799982,  -2.82099986],\n",
      "       [  9.4289999 ,  -7.10800028,  -2.73099995],\n",
      "       [  9.35299969,  -7.08900023,  -2.66299987],\n",
      "       [  9.28100014,  -7.06900024,  -2.59100008],\n",
      "       [  9.20800018,  -7.04300022,  -2.52200007],\n",
      "       [  9.13300037,  -7.01500034,  -2.45600009],\n",
      "       [  9.05800056,  -6.9800005 ,  -2.39199996],\n",
      "       [  8.98400021,  -6.95000029,  -2.32599998],\n",
      "       [  8.90500069,  -6.91699982,  -2.26699996],\n",
      "       [  8.81400013,  -6.85699987,  -2.2110002 ],\n",
      "       [  8.73499966,  -6.81999969,  -2.15400004],\n",
      "       [  8.67000008,  -6.76800013,  -2.10400009],\n",
      "       [  8.58100033,  -6.7300005 ,  -2.06800008],\n",
      "       [  8.49600029,  -6.69899988,  -2.01699996],\n",
      "       [  8.40700054,  -6.67799997,  -1.96700001],\n",
      "       [  8.31999969,  -6.65199995,  -1.91700006],\n",
      "       [  8.23099995,  -6.61999989,  -1.87300003],\n",
      "       [  8.14900017,  -6.58599997,  -1.82000005],\n",
      "       [  8.06700039,  -6.51600027,  -1.77800012],\n",
      "       [  7.98399973,  -6.46900034,  -1.73799992],\n",
      "       [  7.87300062,  -6.39700031,  -1.699     ]], dtype=float32)]), {'count': '0000577555', 'datatype': 'Float32LE', 'voxel_sizes': '(0.05, 0.05, 0.05)', 'dimensions': '(264, 160, 228)', 'voxel_order': 'PIR', 'file': '. 145', 'magic_number': b'mrtrix tracks', 'endianness': '<', '_dtype': dtype('float32'), '_offset_data': 145, 'nb_streamlines': 577555, 'voxel_to_rasmm': array([[ 1.,  0.,  0.,  0.],\n",
      "       [ 0.,  1.,  0.,  0.],\n",
      "       [ 0.,  0.,  1.,  0.],\n",
      "       [ 0.,  0.,  0.,  1.]])})\n"
     ]
    }
   ],
   "source": [
    "print(tract)"
   ]
  },
  {
   "cell_type": "code",
   "execution_count": 29,
   "metadata": {},
   "outputs": [],
   "source": [
    "trkavgt = load_tractogram('/Users/mahdi/stage-2022-mahdi/niftis/allen_wildtype_tractogram_avgt.trk')"
   ]
  },
  {
   "cell_type": "code",
   "execution_count": 62,
   "metadata": {},
   "outputs": [],
   "source": [
    "H = np.array([[ 0.06999999,  0.        ,  0.        ,   -5.67500019   ],\n",
    "              [ 0.        ,  0.06999999,  0.        ,   -8.79448032 ],\n",
    "              [ 0.        ,  0.        ,  0.06999999,   -8.45033455],\n",
    "              [ 0.        ,  0.        ,  0.        ,  1.           ]])"
   ]
  },
  {
   "cell_type": "code",
   "execution_count": 91,
   "metadata": {},
   "outputs": [
    {
     "name": "stdout",
     "output_type": "stream",
     "text": [
      "[  87.97338571  176.77038882   79.8065784     1.        ]\n"
     ]
    }
   ],
   "source": [
    "print(np.linalg.inv(H) @ [ 0.48313593  , 3.57944513 , -2.86387486  , 1.        ])"
   ]
  },
  {
   "cell_type": "code",
   "execution_count": 87,
   "metadata": {},
   "outputs": [],
   "source": [
    "aff = np.array([[  1.40010476e+00,    7.93613726e-05 ,   2.72541976e-04 ,  -5.67500019], \n",
    "                [ -1.61930133e-04 ,   1.35685694e+00 ,  -3.45518261e-01 ,  8.79448032], \n",
    "                [ -1.27313469e-04 ,   3.46717477e-01,    1.35826540e+00 ,   8.45033455], \n",
    "                [  0.00000000e+00 ,   0.00000000e+00 ,   0.00000000e+00,    1.00000000e+00]])"
   ]
  },
  {
   "cell_type": "code",
   "execution_count": 89,
   "metadata": {},
   "outputs": [
    {
     "name": "stdout",
     "output_type": "stream",
     "text": [
      "[ 0.48313593  3.57944513 -2.86387486  1.        ]\n"
     ]
    }
   ],
   "source": [
    "print( aff @[ 4.4000001 , -5.5999999 , -6.9000001, 1])"
   ]
  },
  {
   "cell_type": "code",
   "execution_count": 30,
   "metadata": {},
   "outputs": [
    {
     "name": "stdout",
     "output_type": "stream",
     "text": [
      "(ArraySequence([array([[  6.14295292e+00,   3.34790726e+01,  -2.20813036e+00],\n",
      "       [  6.15273380e+00,   3.35695267e+01,  -2.31376123e+00],\n",
      "       [  6.25354671e+00,   3.36644669e+01,  -2.28372049e+00],\n",
      "       [  6.25635052e+00,   3.37724228e+01,  -2.27638578e+00],\n",
      "       [  6.30535507e+00,   3.37747879e+01,  -2.27433968e+00],\n",
      "       [  6.39495277e+00,   3.37827492e+01,  -2.31136703e+00],\n",
      "       [  6.39076138e+00,   3.38189125e+01,  -2.27174759e+00],\n",
      "       [  6.41875744e+00,   3.37990303e+01,  -2.30720806e+00],\n",
      "       [  6.41176319e+00,   3.38375893e+01,  -2.27131701e+00],\n",
      "       [  6.42296696e+00,   3.38874435e+01,  -2.25713158e+00],\n",
      "       [  6.45096302e+00,   3.38672142e+01,  -2.29123402e+00],\n",
      "       [  6.42296696e+00,   3.38874435e+01,  -2.25713158e+00],\n",
      "       [  6.45096302e+00,   3.38672142e+01,  -2.29123402e+00],\n",
      "       [  6.42296696e+00,   3.38874435e+01,  -2.25713158e+00],\n",
      "       [  6.43697166e+00,   3.39410477e+01,  -2.24632788e+00],\n",
      "       [  6.43697643e+00,   3.39945831e+01,  -2.21818352e+00],\n",
      "       [  6.47477818e+00,   3.40720749e+01,  -2.23310184e+00],\n",
      "       [  6.53919220e+00,   3.41605034e+01,  -2.18880987e+00],\n",
      "       [  6.60499668e+00,   3.42267380e+01,  -2.19358826e+00],\n",
      "       [  6.57560062e+00,   3.42442551e+01,  -2.16017818e+00],\n",
      "       [  6.60499668e+00,   3.42267380e+01,  -2.19358826e+00],\n",
      "       [  6.57560062e+00,   3.42442551e+01,  -2.16017818e+00],\n",
      "       [  6.60499668e+00,   3.42267380e+01,  -2.19358826e+00],\n",
      "       [  6.57560062e+00,   3.42442551e+01,  -2.16017818e+00],\n",
      "       [  6.63159943e+00,   3.42803688e+01,  -2.18856430e+00],\n",
      "       [  6.60360432e+00,   3.43005981e+01,  -2.15446281e+00],\n",
      "       [  6.63159943e+00,   3.42803688e+01,  -2.18856430e+00],\n",
      "       [  6.62320805e+00,   3.43189011e+01,  -2.14689350e+00],\n",
      "       [  6.65120220e+00,   3.42986717e+01,  -2.18099594e+00],\n",
      "       [  6.62320805e+00,   3.43189011e+01,  -2.14689350e+00],\n",
      "       [  6.65120220e+00,   3.42986717e+01,  -2.18099594e+00],\n",
      "       [  6.64561176e+00,   3.43334541e+01,  -2.13594437e+00],\n",
      "       [  6.65122318e+00,   3.43583679e+01,  -2.08618164e+00],\n",
      "       [  6.73523235e+00,   3.44014053e+01,  -2.06795692e+00],\n",
      "       [  6.85005665e+00,   3.44537125e+01,  -1.99528885e+00],\n",
      "       [  6.92427444e+00,   3.45329132e+01,  -1.93744278e+00],\n",
      "       [  7.01389408e+00,   3.45940819e+01,  -1.87118959e+00],\n",
      "       [  7.10071754e+00,   3.46792984e+01,  -1.79155636e+00],\n",
      "       [  7.20433712e+00,   3.47599068e+01,  -1.74492645e+00],\n",
      "       [  7.32754803e+00,   3.48267250e+01,  -1.72930765e+00],\n",
      "       [  7.41716862e+00,   3.48919640e+01,  -1.66201401e+00],\n",
      "       [  7.51099682e+00,   3.49312630e+01,  -1.56662846e+00],\n",
      "       [  7.61741161e+00,   3.50224342e+01,  -1.52742672e+00],\n",
      "       [  7.69442654e+00,   3.51349945e+01,  -1.48709774e+00],\n",
      "       [  7.77705288e+00,   3.51980591e+01,  -1.38853455e+00],\n",
      "       [  7.90727520e+00,   3.52106934e+01,  -1.33034420e+00],\n",
      "       [  8.04309559e+00,   3.52114868e+01,  -1.28241348e+00],\n",
      "       [  8.18171406e+00,   3.51959991e+01,  -1.23864365e+00],\n",
      "       [  8.32173252e+00,   3.52009125e+01,  -1.20123291e+00],\n",
      "       [  8.46594524e+00,   3.52151070e+01,  -1.18893480e+00],\n",
      "       [  8.61015797e+00,   3.52211838e+01,  -1.18449783e+00],\n",
      "       [  8.75576973e+00,   3.52306633e+01,  -1.18208408e+00],\n",
      "       [  8.89717388e+00,   3.52399254e+01,  -1.20721149e+00],\n",
      "       [  9.01756859e+00,   3.52633324e+01,  -1.28224468e+00],\n",
      "       [  9.16177368e+00,   3.52722473e+01,  -1.30601263e+00],\n",
      "       [  9.30598354e+00,   3.52722588e+01,  -1.31180573e+00],\n",
      "       [  9.45159435e+00,   3.52647896e+01,  -1.31661606e+00],\n",
      "       [  9.59580421e+00,   3.52471352e+01,  -1.32113600e+00],\n",
      "       [  9.74001789e+00,   3.52470436e+01,  -1.30381060e+00],\n",
      "       [  9.82264614e+00,   3.52811890e+01,  -1.19382954e+00],\n",
      "       [  9.91367054e+00,   3.53541718e+01,  -1.11153889e+00],\n",
      "       [  9.95849991e+00,   3.54042130e+01,  -9.84476089e-01],\n",
      "       [  1.00425301e+01,   3.54329071e+01,  -8.70103836e-01],\n",
      "       [  1.01153603e+01,   3.54157181e+01,  -7.45758057e-01],\n",
      "       [  1.01713905e+01,   3.53852539e+01,  -6.14675045e-01],\n",
      "       [  1.02064199e+01,   3.53503532e+01,  -4.77494240e-01],\n",
      "       [  1.02624512e+01,   3.53171730e+01,  -3.47105980e-01],\n",
      "       [  1.03366804e+01,   3.52864189e+01,  -2.26226807e-01],\n",
      "       [  1.04221106e+01,   3.52573853e+01,  -1.12140656e-01],\n",
      "       [  1.05187407e+01,   3.52290649e+01,  -6.55078888e-03],\n",
      "       [  1.06055670e+01,   3.51925812e+01,   1.02738380e-01],\n",
      "       [  1.06923952e+01,   3.51611824e+01,   2.14773178e-01],\n",
      "       [  1.08226194e+01,   3.51513901e+01,   2.75911331e-01],\n",
      "       [  1.08114271e+01,   3.50998993e+01,   3.24956894e-01]], dtype=float32), array([[  6.70337582,  30.95747757,  -0.24870777],\n",
      "       [  6.84758663,  30.9574585 ,  -0.24872112],\n",
      "       [  6.99319553,  30.94523239,  -0.2518549 ],\n",
      "       [  7.13740635,  30.93706894,  -0.25394821],\n",
      "       [  7.28301811,  30.94213867,  -0.25121689],\n",
      "       [  7.42862988,  30.94755173,  -0.2498436 ],\n",
      "       [  7.57424068,  30.95160294,  -0.24881649],\n",
      "       [  7.71985149,  30.95429611,  -0.24813557],\n",
      "       [  7.8654623 ,  30.95563889,  -0.24780273],\n",
      "       [  8.01107311,  30.95698166,  -0.24746895],\n",
      "       [  8.15668392,  30.95696259,  -0.2474823 ],\n",
      "       [  8.30229473,  30.95694733,  -0.24749565],\n",
      "       [  8.44650555,  30.95692825,  -0.247509  ],\n",
      "       [  8.59211731,  30.95691299,  -0.2475214 ],\n",
      "       [  8.73492813,  30.97589111,  -0.2426815 ],\n",
      "       [  8.83714294,  31.07527542,  -0.21873665],\n",
      "       [  8.91414928,  31.19782639,  -0.21201706],\n",
      "       [  8.94074726,  31.33650208,  -0.24023247],\n",
      "       [  8.96455097,  31.4794693 ,  -0.23986626],\n",
      "       [  9.0471611 ,  31.59790039,  -0.22262669],\n",
      "       [  9.1381731 ,  31.70883179,  -0.19862556],\n",
      "       [  9.24458599,  31.80414581,  -0.17572403],\n",
      "       [  9.37059689,  31.87542725,  -0.17198181],\n",
      "       [  9.49099922,  31.94723511,  -0.2100563 ],\n",
      "       [  9.61420345,  32.02000046,  -0.23486614],\n",
      "       [  9.74580765,  32.07342529,  -0.2631731 ],\n",
      "       [  9.8704071 ,  32.12865448,  -0.31560993],\n",
      "       [  9.99640942,  32.19229126,  -0.34998512],\n",
      "       [ 10.13081741,  32.24193954,  -0.36913109],\n",
      "       [ 10.24002457,  32.33703232,  -0.37376881],\n",
      "       [ 10.33523464,  32.44702911,  -0.36881351],\n",
      "       [ 10.41224003,  32.56992722,  -0.36345196],\n",
      "       [ 10.46824551,  32.70440292,  -0.36381054],\n",
      "       [ 10.51584911,  32.84127045,  -0.36789703],\n",
      "       [ 10.56624508,  32.97113419,  -0.40125751],\n",
      "       [ 10.60403347,  33.08153915,  -0.48877192],\n",
      "       [ 10.62781811,  33.19939804,  -0.5714879 ],\n",
      "       [ 10.68101406,  33.32455063,  -0.61473227],\n",
      "       [ 10.77622318,  33.43318939,  -0.61012268],\n",
      "       [ 10.87423611,  33.53972626,  -0.59158468],\n",
      "       [ 10.95824718,  33.65643692,  -0.567554  ],\n",
      "       [ 11.0114584 ,  33.7873764 ,  -0.53699064],\n",
      "       [ 11.03386784,  33.92577362,  -0.50162745],\n",
      "       [ 11.04507351,  34.0704155 ,  -0.49649143],\n",
      "       [ 11.08847332,  34.20933151,  -0.50294685],\n",
      "       [ 11.13888454,  34.3423233 ,  -0.47475338],\n",
      "       [ 11.16550159,  34.46767044,  -0.40511608],\n",
      "       [ 11.17812443,  34.56501007,  -0.2992363 ],\n",
      "       [ 11.20055103,  34.64122391,  -0.17850304],\n",
      "       [ 11.21457958,  34.70483398,  -0.04797077],\n",
      "       [ 11.21320629,  34.76028442,   0.08626175],\n",
      "       [ 11.20203304,  34.81062317,   0.22353077],\n",
      "       [ 11.21745968,  34.86917877,   0.34553719],\n",
      "       [ 11.14327717,  34.83133316,   0.46027374]], dtype=float32), array([[  6.84307003,  34.56447601,  -1.93081999],\n",
      "       [  6.99008465,  34.56978607,  -1.90632677],\n",
      "       [  7.06851101,  34.65599442,  -1.81920862],\n",
      "       [  7.12592697,  34.70598602,  -1.76014709],\n",
      "       [  7.24633694,  34.78099823,  -1.75400686],\n",
      "       [  7.37375927,  34.84082794,  -1.69388199],\n",
      "       [  7.47178936,  34.91506958,  -1.58812523],\n",
      "       [  7.64821529,  35.05908966,  -1.52384853],\n",
      "       [  7.7434454 ,  35.18257141,  -1.41852713],\n",
      "       [  7.85966969,  35.2056427 ,  -1.33886433],\n",
      "       [  7.99828815,  35.21327209,  -1.30076027],\n",
      "       [  8.13550758,  35.19980621,  -1.25358009],\n",
      "       [  8.27412701,  35.19586182,  -1.20975256],\n",
      "       [  8.41694164,  35.21274185,  -1.19098186],\n",
      "       [  8.56255341,  35.21711731,  -1.18553352],\n",
      "       [  8.70676517,  35.22795486,  -1.18277359],\n",
      "       [  8.85237408,  35.23373795,  -1.18853855],\n",
      "       [  8.97416973,  35.25679779,  -1.26221275],\n",
      "       [  9.11277103,  35.27121735,  -1.30193424],\n",
      "       [  9.25838089,  35.27191544,  -1.31044292],\n",
      "       [  9.4039917 ,  35.26886749,  -1.31557131],\n",
      "       [  9.54820061,  35.25120926,  -1.32009125],\n",
      "       [  9.69241142,  35.24879837,  -1.31637716],\n",
      "       [  9.79603672,  35.26301575,  -1.23029709],\n",
      "       [  9.88566208,  35.33224869,  -1.14462376],\n",
      "       [  9.95849991,  35.40421295,  -0.98447609],\n",
      "       [ 10.06773949,  35.43102646,  -0.82863569],\n",
      "       [ 10.13497066,  35.4060173 ,  -0.70194817],\n",
      "       [ 10.20641994,  35.35035324,  -0.47749424],\n",
      "       [ 10.26245117,  35.317173  ,  -0.34710598],\n",
      "       [ 10.33668041,  35.28641891,  -0.22622681],\n",
      "       [ 10.45291996,  35.24805069,  -0.07546997],\n",
      "       [ 10.57895756,  35.2036171 ,   0.06505585],\n",
      "       [ 10.69239521,  35.1611824 ,   0.21477318],\n",
      "       [ 10.79461956,  35.11734772,   0.29614544],\n",
      "       [ 10.78342724,  35.06585693,   0.34519005]], dtype=float32), ..., array([[ 14.96420765,  30.10281372,   0.83429241],\n",
      "       [ 14.96002865,  30.1699295 ,   0.93968487],\n",
      "       [ 14.96286678,  30.23467255,   1.12258148],\n",
      "       [ 14.9628973 ,  30.27243042,   1.26386642],\n",
      "       [ 14.95313358,  30.32629776,   1.44977188],\n",
      "       [ 14.86496067,  30.36702347,   1.61351776],\n",
      "       [ 14.71097088,  30.39268494,   1.72857761],\n",
      "       [ 14.51637554,  30.40044403,   1.82315159],\n",
      "       [ 14.38057423,  30.40975571,   1.87182999],\n",
      "       [ 14.23636913,  30.40932846,   1.89631939],\n",
      "       [ 14.07815838,  30.41035843,   1.89803886],\n",
      "       [ 13.94515514,  30.42889404,   1.93316269],\n",
      "       [ 13.8177557 ,  30.40352249,   1.99322701],\n",
      "       [ 13.71136761,  30.37221909,   2.08793926],\n",
      "       [ 13.61898327,  30.34051514,   2.19556999],\n",
      "       [ 13.5335989 ,  30.30743027,   2.3086319 ],\n",
      "       [ 13.47901821,  30.25357056,   2.43518734],\n",
      "       [ 13.38663006,  30.17716599,   2.51403618],\n",
      "       [ 13.33484936,  30.11891556,   2.63512993],\n",
      "       [ 13.27466488,  30.07600784,   2.74134064],\n",
      "       [ 13.18228626,  30.03265762,   2.87203312],\n",
      "       [ 13.11090374,  29.99750137,   2.99324226],\n",
      "       [ 13.01151943,  29.99501038,   3.09965801],\n",
      "       [ 12.91073322,  30.0044136 ,   3.20477104],\n",
      "       [ 12.80434322,  30.01690292,   3.30344105],\n",
      "       [ 12.70075512,  30.03821945,   3.40147495],\n",
      "       [ 12.59716892,  30.06020355,   3.50257111],\n",
      "       [ 12.48797894,  30.08085251,   3.59754181],\n",
      "       [ 12.38019085,  30.11579132,   3.68748283],\n",
      "       [ 12.28639889,  30.15931702,   3.75502682],\n",
      "       [ 12.175807  ,  30.19970703,   3.84057522],\n",
      "       [ 12.03861523,  30.26449966,   3.93814659],\n",
      "       [ 11.87902737,  30.30006027,   4.04271603],\n",
      "       [ 11.75443172,  30.31129074,   4.11792088],\n",
      "       [ 11.63263798,  30.32930374,   4.19486046],\n",
      "       [ 11.47024822,  30.36624908,   4.29399681],\n",
      "       [ 11.32186031,  30.41875458,   4.40578747],\n",
      "       [ 11.18186855,  30.4930687 ,   4.50000763],\n",
      "       [ 11.08106899,  30.55028915,   4.54211998]], dtype=float32), array([[ 15.10443211,  30.26799011,   1.889081  ],\n",
      "       [ 14.97141933,  30.21237183,   1.87487793],\n",
      "       [ 14.87061596,  30.31143188,   1.90019798],\n",
      "       [ 14.73760891,  30.36843491,   1.91477108],\n",
      "       [ 14.59340191,  30.39152527,   1.92067909],\n",
      "       [ 14.44919109,  30.40103531,   1.92311954],\n",
      "       [ 14.28537655,  30.39323425,   1.92547417],\n",
      "       [ 14.17057323,  30.39897156,   1.93707371],\n",
      "       [ 14.02496052,  30.40242004,   1.92928314],\n",
      "       [ 13.85695553,  30.41212463,   1.96504593],\n",
      "       [ 13.74496365,  30.38391113,   2.05331516],\n",
      "       [ 13.64977932,  30.35119629,   2.15924072],\n",
      "       [ 13.56159496,  30.32015991,   2.26993179],\n",
      "       [ 13.48601055,  30.27212524,   2.38495922],\n",
      "       [ 13.42442226,  30.2100029 ,   2.45877647],\n",
      "       [ 13.38384914,  30.13534164,   2.60460663],\n",
      "       [ 13.2900629 ,  30.08664322,   2.71657276],\n",
      "       [ 13.23687649,  30.04988098,   2.81567383],\n",
      "       [ 13.1374979 ,  30.00445938,   2.95451546],\n",
      "       [ 13.04511547,  29.99380112,   3.0646286 ],\n",
      "       [ 12.94432735,  30.00014496,   3.1704073 ],\n",
      "       [ 12.83933926,  30.01228333,   3.27043533],\n",
      "       [ 12.73575115,  30.03019714,   3.37049198],\n",
      "       [ 12.63216305,  30.05558395,   3.46956539],\n",
      "       [ 12.52577877,  30.07283401,   3.56655979],\n",
      "       [ 12.41518688,  30.10335922,   3.65681839],\n",
      "       [ 12.32419491,  30.15265656,   3.72439003],\n",
      "       [ 12.21360302,  30.18317413,   3.81464958],\n",
      "       [ 12.0862112 ,  30.23274612,   3.89820671],\n",
      "       [ 11.99801922,  30.27560425,   3.96268463],\n",
      "       [ 11.87902737,  30.30006027,   4.04271603],\n",
      "       [ 11.75443172,  30.31129074,   4.11792088],\n",
      "       [ 11.63263798,  30.32930374,   4.19486046],\n",
      "       [ 11.50804424,  30.35753632,   4.26573086],\n",
      "       [ 11.39325237,  30.38537216,   4.34951782],\n",
      "       [ 11.2784605 ,  30.46585083,   4.43084526],\n",
      "       [ 11.16226673,  30.51581955,   4.50148201],\n",
      "       [ 11.00687313,  30.60005569,   4.57943153]], dtype=float32), array([[ 15.1043005 ,  29.99913788,   1.2417593 ],\n",
      "       [ 14.98670864,  30.02289963,   1.32450581],\n",
      "       [ 14.95312405,  30.14171219,   1.41417694],\n",
      "       [ 14.91534138,  30.23157883,   1.52104378],\n",
      "       [ 14.85375881,  30.29636383,   1.61860943],\n",
      "       [ 14.71376324,  30.34189224,   1.69534588],\n",
      "       [ 14.60037327,  30.3816185 ,   1.77783108],\n",
      "       [ 14.47157574,  30.40580368,   1.84188175],\n",
      "       [ 14.33297253,  30.41005707,   1.88203526],\n",
      "       [ 14.15795994,  30.41619873,   1.88072014],\n",
      "       [ 14.02496052,  30.40242004,   1.92928314],\n",
      "       [ 13.87374973,  30.40346909,   1.9252224 ],\n",
      "       [ 13.77995968,  30.39321136,   2.02241898],\n",
      "       [ 13.68057156,  30.36188126,   2.12291145],\n",
      "       [ 13.59099102,  30.33084106,   2.23360348],\n",
      "       [ 13.50980663,  30.29299545,   2.34834099],\n",
      "       [ 13.42442226,  30.2100029 ,   2.45877647],\n",
      "       [ 13.38384914,  30.13534164,   2.60460663],\n",
      "       [ 13.2900629 ,  30.08664322,   2.71657276],\n",
      "       [ 13.23687649,  30.04988098,   2.81567383],\n",
      "       [ 13.18509769,  29.99165344,   2.93098831],\n",
      "       [ 13.0787077 ,  29.99394989,   3.02994728],\n",
      "       [ 12.97792149,  29.99621964,   3.13468552],\n",
      "       [ 12.87573719,  30.00767136,   3.23742962],\n",
      "       [ 12.770751  ,  30.02286911,   3.33679295],\n",
      "       [ 12.66576099,  30.04825974,   3.43586731],\n",
      "       [ 12.5621748 ,  30.06617355,   3.535923  ],\n",
      "       [ 12.45158482,  30.09057617,   3.62751293],\n",
      "       [ 12.32419491,  30.15265656,   3.72439003],\n",
      "       [ 12.21360302,  30.18317413,   3.81464958],\n",
      "       [ 12.12261486,  30.23646927,   3.90060043],\n",
      "       [ 11.99801922,  30.27560425,   3.96268463],\n",
      "       [ 11.87902737,  30.30006027,   4.04271603],\n",
      "       [ 11.75443172,  30.31129074,   4.11792088],\n",
      "       [ 11.63263798,  30.32930374,   4.19486046],\n",
      "       [ 11.50804424,  30.35753632,   4.26573086],\n",
      "       [ 11.39325237,  30.38537216,   4.34951782],\n",
      "       [ 11.2784605 ,  30.46585083,   4.43084526],\n",
      "       [ 11.16226673,  30.51581955,   4.50148201],\n",
      "       [ 11.00687313,  30.60005569,   4.57943153]], dtype=float32)]), {'magic_number': b'TRACK', 'dimensions': array([164, 212, 158], dtype=int16), 'voxel_sizes': array([ 0.06999999,  0.06999999,  0.06999999], dtype=float32), 'origin': array([ 0.,  0.,  0.], dtype=float32), 'nb_scalars_per_point': 0, 'scalar_name': array([b'', b'', b'', b'', b'', b'', b'', b'', b'', b''], \n",
      "      dtype='|S20'), 'nb_properties_per_streamline': 0, 'property_name': array([b'', b'', b'', b'', b'', b'', b'', b'', b'', b''], \n",
      "      dtype='|S20'), 'voxel_to_rasmm': array([[ 0.06999999,  0.        ,  0.        , -5.67500019],\n",
      "       [ 0.        ,  0.06999999,  0.        , -8.79448032],\n",
      "       [ 0.        ,  0.        ,  0.06999999, -8.45033455],\n",
      "       [ 0.        ,  0.        ,  0.        ,  1.        ]], dtype=float32), 'reserved': b'', 'voxel_order': b'RAS', 'pad2': b'', 'image_orientation_patient': array([ 0.,  0.,  0.,  0.,  0.,  0.], dtype=float32), 'pad1': b'', 'invert_x': b'', 'invert_y': b'', 'invert_z': b'', 'swap_xy': b'', 'swap_yz': b'', 'swap_zx': b'', 'nb_streamlines': 577555, 'version': 2, 'hdr_size': 1000, 'endianness': '<', '_offset_data': 1000})\n"
     ]
    }
   ],
   "source": [
    "print(trkavgt)"
   ]
  },
  {
   "cell_type": "code",
   "execution_count": 27,
   "metadata": {},
   "outputs": [],
   "source": [
    "trk = load_tractogram('/Users/mahdi/stage-2022-mahdi/niftis/allen_wildtype_tractogram.trk')"
   ]
  },
  {
   "cell_type": "code",
   "execution_count": 28,
   "metadata": {},
   "outputs": [
    {
     "name": "stdout",
     "output_type": "stream",
     "text": [
      "(ArraySequence([array([[ 4.4000001 , -5.5999999 , -6.9000001 ],\n",
      "       [ 4.40700006, -5.55600023, -6.98899984],\n",
      "       [ 4.47900009, -5.48500013, -6.98500013],\n",
      "       [ 4.48100042, -5.40899992, -6.99900007],\n",
      "       [ 4.51600027, -5.40700006, -6.99800062],\n",
      "       [ 4.57999992, -5.40800047, -7.0250001 ],\n",
      "       [ 4.57700014, -5.37599993, -7.00400019],\n",
      "       [ 4.59700012, -5.39599991, -7.0250001 ],\n",
      "       [ 4.59200001, -5.36300039, -7.00699997],\n",
      "       [ 4.5999999 , -5.32599974, -7.00600004],\n",
      "       [ 4.62000036, -5.34600019, -7.0260005 ],\n",
      "       [ 4.5999999 , -5.32599974, -7.00600004],\n",
      "       [ 4.62000036, -5.34600019, -7.0260005 ],\n",
      "       [ 4.5999999 , -5.32599974, -7.00600004],\n",
      "       [ 4.61000013, -5.28700018, -7.00800037],\n",
      "       [ 4.61000013, -5.24500036, -6.99800062],\n",
      "       [ 4.63700008, -5.19399977, -7.02200031],\n",
      "       [ 4.68300009, -5.125     , -7.00699997],\n",
      "       [ 4.73000002, -5.07999992, -7.02200031],\n",
      "       [ 4.70900011, -5.0619998 , -7.00199986],\n",
      "       [ 4.73000002, -5.07999992, -7.02200031],\n",
      "       [ 4.70900011, -5.0619998 , -7.00199986],\n",
      "       [ 4.73000002, -5.07999992, -7.02200031],\n",
      "       [ 4.70900011, -5.0619998 , -7.00199986],\n",
      "       [ 4.74900007, -5.04199982, -7.02799988],\n",
      "       [ 4.72900009, -5.02200031, -7.00800037],\n",
      "       [ 4.74900007, -5.04199982, -7.02799988],\n",
      "       [ 4.74300003, -5.00800037, -7.00600004],\n",
      "       [ 4.76300001, -5.02799988, -7.0260005 ],\n",
      "       [ 4.74300003, -5.00800037, -7.00600004],\n",
      "       [ 4.76300001, -5.02799988, -7.0260005 ],\n",
      "       [ 4.7590003 , -4.99599981, -7.0010004 ],\n",
      "       [ 4.76300001, -4.97000027, -6.97100019],\n",
      "       [ 4.82299995, -4.9369998 , -6.96600056],\n",
      "       [ 4.90500021, -4.88800001, -6.92500019],\n",
      "       [ 4.95800018, -4.82299995, -6.89899969],\n",
      "       [ 5.02200031, -4.76900005, -6.86399984],\n",
      "       [ 5.08400011, -4.6960001 , -6.82399988],\n",
      "       [ 5.15800047, -4.63199997, -6.80599976],\n",
      "       [ 5.24599981, -4.58300018, -6.80700016],\n",
      "       [ 5.30999994, -4.52600002, -6.77200031],\n",
      "       [ 5.37700033, -4.48199987, -6.71299982],\n",
      "       [ 5.45300007, -4.41200018, -6.70199966],\n",
      "       [ 5.50800037, -4.32700014, -6.69400024],\n",
      "       [ 5.56699991, -4.26600027, -6.63700056],\n",
      "       [ 5.65999985, -4.24700022, -6.59899998],\n",
      "       [ 5.75699997, -4.23800039, -6.56600046],\n",
      "       [ 5.85600042, -4.24100018, -6.53300047],\n",
      "       [ 5.95600033, -4.23100042, -6.50800037],\n",
      "       [ 6.05900002, -4.21899986, -6.50199986],\n",
      "       [ 6.16200018, -4.21400023, -6.5       ],\n",
      "       [ 6.26600027, -4.20700026, -6.5       ],\n",
      "       [ 6.3670001 , -4.20499992, -6.51900053],\n",
      "       [ 6.45300007, -4.20200014, -6.57500029],\n",
      "       [ 6.55599976, -4.20000029, -6.59299994],\n",
      "       [ 6.65899992, -4.20099974, -6.59700012],\n",
      "       [ 6.76300001, -4.20700026, -6.59899998],\n",
      "       [ 6.86600065, -4.22000027, -6.59899998],\n",
      "       [ 6.96900034, -4.21700001, -6.58700037],\n",
      "       [ 7.02799988, -4.17400026, -6.51699972],\n",
      "       [ 7.09299994, -4.10900021, -6.47300053],\n",
      "       [ 7.125     , -4.05200005, -6.39400005],\n",
      "       [ 7.18499994, -4.01200008, -6.32000017],\n",
      "       [ 7.23700047, -4.00200033, -6.23100042],\n",
      "       [ 7.27699995, -4.        , -6.13499975],\n",
      "       [ 7.30199957, -4.        , -6.03399992],\n",
      "       [ 7.34200001, -4.        , -5.9380002 ],\n",
      "       [ 7.39499998, -4.        , -5.84900045],\n",
      "       [ 7.45599985, -4.        , -5.76500034],\n",
      "       [ 7.5250001 , -4.00099993, -5.6869998 ],\n",
      "       [ 7.58700037, -4.00699997, -5.60500002],\n",
      "       [ 7.64899969, -4.0090003 , -5.52200031],\n",
      "       [ 7.7420001 , -4.00500011, -5.47800016],\n",
      "       [ 7.73399973, -4.03200006, -5.43499994]], dtype=float32), array([[ 4.80000019, -7.        , -5.0999999 ],\n",
      "       [ 4.90299988, -7.        , -5.0999999 ],\n",
      "       [ 5.00699997, -7.00899982, -5.0999999 ],\n",
      "       [ 5.11000013, -7.01500034, -5.0999999 ],\n",
      "       [ 5.21400023, -7.01100016, -5.09900045],\n",
      "       [ 5.31800032, -7.00699997, -5.09900045],\n",
      "       [ 5.42200041, -7.00400019, -5.09900045],\n",
      "       [ 5.52600002, -7.00199986, -5.09900045],\n",
      "       [ 5.63000011, -7.0010004 , -5.09900045],\n",
      "       [ 5.73400021, -7.        , -5.09900045],\n",
      "       [ 5.8380003 , -7.        , -5.09900045],\n",
      "       [ 5.94199991, -7.        , -5.09900045],\n",
      "       [ 6.04500008, -7.        , -5.09900045],\n",
      "       [ 6.14900017, -7.        , -5.09900045],\n",
      "       [ 6.25099993, -6.98600006, -5.09900045],\n",
      "       [ 6.32400036, -6.91299963, -5.0999999 ],\n",
      "       [ 6.37900019, -6.82699966, -5.1170001 ],\n",
      "       [ 6.39800024, -6.73600006, -5.16100025],\n",
      "       [ 6.41500044, -6.63700056, -5.18600035],\n",
      "       [ 6.47399998, -6.55199957, -5.19500017],\n",
      "       [ 6.53900003, -6.47100019, -5.19799995],\n",
      "       [ 6.61500025, -6.4010005 , -5.19900036],\n",
      "       [ 6.7050004 , -6.35099983, -5.20900011],\n",
      "       [ 6.79100037, -6.30800009, -5.24800014],\n",
      "       [ 6.87900019, -6.26200008, -5.27799988],\n",
      "       [ 6.97300053, -6.23000002, -5.30700016],\n",
      "       [ 7.06200027, -6.20099974, -5.35300016],\n",
      "       [ 7.15199995, -6.16300011, -5.38800001],\n",
      "       [ 7.24800062, -6.13199997, -5.40999985],\n",
      "       [ 7.32600021, -6.06699991, -5.42999983],\n",
      "       [ 7.39400053, -5.99000025, -5.4460001 ],\n",
      "       [ 7.44899988, -5.90400028, -5.46400023],\n",
      "       [ 7.48899984, -5.81100035, -5.48800039],\n",
      "       [ 7.52300024, -5.71700001, -5.51500034],\n",
      "       [ 7.55899954, -5.63300037, -5.56100035],\n",
      "       [ 7.58599997, -5.57200003, -5.64100027],\n",
      "       [ 7.60300016, -5.50500011, -5.71899986],\n",
      "       [ 7.64100027, -5.42600012, -5.77099991],\n",
      "       [ 7.70899963, -5.3499999 , -5.78700018],\n",
      "       [ 7.77900028, -5.27300024, -5.79300022],\n",
      "       [ 7.83900023, -5.1880002 , -5.79700041],\n",
      "       [ 7.87699986, -5.09200001, -5.79900026],\n",
      "       [ 7.89300013, -4.99000025, -5.79900026],\n",
      "       [ 7.9010005 , -4.88899994, -5.8210001 ],\n",
      "       [ 7.93200016, -4.79400015, -5.8499999 ],\n",
      "       [ 7.96799994, -4.69700003, -5.85400009],\n",
      "       [ 7.98699999, -4.59800005, -5.82800007],\n",
      "       [ 7.99599981, -4.51200008, -5.77200031],\n",
      "       [ 8.01200008, -4.4380002 , -5.70200014],\n",
      "       [ 8.02200031, -4.37099981, -5.62300014],\n",
      "       [ 8.02099991, -4.30900002, -5.54000044],\n",
      "       [ 8.01299953, -4.25      , -5.454     ],\n",
      "       [ 8.02400017, -4.1880002 , -5.38000011],\n",
      "       [ 7.97100019, -4.19399977, -5.29400015]], dtype=float32), array([[ 4.9000001 , -4.80000019, -6.9000001 ],\n",
      "       [ 5.00500011, -4.79199982, -6.88399982],\n",
      "       [ 5.06100035, -4.71700001, -6.83900023],\n",
      "       [ 5.10200024, -4.67200041, -6.80700016],\n",
      "       [ 5.1880002 , -4.61899996, -6.81600046],\n",
      "       [ 5.27900028, -4.56699991, -6.78499985],\n",
      "       [ 5.34900045, -4.49700022, -6.7249999 ],\n",
      "       [ 5.4749999 , -4.38600016, -6.70599985],\n",
      "       [ 5.54300022, -4.28200006, -6.65500021],\n",
      "       [ 5.62599993, -4.25200033, -6.60400009],\n",
      "       [ 5.7249999 , -4.24000025, -6.579     ],\n",
      "       [ 5.82299995, -4.24100018, -6.54400015],\n",
      "       [ 5.92200041, -4.23600006, -6.51300001],\n",
      "       [ 6.02400017, -4.22100019, -6.50299978],\n",
      "       [ 6.12799978, -4.21700001, -6.5       ],\n",
      "       [ 6.23100042, -4.20900011, -6.5       ],\n",
      "       [ 6.33500004, -4.20600033, -6.50500059],\n",
      "       [ 6.42200041, -4.20300007, -6.55999994],\n",
      "       [ 6.52099991, -4.20000029, -6.59000015],\n",
      "       [ 6.625     , -4.20099974, -6.59600019],\n",
      "       [ 6.72900009, -4.204     , -6.59899998],\n",
      "       [ 6.83200026, -4.21700001, -6.59899998],\n",
      "       [ 6.93499994, -4.21799994, -6.59600019],\n",
      "       [ 7.00899982, -4.19300032, -6.53900003],\n",
      "       [ 7.07300043, -4.13000011, -6.4920001 ],\n",
      "       [ 7.125     , -4.05200005, -6.39400005],\n",
      "       [ 7.20300007, -4.00600004, -6.29099989],\n",
      "       [ 7.2510004 , -4.00099993, -6.19900036],\n",
      "       [ 7.30199957, -4.        , -6.03399992],\n",
      "       [ 7.34200001, -4.        , -5.9380002 ],\n",
      "       [ 7.39499998, -4.        , -5.84900045],\n",
      "       [ 7.47800016, -4.        , -5.73800039],\n",
      "       [ 7.56800032, -4.00600004, -5.63300037],\n",
      "       [ 7.64899969, -4.0090003 , -5.52200031],\n",
      "       [ 7.72200012, -4.0250001 , -5.45800018],\n",
      "       [ 7.71400023, -4.05200005, -5.41500044]], dtype=float32), ..., array([[ 10.69999981,  -7.4000001 ,  -4.20000029],\n",
      "       [ 10.6970005 ,  -7.33500004,  -4.13899994],\n",
      "       [ 10.69900036,  -7.25800037,  -4.02400017],\n",
      "       [ 10.69900036,  -7.20700026,  -3.93300033],\n",
      "       [ 10.69200039,  -7.13700056,  -3.81399989],\n",
      "       [ 10.62900066,  -7.0800004 ,  -3.70800018],\n",
      "       [ 10.51900005,  -7.04199982,  -3.63300014],\n",
      "       [ 10.38000011,  -7.01999998,  -3.56900001],\n",
      "       [ 10.28299999,  -7.00500059,  -3.53699994],\n",
      "       [ 10.18000031,  -7.0010004 ,  -3.52000022],\n",
      "       [ 10.06700039,  -7.        ,  -3.51899981],\n",
      "       [  9.97200012,  -6.98099995,  -3.49799991],\n",
      "       [  9.88099957,  -6.98799992,  -3.45200014],\n",
      "       [  9.80500031,  -6.99300003,  -3.38100028],\n",
      "       [  9.73900032,  -6.99599981,  -3.30099988],\n",
      "       [  9.67800045,  -6.99900007,  -3.21699977],\n",
      "       [  9.63899994,  -7.01399994,  -3.12000012],\n",
      "       [  9.57300091,  -7.05299997,  -3.05200005],\n",
      "       [  9.53600025,  -7.07200003,  -2.95799994],\n",
      "       [  9.49300003,  -7.08300018,  -2.87700009],\n",
      "       [  9.42700005,  -7.09000015,  -2.77900004],\n",
      "       [  9.3760004 ,  -7.09299994,  -2.68899989],\n",
      "       [  9.30500031,  -7.07600021,  -2.61500001],\n",
      "       [  9.23300076,  -7.05100012,  -2.54400015],\n",
      "       [  9.15700054,  -7.0250001 ,  -2.47800016],\n",
      "       [  9.08300018,  -6.99300003,  -2.41400003],\n",
      "       [  9.00899982,  -6.96000004,  -2.34800005],\n",
      "       [  8.93099976,  -6.92900038,  -2.28600001],\n",
      "       [  8.85400009,  -6.88899994,  -2.23000002],\n",
      "       [  8.78700066,  -6.84700012,  -2.19099998],\n",
      "       [  8.70800018,  -6.80400038,  -2.13899994],\n",
      "       [  8.60999966,  -6.7420001 ,  -2.08299994],\n",
      "       [  8.49600029,  -6.69899988,  -2.01699996],\n",
      "       [  8.40700054,  -6.67799997,  -1.96700001],\n",
      "       [  8.31999969,  -6.65199995,  -1.91700006],\n",
      "       [  8.20400047,  -6.60899973,  -1.8549999 ],\n",
      "       [  8.09800053,  -6.55299997,  -1.78700006],\n",
      "       [  7.99800062,  -6.48500013,  -1.73500001],\n",
      "       [  7.92600012,  -6.43799973,  -1.71599996]], dtype=float32), array([[ 10.80000019,  -7.0999999 ,  -3.5       ],\n",
      "       [ 10.70500088,  -7.14100027,  -3.5       ],\n",
      "       [ 10.63300037,  -7.06800032,  -3.5       ],\n",
      "       [ 10.53800011,  -7.0260005 ,  -3.5       ],\n",
      "       [ 10.43500042,  -7.00899982,  -3.5       ],\n",
      "       [ 10.33199978,  -7.00199986,  -3.5       ],\n",
      "       [ 10.21500015,  -7.00699997,  -3.49700022],\n",
      "       [ 10.13300037,  -7.0010004 ,  -3.49000025],\n",
      "       [ 10.02900028,  -7.        ,  -3.49600005],\n",
      "       [  9.90899944,  -6.98700047,  -3.47300005],\n",
      "       [  9.82900047,  -6.99100065,  -3.40700006],\n",
      "       [  9.76100063,  -6.99499989,  -3.32799983],\n",
      "       [  9.69800091,  -6.99700022,  -3.24600005],\n",
      "       [  9.64400005,  -7.00999975,  -3.15799999],\n",
      "       [  9.60000038,  -7.04000044,  -3.09599996],\n",
      "       [  9.5710001 ,  -7.06600046,  -2.98200011],\n",
      "       [  9.50400066,  -7.0800004 ,  -2.89599991],\n",
      "       [  9.46600056,  -7.08799982,  -2.82099986],\n",
      "       [  9.3949995 ,  -7.09499979,  -2.71700001],\n",
      "       [  9.32900047,  -7.08300018,  -2.63899994],\n",
      "       [  9.25699997,  -7.05999994,  -2.56700015],\n",
      "       [  9.18200016,  -7.03399992,  -2.5       ],\n",
      "       [  9.10800076,  -7.00400019,  -2.43400002],\n",
      "       [  9.03399944,  -6.96900034,  -2.37000012],\n",
      "       [  8.95800018,  -6.94000006,  -2.30599999],\n",
      "       [  8.87900066,  -6.90299988,  -2.24900007],\n",
      "       [  8.81400013,  -6.85699987,  -2.2110002 ],\n",
      "       [  8.73499966,  -6.81999969,  -2.15400004],\n",
      "       [  8.64400005,  -6.77099991,  -2.10500002],\n",
      "       [  8.58100033,  -6.7300005 ,  -2.06800008],\n",
      "       [  8.49600029,  -6.69899988,  -2.01699996],\n",
      "       [  8.40700054,  -6.67799997,  -1.96700001],\n",
      "       [  8.31999969,  -6.65199995,  -1.91700006],\n",
      "       [  8.23099995,  -6.61999989,  -1.87300003],\n",
      "       [  8.14900017,  -6.58599997,  -1.82000005],\n",
      "       [  8.06700039,  -6.51600027,  -1.77800012],\n",
      "       [  7.98399973,  -6.46900034,  -1.73799992],\n",
      "       [  7.87300062,  -6.39700031,  -1.699     ]], dtype=float32), array([[ 10.80000019,  -7.4000001 ,  -3.9000001 ],\n",
      "       [ 10.71600056,  -7.36900043,  -3.84700012],\n",
      "       [ 10.69200039,  -7.27099991,  -3.80600023],\n",
      "       [ 10.66499996,  -7.19000006,  -3.74799991],\n",
      "       [ 10.62100029,  -7.12799978,  -3.69199991],\n",
      "       [ 10.52099991,  -7.08300018,  -3.64700007],\n",
      "       [ 10.44000053,  -7.04100037,  -3.59700012],\n",
      "       [ 10.34800053,  -7.01300001,  -3.55699992],\n",
      "       [ 10.2489996 ,  -7.00299978,  -3.52999997],\n",
      "       [ 10.1239996 ,  -6.99900007,  -3.53200006],\n",
      "       [ 10.02900028,  -7.        ,  -3.49600005],\n",
      "       [  9.92100048,  -7.        ,  -3.49900031],\n",
      "       [  9.85400009,  -6.99000025,  -3.43000007],\n",
      "       [  9.78299999,  -6.99400043,  -3.35500002],\n",
      "       [  9.71900082,  -6.99599981,  -3.273     ],\n",
      "       [  9.66100025,  -7.00199986,  -3.18700004],\n",
      "       [  9.60000038,  -7.04000044,  -3.09599996],\n",
      "       [  9.5710001 ,  -7.06600046,  -2.98200011],\n",
      "       [  9.50400066,  -7.0800004 ,  -2.89599991],\n",
      "       [  9.46600056,  -7.08799982,  -2.82099986],\n",
      "       [  9.4289999 ,  -7.10800028,  -2.73099995],\n",
      "       [  9.35299969,  -7.08900023,  -2.66299987],\n",
      "       [  9.28100014,  -7.06900024,  -2.59100008],\n",
      "       [  9.20800018,  -7.04300022,  -2.52200007],\n",
      "       [  9.13300037,  -7.01500034,  -2.45600009],\n",
      "       [  9.05800056,  -6.9800005 ,  -2.39199996],\n",
      "       [  8.98400021,  -6.95000029,  -2.32599998],\n",
      "       [  8.90500069,  -6.91699982,  -2.26699996],\n",
      "       [  8.81400013,  -6.85699987,  -2.2110002 ],\n",
      "       [  8.73499966,  -6.81999969,  -2.15400004],\n",
      "       [  8.67000008,  -6.76800013,  -2.10400009],\n",
      "       [  8.58100033,  -6.7300005 ,  -2.06800008],\n",
      "       [  8.49600029,  -6.69899988,  -2.01699996],\n",
      "       [  8.40700054,  -6.67799997,  -1.96700001],\n",
      "       [  8.31999969,  -6.65199995,  -1.91700006],\n",
      "       [  8.23099995,  -6.61999989,  -1.87300003],\n",
      "       [  8.14900017,  -6.58599997,  -1.82000005],\n",
      "       [  8.06700039,  -6.51600027,  -1.77800012],\n",
      "       [  7.98399973,  -6.46900034,  -1.73799992],\n",
      "       [  7.87300062,  -6.39700031,  -1.699     ]], dtype=float32)]), {'magic_number': b'TRACK', 'dimensions': array([264, 160, 228], dtype=int16), 'voxel_sizes': array([ 0.05,  0.05,  0.05], dtype=float32), 'origin': array([ 0.,  0.,  0.], dtype=float32), 'nb_scalars_per_point': 0, 'scalar_name': array([b'', b'', b'', b'', b'', b'', b'', b'', b'', b''], \n",
      "      dtype='|S20'), 'nb_properties_per_streamline': 0, 'property_name': array([b'', b'', b'', b'', b'', b'', b'', b'', b'', b''], \n",
      "      dtype='|S20'), 'voxel_to_rasmm': array([[ 0.  ,  0.  ,  0.05,  0.  ],\n",
      "       [-0.05,  0.  ,  0.  ,  0.  ],\n",
      "       [ 0.  , -0.05,  0.  ,  0.  ],\n",
      "       [ 0.  ,  0.  ,  0.  ,  1.  ]], dtype=float32), 'reserved': b'', 'voxel_order': b'PIR', 'pad2': b'', 'image_orientation_patient': array([ 0.,  0.,  0.,  0.,  0.,  0.], dtype=float32), 'pad1': b'', 'invert_x': b'', 'invert_y': b'', 'invert_z': b'', 'swap_xy': b'', 'swap_yz': b'', 'swap_zx': b'', 'nb_streamlines': 577555, 'version': 2, 'hdr_size': 1000, 'endianness': '<', '_offset_data': 1000})\n"
     ]
    }
   ],
   "source": [
    "print(trk)"
   ]
  },
  {
   "cell_type": "code",
   "execution_count": 1,
   "metadata": {},
   "outputs": [],
   "source": [
    "from scipy.io import loadmat, savemat"
   ]
  },
  {
   "cell_type": "code",
   "execution_count": 92,
   "metadata": {},
   "outputs": [],
   "source": [
    "mat = loadmat('/Users/mahdi/stage-2022-mahdi/transformations_allen2avgt/allen2avgtAffine_50.mat')\n",
    "affn = np.eye(4)\n",
    "affn[:3, :3] = mat['AffineTransform_float_3_3'][:9].reshape((3,3))\n",
    "affn[:3, 3] =  mat['AffineTransform_float_3_3'][9:].squeeze()"
   ]
  },
  {
   "cell_type": "code",
   "execution_count": 93,
   "metadata": {},
   "outputs": [
    {
     "name": "stdout",
     "output_type": "stream",
     "text": [
      "[[  1.40010476e+00   7.93613726e-05  -2.72541976e-04   3.25529709e+01]\n",
      " [ -1.61930133e-04   1.35685694e+00   3.45518261e-01   2.24906101e+01]\n",
      " [  1.27313469e-04  -3.46717477e-01   1.35826540e+00   4.84793854e+00]\n",
      " [  0.00000000e+00   0.00000000e+00   0.00000000e+00   1.00000000e+00]]\n"
     ]
    }
   ],
   "source": [
    "print(affn)"
   ]
  },
  {
   "cell_type": "code",
   "execution_count": 22,
   "metadata": {},
   "outputs": [],
   "source": [
    "data = mat['AffineTransform_float_3_3']\n",
    "fixed = mat['fixed']"
   ]
  },
  {
   "cell_type": "code",
   "execution_count": 23,
   "metadata": {},
   "outputs": [],
   "source": [
    "mat_dic = {\n",
    "    'AffineTransform_double_3_3': data,\n",
    "    'fixed': fixed\n",
    "}"
   ]
  },
  {
   "cell_type": "code",
   "execution_count": 24,
   "metadata": {},
   "outputs": [
    {
     "name": "stdout",
     "output_type": "stream",
     "text": [
      "{'AffineTransform_double_3_3': array([[  1.40010476e+00],\n",
      "       [  7.93613726e-05],\n",
      "       [ -2.72541976e-04],\n",
      "       [ -1.61930133e-04],\n",
      "       [  1.35685694e+00],\n",
      "       [  3.45518261e-01],\n",
      "       [  1.27313469e-04],\n",
      "       [ -3.46717477e-01],\n",
      "       [  1.35826540e+00],\n",
      "       [  3.25529709e+01],\n",
      "       [  2.24906101e+01],\n",
      "       [  4.84793854e+00]], dtype=float32), 'fixed': array([[ 81.35860443],\n",
      "       [ 94.48912811],\n",
      "       [ 79.52913666]], dtype=float32)}\n"
     ]
    }
   ],
   "source": [
    "print(mat_dic)"
   ]
  },
  {
   "cell_type": "code",
   "execution_count": 25,
   "metadata": {},
   "outputs": [],
   "source": [
    "savemat(\n",
    "    '/Users/mahdi/stage-2022-mahdi/transformations_allen2avgt/tract.mat',\n",
    "    mat_dic)"
   ]
  },
  {
   "cell_type": "code",
   "execution_count": 8,
   "metadata": {},
   "outputs": [
    {
     "name": "stdout",
     "output_type": "stream",
     "text": [
      "{'AffineTransform_float_3_3': array([[  1.40010476e+00],\n",
      "       [  7.93613726e-05],\n",
      "       [ -2.72541976e-04],\n",
      "       [ -1.61930133e-04],\n",
      "       [  1.35685694e+00],\n",
      "       [  3.45518261e-01],\n",
      "       [  1.27313469e-04],\n",
      "       [ -3.46717477e-01],\n",
      "       [  1.35826540e+00],\n",
      "       [  3.25529709e+01],\n",
      "       [  2.24906101e+01],\n",
      "       [  4.84793854e+00]], dtype=float32), 'fixed': array([[ 81.35860443],\n",
      "       [ 94.48912811],\n",
      "       [ 79.52913666]], dtype=float32)}\n"
     ]
    }
   ],
   "source": [
    "print(mat)"
   ]
  },
  {
   "cell_type": "markdown",
   "metadata": {},
   "source": [
    "# dipy\n"
   ]
  },
  {
   "cell_type": "code",
   "execution_count": 2,
   "metadata": {},
   "outputs": [],
   "source": [
    "from dipy.tracking.streamline import transform_streamlines"
   ]
  },
  {
   "cell_type": "code",
   "execution_count": 6,
   "metadata": {},
   "outputs": [],
   "source": [
    "sft_file = '/Users/mahdi/stage-2022-mahdi/niftis/allen_wildtype_tractogram.tck'\n",
    "ref = '/Users/mahdi/stage-2022-mahdi/allen_template_50.nii.gz'"
   ]
  },
  {
   "cell_type": "code",
   "execution_count": 7,
   "metadata": {},
   "outputs": [],
   "source": [
    "transfo_dict = loadmat('/Users/mahdi/stage-2022-mahdi/transformations_allen2avgt/allen2avgtAffine_50.mat')\n",
    "lps2ras = np.diag([-1, -1, 1])\n",
    "rot = transfo_dict['AffineTransform_float_3_3'][0:9].reshape((3, 3))\n",
    "trans = transfo_dict['AffineTransform_float_3_3'][9:12]\n",
    "offset = transfo_dict['fixed']\n",
    "r_trans = (np.dot(rot, offset) - offset - trans).T * [1, 1, -1]\n",
    "data = np.eye(4)\n",
    "data[0:3, 3] = r_trans\n",
    "data[:3, :3] = np.dot(np.dot(lps2ras, rot), lps2ras)"
   ]
  },
  {
   "cell_type": "code",
   "execution_count": 8,
   "metadata": {},
   "outputs": [
    {
     "name": "stdout",
     "output_type": "stream",
     "text": [
      "[[  1.40010476e+00   7.93613726e-05   2.72541976e-04  -1.51824951e-02]\n",
      " [ -1.61930133e-04   1.35685694e+00  -3.45518261e-01   3.86941071e+01]\n",
      " [ -1.27313469e-04   3.46717477e-01   1.35826540e+00   9.10607910e+00]\n",
      " [  0.00000000e+00   0.00000000e+00   0.00000000e+00   1.00000000e+00]]\n"
     ]
    }
   ],
   "source": [
    "print(data)"
   ]
  },
  {
   "cell_type": "code",
   "execution_count": 8,
   "metadata": {},
   "outputs": [],
   "source": [
    "B = np.array([[ 0.05,  0,        0,      0],\n",
    "             [  0,    -0.05,     0,      0],\n",
    "             [  0,     0,       -0.05,   0],\n",
    "             [  0,     0,        0,      1]])"
   ]
  },
  {
   "cell_type": "code",
   "execution_count": 10,
   "metadata": {},
   "outputs": [],
   "source": [
    "B_ = np.array([[ -0.05,  0,        0,      0],\n",
    "             [  0,    -0.05,     0,      0],\n",
    "             [  0,     0,       -0.05,   0],\n",
    "             [  0,     0,        0,      1]])"
   ]
  },
  {
   "cell_type": "code",
   "execution_count": 11,
   "metadata": {},
   "outputs": [],
   "source": [
    "t = data @ np.eye(4)/2 @ np.linalg.inv(B)"
   ]
  },
  {
   "cell_type": "code",
   "execution_count": 9,
   "metadata": {},
   "outputs": [],
   "source": [
    "t_ = data @ np.diag(np.array([.5, .5, .5, 1])) @ np.linalg.inv(B)"
   ]
  },
  {
   "cell_type": "code",
   "execution_count": 75,
   "metadata": {},
   "outputs": [],
   "source": [
    "tp = np.linalg.inv(data) @ np.linalg.inv(B)"
   ]
  },
  {
   "cell_type": "code",
   "execution_count": 13,
   "metadata": {},
   "outputs": [],
   "source": [
    "it = data @ np.eye(4)/2 @ np.linalg.inv(B_)"
   ]
  },
  {
   "cell_type": "code",
   "execution_count": 83,
   "metadata": {},
   "outputs": [],
   "source": [
    "sft_streamlines, sft_hdr = load_tractogram(filename=sft_file)"
   ]
  },
  {
   "cell_type": "code",
   "execution_count": 76,
   "metadata": {},
   "outputs": [],
   "source": [
    "warped_streamlines = transform_streamlines(sft_streamlines,tp, True)"
   ]
  },
  {
   "cell_type": "code",
   "execution_count": 89,
   "metadata": {},
   "outputs": [],
   "source": [
    "allen_ras_streamlines = transform_streamlines(sft_streamlines, B )"
   ]
  },
  {
   "cell_type": "code",
   "execution_count": 90,
   "metadata": {},
   "outputs": [],
   "source": [
    "avgt_vox_streamlines = transform_streamlines(allen_ras_streamlines, data)"
   ]
  },
  {
   "cell_type": "code",
   "execution_count": 16,
   "metadata": {},
   "outputs": [],
   "source": [
    "new_sft = \"/Users/mahdi/stage-2022-mahdi/niftis/new_tract.tck\""
   ]
  },
  {
   "cell_type": "code",
   "execution_count": 356,
   "metadata": {},
   "outputs": [],
   "source": [
    "affine_copy = np.array([[ 0.7 , 0.        , 0.       , -1.49],\n",
    "                       [ 0.         , 0.7, 0.        , -(8.37-5.60)+.4],\n",
    "                       [ 0.         , 0.        , 0.7, -2.99+0.53-0.27-0.41-.3],\n",
    "                       [ 0.         , 0.        , 0.        , 1]])"
   ]
  },
  {
   "cell_type": "code",
   "execution_count": 357,
   "metadata": {},
   "outputs": [],
   "source": [
    "save_tractogram(\n",
    "    new_sft,\n",
    "    warped_streamlines,\n",
    "    affine_copy\n",
    "    )"
   ]
  },
  {
   "cell_type": "code",
   "execution_count": 368,
   "metadata": {},
   "outputs": [],
   "source": [
    "save_tractogram(\n",
    "    \"/Users/mahdi/stage-2022-mahdi/niftis/testrack.tck\",\n",
    "    warped_streamlines,\n",
    "    affine\n",
    "    )"
   ]
  },
  {
   "cell_type": "code",
   "execution_count": 12,
   "metadata": {},
   "outputs": [],
   "source": [
    "rotation = np.array([\n",
    "    [1,  0,  0, 0],\n",
    "    [0, -1,  0, 0],\n",
    "    [0,  0, -1, 0],\n",
    "    [0,  0,  0, 1]\n",
    "    ])"
   ]
  },
  {
   "cell_type": "code",
   "execution_count": 13,
   "metadata": {},
   "outputs": [],
   "source": [
    "translation = np.array([\n",
    "    [1, 0, 0,  0  ],\n",
    "    [0, 1, 0, -212],\n",
    "    [0, 0, 1, -158],\n",
    "    [0, 0, 0,  1  ]\n",
    "    ])"
   ]
  },
  {
   "cell_type": "code",
   "execution_count": 458,
   "metadata": {},
   "outputs": [],
   "source": [
    "save_tractogram(\n",
    "    \"/Users/mahdi/stage-2022-mahdi/niftis/test.tck\",\n",
    "    warped_streamlines,\n",
    "    affine @ rotation @ translation\n",
    "    )"
   ]
  },
  {
   "cell_type": "code",
   "execution_count": 91,
   "metadata": {},
   "outputs": [],
   "source": [
    "save_tractogram(\n",
    "    \"/Users/mahdi/stage-2022-mahdi/niftis/deform.tck\",\n",
    "    avgt_vox_streamlines,\n",
    "    np.eye(4)\n",
    "    )"
   ]
  },
  {
   "cell_type": "code",
   "execution_count": 17,
   "metadata": {},
   "outputs": [],
   "source": [
    "from dipy.tracking.streamline import apply_affine"
   ]
  },
  {
   "cell_type": "code",
   "execution_count": 19,
   "metadata": {},
   "outputs": [],
   "source": [
    "import ants\n",
    "tx50 = ants.read_transform('/Users/mahdi/stage-2022-mahdi/transformations_allen2avgt/allen2avgtAffine_50.mat')\n",
    "itx50 = tx50.invert()"
   ]
  },
  {
   "cell_type": "code",
   "execution_count": 92,
   "metadata": {},
   "outputs": [
    {
     "name": "stdout",
     "output_type": "stream",
     "text": [
      "(ArraySequence([array([[  0.2929568 ,  38.95478821,   9.67173386],\n",
      "       [  0.29344788,  38.95026398,   9.6770153 ],\n",
      "       [  0.29848793,  38.94551468,   9.67551231],\n",
      "       [  0.29862785,  38.94011688,   9.67514515],\n",
      "       [  0.30107799,  38.93999863,   9.67504215],\n",
      "       [  0.30555868,  38.9396019 ,   9.67689323],\n",
      "       [  0.30534828,  38.93779373,   9.67491245],\n",
      "       [  0.30674875,  38.93878555,   9.67668533],\n",
      "       [  0.30639833,  38.93685913,   9.67489052],\n",
      "       [  0.3069582 ,  38.93436432,   9.67418098],\n",
      "       [  0.3083587 ,  38.93537521,   9.67588615],\n",
      "       [  0.3069582 ,  38.93436432,   9.67418098],\n",
      "       [  0.3083587 ,  38.93537521,   9.67588615],\n",
      "       [  0.3069582 ,  38.93436432,   9.67418098],\n",
      "       [  0.30765814,  38.9316864 ,   9.6736412 ],\n",
      "       [  0.30765784,  38.92900848,   9.67223358],\n",
      "       [  0.30954811,  38.92513275,   9.67297935],\n",
      "       [  0.31276786,  38.92071152,   9.67076397],\n",
      "       [  0.31605813,  38.91740036,   9.67100239],\n",
      "       [  0.31458768,  38.91652298,   9.66933155],\n",
      "       [  0.31605813,  38.91740036,   9.67100239],\n",
      "       [  0.31458768,  38.91652298,   9.66933155],\n",
      "       [  0.31605813,  38.91740036,   9.67100239],\n",
      "       [  0.31458768,  38.91652298,   9.66933155],\n",
      "       [  0.31738818,  38.91471863,   9.67075062],\n",
      "       [  0.31598771,  38.91370773,   9.6690464 ],\n",
      "       [  0.31738818,  38.91471863,   9.67075062],\n",
      "       [  0.3169677 ,  38.91279221,   9.66866779],\n",
      "       [  0.31836814,  38.9138031 ,   9.67037201],\n",
      "       [  0.3169677 ,  38.91279221,   9.66866779],\n",
      "       [  0.31836814,  38.9138031 ,   9.67037201],\n",
      "       [  0.31808767,  38.9120636 ,   9.66811943],\n",
      "       [  0.31836718,  38.91081619,   9.66563129],\n",
      "       [  0.32256728,  38.9086647 ,   9.66471958],\n",
      "       [  0.32830697,  38.90604782,   9.66108513],\n",
      "       [  0.33201665,  38.90208817,   9.65819168],\n",
      "       [  0.33649629,  38.89902878,   9.65487862],\n",
      "       [  0.34083578,  38.89476395,   9.65089607],\n",
      "       [  0.34601569,  38.89073181,   9.64856339],\n",
      "       [  0.35217592,  38.88739014,   9.64778137],\n",
      "       [  0.35665557,  38.88412857,   9.64441586],\n",
      "       [  0.36134496,  38.88216019,   9.63964558],\n",
      "       [  0.36666492,  38.87760162,   9.63768482],\n",
      "       [  0.37051478,  38.87197495,   9.6356678 ],\n",
      "       [  0.37464404,  38.86882019,   9.63073921],\n",
      "       [  0.38115391,  38.86818695,   9.6278286 ],\n",
      "       [  0.38794395,  38.86814499,   9.62543011],\n",
      "       [  0.39487407,  38.86891937,   9.62324047],\n",
      "       [  0.40187421,  38.86867142,   9.62136841],\n",
      "       [  0.40908459,  38.86795807,   9.62075233],\n",
      "       [  0.41629508,  38.86765289,   9.62052917],\n",
      "       [  0.42357561,  38.86717606,   9.6204071 ],\n",
      "       [  0.43064639,  38.86671448,   9.62166214],\n",
      "       [  0.43666759,  38.86553955,   9.62541294],\n",
      "       [  0.44387835,  38.86509323,   9.62660027],\n",
      "       [  0.45108894,  38.86509323,   9.62688828],\n",
      "       [  0.45836955,  38.86546326,   9.62712765],\n",
      "       [  0.4655802 ,  38.86634445,   9.62735271],\n",
      "       [  0.47279054,  38.86634827,   9.62648487],\n",
      "       [  0.47691968,  38.86463928,   9.62098503],\n",
      "       [  0.48146915,  38.86098862,   9.61686993],\n",
      "       [  0.48370802,  38.85848618,   9.61051655],\n",
      "       [  0.48790717,  38.85705185,   9.60479641],\n",
      "       [  0.49154624,  38.85791016,   9.59857845],\n",
      "       [  0.4943451 ,  38.85943222,   9.59202385],\n",
      "       [  0.49609381,  38.86117554,   9.58516502],\n",
      "       [  0.49889275,  38.86283493,   9.57864475],\n",
      "       [  0.5026018 ,  38.86437225,   9.57260036],\n",
      "       [  0.50687099,  38.86582184,   9.56689548],\n",
      "       [  0.51170027,  38.86723709,   9.56161499],\n",
      "       [  0.51603955,  38.86906052,   9.55614948],\n",
      "       [  0.52037871,  38.87062836,   9.55054665],\n",
      "       [  0.52688861,  38.87111664,   9.54748917],\n",
      "       [  0.52632809,  38.87369156,   9.54503632]], dtype=float32), array([[  0.32093993,  39.08086014,   9.57375717],\n",
      "       [  0.32815045,  39.08086014,   9.57375622],\n",
      "       [  0.33543104,  39.08147049,   9.57391167],\n",
      "       [  0.34264162,  39.08187485,   9.57401562],\n",
      "       [  0.34992215,  39.08161926,   9.57387733],\n",
      "       [  0.35720268,  39.08134842,   9.57380772],\n",
      "       [  0.36448321,  39.08114624,   9.57375526],\n",
      "       [  0.37176371,  39.08100891,   9.57371998],\n",
      "       [  0.37904426,  39.08094025,   9.57370186],\n",
      "       [  0.38632482,  39.08087158,   9.57368374],\n",
      "       [  0.39360538,  39.08087158,   9.57368279],\n",
      "       [  0.40088588,  39.08086777,   9.57368183],\n",
      "       [  0.40809643,  39.08086777,   9.57368183],\n",
      "       [  0.41537699,  39.08086777,   9.57368088],\n",
      "       [  0.42251745,  39.07991791,   9.57343769],\n",
      "       [  0.42762759,  39.07494736,   9.57223988],\n",
      "       [  0.43147776,  39.06881714,   9.57190228],\n",
      "       [  0.4328081 ,  39.06188202,   9.57331276],\n",
      "       [  0.43399814,  39.05473709,   9.57329464],\n",
      "       [  0.4381282 ,  39.04881287,   9.57243156],\n",
      "       [  0.44267827,  39.0432663 ,   9.57123089],\n",
      "       [  0.4479984 ,  39.03849792,   9.57008457],\n",
      "       [  0.45429882,  39.03493118,   9.5698967 ],\n",
      "       [  0.46031964,  39.03134155,   9.57179928],\n",
      "       [  0.46648031,  39.02770233,   9.57303905],\n",
      "       [  0.47306111,  39.02502823,   9.57445335],\n",
      "       [  0.47929206,  39.02226639,   9.57707405],\n",
      "       [  0.48559284,  39.01908112,   9.57879162],\n",
      "       [  0.49231356,  39.01659775,   9.5797472 ],\n",
      "       [  0.49777398,  39.01184082,   9.57997799],\n",
      "       [  0.50253427,  39.00634003,   9.57973003],\n",
      "       [  0.50638437,  39.00019455,   9.5794611 ],\n",
      "       [  0.50918454,  38.99346924,   9.57947826],\n",
      "       [  0.51156479,  38.98662567,   9.57968235],\n",
      "       [  0.51408517,  38.98013306,   9.58134937],\n",
      "       [  0.51597619,  38.97461319,   9.58572483],\n",
      "       [  0.51716709,  38.96871948,   9.58986092],\n",
      "       [  0.51982772,  38.96245956,   9.59202194],\n",
      "       [  0.52458793,  38.95702744,   9.59179115],\n",
      "       [  0.52948815,  38.9516983 ,   9.59086323],\n",
      "       [  0.53368819,  38.94586563,   9.58966064],\n",
      "       [  0.53634799,  38.9393158 ,   9.5881319 ],\n",
      "       [  0.53746766,  38.93239594,   9.58636379],\n",
      "       [  0.53802764,  38.92516327,   9.58610725],\n",
      "       [  0.54019779,  38.91821671,   9.5864296 ],\n",
      "       [  0.54271764,  38.91156769,   9.58501911],\n",
      "       [  0.544047  ,  38.90530014,   9.58153725],\n",
      "       [  0.54467595,  38.90043259,   9.5762434 ],\n",
      "       [  0.54579479,  38.8966217 ,   9.57020664],\n",
      "       [  0.54649353,  38.89344025,   9.5636797 ],\n",
      "       [  0.54642212,  38.89066696,   9.55696774],\n",
      "       [  0.54586065,  38.88815308,   9.55010414],\n",
      "       [  0.54662949,  38.88522339,   9.54400444],\n",
      "       [  0.54291803,  38.88711548,   9.53826809]], dtype=float32), array([[  0.32795626,  38.90050888,   9.65786171],\n",
      "       [  0.33530656,  38.90024185,   9.65663528],\n",
      "       [  0.33922595,  38.89593124,   9.6522789 ],\n",
      "       [  0.34209555,  38.8934288 ,   9.64932537],\n",
      "       [  0.34811589,  38.88967896,   9.64901733],\n",
      "       [  0.35448575,  38.88668442,   9.6460104 ],\n",
      "       [  0.35938504,  38.88297272,   9.64072132],\n",
      "       [  0.36820495,  38.87577057,   9.63750553],\n",
      "       [  0.37296423,  38.86959457,   9.63223839],\n",
      "       [  0.37877384,  38.86843872,   9.62825489],\n",
      "       [  0.38570395,  38.86805725,   9.6263485 ],\n",
      "       [  0.392564  ,  38.86872864,   9.62398815],\n",
      "       [  0.39949411,  38.86892319,   9.62179565],\n",
      "       [  0.40663445,  38.86807632,   9.62085533],\n",
      "       [  0.41391489,  38.86785889,   9.62058163],\n",
      "       [  0.42112544,  38.86731339,   9.62044239],\n",
      "       [  0.42840603,  38.86702347,   9.62072945],\n",
      "       [  0.43449724,  38.86586761,   9.62441158],\n",
      "       [  0.44142812,  38.86514664,   9.62639713],\n",
      "       [  0.44870877,  38.86510849,   9.62682056],\n",
      "       [  0.45598936,  38.86526108,   9.62707615],\n",
      "       [  0.46319997,  38.86614227,   9.62730026],\n",
      "       [  0.47041044,  38.86626053,   9.62711334],\n",
      "       [  0.47558996,  38.86554718,   9.62280846],\n",
      "       [  0.48006943,  38.86208725,   9.61852455],\n",
      "       [  0.48370802,  38.85848618,   9.61051655],\n",
      "       [  0.48916686,  38.8571434 ,   9.60272312],\n",
      "       [  0.49252588,  38.85839462,   9.59638786],\n",
      "       [  0.49609381,  38.86117554,   9.58516502],\n",
      "       [  0.49889275,  38.86283493,   9.57864475],\n",
      "       [  0.5026018 ,  38.86437225,   9.57260036],\n",
      "       [  0.50841075,  38.86628723,   9.56506157],\n",
      "       [  0.51470983,  38.86850739,   9.55803394],\n",
      "       [  0.52037871,  38.87062836,   9.55054665],\n",
      "       [  0.52548832,  38.87282181,   9.54647732],\n",
      "       [  0.52492779,  38.87539291,   9.54402542]], dtype=float32), ..., array([[  0.73396015,  39.12349701,   9.5195322 ],\n",
      "       [  0.73374909,  39.12014389,   9.5142622 ],\n",
      "       [  0.7338872 ,  39.11690521,   9.50511742],\n",
      "       [  0.73388577,  39.11501694,   9.49805355],\n",
      "       [  0.73339385,  39.11232376,   9.48875809],\n",
      "       [  0.72898185,  39.11029053,   9.48057175],\n",
      "       [  0.72128004,  39.10900879,   9.47482014],\n",
      "       [  0.71154839,  39.1086235 ,   9.47009373],\n",
      "       [  0.70475739,  39.10815811,   9.4676609 ],\n",
      "       [  0.6975466 ,  39.108181  ,   9.46643734],\n",
      "       [  0.68963599,  39.10813141,   9.46635246],\n",
      "       [  0.68298513,  39.10720444,   9.4645977 ],\n",
      "       [  0.67661399,  39.10847473,   9.46159554],\n",
      "       [  0.67129272,  39.11004257,   9.4568615 ],\n",
      "       [  0.66667128,  39.11162949,   9.45148087],\n",
      "       [  0.66239983,  39.11328506,   9.44582844],\n",
      "       [  0.65966833,  39.11597824,   9.43950081],\n",
      "       [  0.6550473 ,  39.11980057,   9.43555927],\n",
      "       [  0.65245587,  39.12271118,   9.42950535],\n",
      "       [  0.64944452,  39.12485886,   9.42419529],\n",
      "       [  0.6448229 ,  39.1270256 ,   9.41766167],\n",
      "       [  0.64125144,  39.12878418,   9.41160202],\n",
      "       [  0.63628   ,  39.12891006,   9.40628147],\n",
      "       [  0.63123858,  39.12844086,   9.40102673],\n",
      "       [  0.62591714,  39.12781906,   9.39609432],\n",
      "       [  0.62073576,  39.12675476,   9.39119339],\n",
      "       [  0.61555427,  39.12565613,   9.38613987],\n",
      "       [  0.61009294,  39.12462616,   9.38139248],\n",
      "       [  0.60470164,  39.12287903,   9.3768959 ],\n",
      "       [  0.60001063,  39.12070465,   9.3735199 ],\n",
      "       [  0.59447926,  39.11868668,   9.36924362],\n",
      "       [  0.5876177 ,  39.115448  ,   9.36436653],\n",
      "       [  0.5796361 ,  39.11367035,   9.35913944],\n",
      "       [  0.57340491,  39.1131134 ,   9.35538006],\n",
      "       [  0.56731361,  39.11221313,   9.35153389],\n",
      "       [  0.559192  ,  39.11036682,   9.3465786 ],\n",
      "       [  0.55177033,  39.10774231,   9.34099102],\n",
      "       [  0.54476881,  39.10403061,   9.33628082],\n",
      "       [  0.53972799,  39.10116959,   9.33417606]], dtype=float32), array([[  0.74094993,  39.11523819,   9.46679115],\n",
      "       [  0.73429966,  39.1180191 ,   9.46750259],\n",
      "       [  0.72925895,  39.11306763,   9.46623802],\n",
      "       [  0.72260827,  39.11021805,   9.46551037],\n",
      "       [  0.71539772,  39.10906601,   9.46521664],\n",
      "       [  0.7081871 ,  39.10859299,   9.46509552],\n",
      "       [  0.69999647,  39.1089859 ,   9.46497917],\n",
      "       [  0.69425595,  39.1086998 ,   9.46440029],\n",
      "       [  0.68697548,  39.10852814,   9.4647913 ],\n",
      "       [  0.67857444,  39.10804749,   9.46300411],\n",
      "       [  0.67297322,  39.10945892,   9.45859241],\n",
      "       [  0.66821176,  39.11109543,   9.45329666],\n",
      "       [  0.66380036,  39.11264801,   9.44776249],\n",
      "       [  0.66001886,  39.11505127,   9.44201183],\n",
      "       [  0.65693796,  39.11815643,   9.43832207],\n",
      "       [  0.65490633,  39.12189102,   9.43103123],\n",
      "       [  0.65021491,  39.1243248 ,   9.42543316],\n",
      "       [  0.64755368,  39.12616348,   9.42047882],\n",
      "       [  0.64258188,  39.12843704,   9.41353798],\n",
      "       [  0.63796049,  39.1289711 ,   9.40803242],\n",
      "       [  0.63291901,  39.12865448,   9.40274525],\n",
      "       [  0.62766761,  39.12804794,   9.39774418],\n",
      "       [  0.62248623,  39.1271553 ,   9.39274216],\n",
      "       [  0.61730474,  39.12588501,   9.38778973],\n",
      "       [  0.61198342,  39.1250267 ,   9.38294125],\n",
      "       [  0.60645211,  39.12350082,   9.37842941],\n",
      "       [  0.60190099,  39.12103653,   9.3750515 ],\n",
      "       [  0.59636962,  39.11951065,   9.37053967],\n",
      "       [  0.58999836,  39.11703491,   9.36636257],\n",
      "       [  0.58558738,  39.11489487,   9.36313915],\n",
      "       [  0.5796361 ,  39.11367035,   9.35913944],\n",
      "       [  0.57340491,  39.1131134 ,   9.35538006],\n",
      "       [  0.56731361,  39.11221313,   9.35153389],\n",
      "       [  0.56108242,  39.1108017 ,   9.34799194],\n",
      "       [  0.55534112,  39.10941315,   9.34380341],\n",
      "       [  0.54959989,  39.10538864,   9.33973789],\n",
      "       [  0.54378867,  39.10289383,   9.33620739],\n",
      "       [  0.5360173 ,  39.0986824 ,   9.33231163]], dtype=float32), array([[  0.7409566 ,  39.12868118,   9.49915791],\n",
      "       [  0.73507535,  39.12749481,   9.49502087],\n",
      "       [  0.73339427,  39.12155533,   9.49053764],\n",
      "       [  0.73150295,  39.11706161,   9.48519516],\n",
      "       [  0.72842175,  39.11382294,   9.48031712],\n",
      "       [  0.72142041,  39.11154938,   9.47648144],\n",
      "       [  0.7157492 ,  39.10956192,   9.4723587 ],\n",
      "       [  0.70930803,  39.10835648,   9.46915722],\n",
      "       [  0.70237708,  39.10814285,   9.46715069],\n",
      "       [  0.6936264 ,  39.10783768,   9.4672184 ],\n",
      "       [  0.68697548,  39.10852814,   9.4647913 ],\n",
      "       [  0.67941499,  39.10847855,   9.46499538],\n",
      "       [  0.67472363,  39.10899353,   9.46013641],\n",
      "       [  0.66975224,  39.11056137,   9.45511341],\n",
      "       [  0.66527081,  39.11211395,   9.44957924],\n",
      "       [  0.66120934,  39.11400604,   9.44384289],\n",
      "       [  0.65693796,  39.11815643,   9.43832207],\n",
      "       [  0.65490633,  39.12189102,   9.43103123],\n",
      "       [  0.65021491,  39.1243248 ,   9.42543316],\n",
      "       [  0.64755368,  39.12616348,   9.42047882],\n",
      "       [  0.64496231,  39.12907791,   9.41471386],\n",
      "       [  0.63964087,  39.12896347,   9.4097662 ],\n",
      "       [  0.63459951,  39.12885284,   9.40453053],\n",
      "       [  0.62948805,  39.12828064,   9.39939404],\n",
      "       [  0.6242367 ,  39.12752151,   9.3944273 ],\n",
      "       [  0.6189853 ,  39.12625122,   9.38947392],\n",
      "       [  0.61380386,  39.12535858,   9.38447285],\n",
      "       [  0.60827255,  39.12413788,   9.37989426],\n",
      "       [  0.60190099,  39.12103653,   9.3750515 ],\n",
      "       [  0.59636962,  39.11951065,   9.37053967],\n",
      "       [  0.59181845,  39.11684799,   9.36624241],\n",
      "       [  0.58558738,  39.11489487,   9.36313915],\n",
      "       [  0.5796361 ,  39.11367035,   9.35913944],\n",
      "       [  0.57340491,  39.1131134 ,   9.35538006],\n",
      "       [  0.56731361,  39.11221313,   9.35153389],\n",
      "       [  0.56108242,  39.1108017 ,   9.34799194],\n",
      "       [  0.55534112,  39.10941315,   9.34380341],\n",
      "       [  0.54959989,  39.10538864,   9.33973789],\n",
      "       [  0.54378867,  39.10289383,   9.33620739],\n",
      "       [  0.5360173 ,  39.0986824 ,   9.33231163]], dtype=float32)]), {'count': '0000577555', 'datatype': 'Float32LE', 'file': '. 67', 'magic_number': b'mrtrix tracks', 'endianness': '<', '_dtype': dtype('float32'), '_offset_data': 67, 'nb_streamlines': 577555, 'voxel_to_rasmm': array([[ 1.,  0.,  0.,  0.],\n",
      "       [ 0.,  1.,  0.,  0.],\n",
      "       [ 0.,  0.,  1.,  0.],\n",
      "       [ 0.,  0.,  0.,  1.]])})\n"
     ]
    }
   ],
   "source": [
    "print(load_tractogram(\"/Users/mahdi/stage-2022-mahdi/niftis/deform.tck\"))"
   ]
  },
  {
   "cell_type": "markdown",
   "metadata": {},
   "source": [
    "# DIPY tuto [here](https://dipy.org/documentation/1.5.0/examples_built/streamline_registration/#example-streamline-registration)"
   ]
  },
  {
   "cell_type": "code",
   "execution_count": 26,
   "metadata": {},
   "outputs": [],
   "source": [
    "import numpy as np\n",
    "import nibabel as nib\n",
    "from dipy.io.streamline import load_tractogram\n",
    "from dipy.tracking.streamline import deform_streamlines"
   ]
  },
  {
   "cell_type": "code",
   "execution_count": 28,
   "metadata": {},
   "outputs": [],
   "source": [
    "target_isocenter = np.diag(np.array([-0.7, 0.7, 0.7, 1]))"
   ]
  },
  {
   "cell_type": "code",
   "execution_count": 30,
   "metadata": {},
   "outputs": [],
   "source": [
    "origin_affine = data.copy()\n",
    "origin_affine[0][3] = -origin_affine[0][3]\n",
    "origin_affine[1][3] = -origin_affine[1][3]\n",
    "origin_affine[2][3] = origin_affine[2][3]/0.7\n",
    "origin_affine[1][3] = origin_affine[1][3]/0.7**2"
   ]
  },
  {
   "cell_type": "code",
   "execution_count": 34,
   "metadata": {},
   "outputs": [
    {
     "ename": "ValueError",
     "evalue": "Data needs to have 3 or 4 dimensions",
     "output_type": "error",
     "traceback": [
      "\u001b[0;31m---------------------------------------------------------------------------\u001b[0m",
      "\u001b[0;31mValueError\u001b[0m                                Traceback (most recent call last)",
      "\u001b[0;32m<ipython-input-34-958c4e19de46>\u001b[0m in \u001b[0;36m<module>\u001b[0;34m\u001b[0m\n\u001b[1;32m      3\u001b[0m     \u001b[0mstream_to_current_grid\u001b[0m\u001b[0;34m=\u001b[0m\u001b[0mtarget_isocenter\u001b[0m\u001b[0;34m,\u001b[0m\u001b[0;34m\u001b[0m\u001b[0;34m\u001b[0m\u001b[0m\n\u001b[1;32m      4\u001b[0m     \u001b[0mcurrent_grid_to_world\u001b[0m\u001b[0;34m=\u001b[0m\u001b[0morigin_affine\u001b[0m\u001b[0;34m,\u001b[0m \u001b[0mstream_to_ref_grid\u001b[0m\u001b[0;34m=\u001b[0m\u001b[0mtarget_isocenter\u001b[0m\u001b[0;34m,\u001b[0m\u001b[0;34m\u001b[0m\u001b[0;34m\u001b[0m\u001b[0m\n\u001b[0;32m----> 5\u001b[0;31m     ref_grid_to_world=affine)\n\u001b[0m",
      "\u001b[0;32m/opt/anaconda3/envs/allen2tract/lib/python3.6/site-packages/dipy/tracking/streamline.py\u001b[0m in \u001b[0;36mdeform_streamlines\u001b[0;34m(streamlines, deform_field, stream_to_current_grid, current_grid_to_world, stream_to_ref_grid, ref_grid_to_world)\u001b[0m\n\u001b[1;32m    268\u001b[0m     stream_in_curr_grid = transform_streamlines(streamlines,\n\u001b[1;32m    269\u001b[0m                                                 stream_to_current_grid)\n\u001b[0;32m--> 270\u001b[0;31m     \u001b[0mdisplacements\u001b[0m \u001b[0;34m=\u001b[0m \u001b[0mvalues_from_volume\u001b[0m\u001b[0;34m(\u001b[0m\u001b[0mdeform_field\u001b[0m\u001b[0;34m,\u001b[0m \u001b[0mstream_in_curr_grid\u001b[0m\u001b[0;34m)\u001b[0m\u001b[0;34m\u001b[0m\u001b[0;34m\u001b[0m\u001b[0m\n\u001b[0m\u001b[1;32m    271\u001b[0m     stream_in_world = transform_streamlines(stream_in_curr_grid,\n\u001b[1;32m    272\u001b[0m                                             current_grid_to_world)\n",
      "\u001b[0;32m/opt/anaconda3/envs/allen2tract/lib/python3.6/site-packages/dipy/tracking/streamline.py\u001b[0m in \u001b[0;36mvalues_from_volume\u001b[0;34m(data, streamlines, affine)\u001b[0m\n\u001b[1;32m    877\u001b[0m         \u001b[0;32mreturn\u001b[0m \u001b[0m_extract_vals\u001b[0m\u001b[0;34m(\u001b[0m\u001b[0mdata\u001b[0m\u001b[0;34m,\u001b[0m \u001b[0mstreamlines\u001b[0m\u001b[0;34m,\u001b[0m \u001b[0maffine\u001b[0m\u001b[0;34m=\u001b[0m\u001b[0maffine\u001b[0m\u001b[0;34m)\u001b[0m\u001b[0;34m\u001b[0m\u001b[0;34m\u001b[0m\u001b[0m\n\u001b[1;32m    878\u001b[0m     \u001b[0;32melse\u001b[0m\u001b[0;34m:\u001b[0m\u001b[0;34m\u001b[0m\u001b[0;34m\u001b[0m\u001b[0m\n\u001b[0;32m--> 879\u001b[0;31m         \u001b[0;32mraise\u001b[0m \u001b[0mValueError\u001b[0m\u001b[0;34m(\u001b[0m\u001b[0;34m\"Data needs to have 3 or 4 dimensions\"\u001b[0m\u001b[0;34m)\u001b[0m\u001b[0;34m\u001b[0m\u001b[0;34m\u001b[0m\u001b[0m\n\u001b[0m\u001b[1;32m    880\u001b[0m \u001b[0;34m\u001b[0m\u001b[0m\n\u001b[1;32m    881\u001b[0m \u001b[0;34m\u001b[0m\u001b[0m\n",
      "\u001b[0;31mValueError\u001b[0m: Data needs to have 3 or 4 dimensions"
     ]
    }
   ],
   "source": [
    "mni_streamlines = deform_streamlines(\n",
    "    sft_streamlines, deform_field=transfo_dict['AffineTransform_float_3_3'][0:9].reshape((3, 3)),\n",
    "    stream_to_current_grid=target_isocenter,\n",
    "    current_grid_to_world=origin_affine, stream_to_ref_grid=target_isocenter,\n",
    "    ref_grid_to_world=affine)"
   ]
  },
  {
   "cell_type": "code",
   "execution_count": 1,
   "metadata": {},
   "outputs": [],
   "source": [
    "import ants\n",
    "import numpy as np\n",
    "import nibabel as nib"
   ]
  },
  {
   "cell_type": "code",
   "execution_count": 26,
   "metadata": {},
   "outputs": [],
   "source": [
    "map = nib.load(\"/Users/mahdi/stage-2022-mahdi/niftis/485847695_180403712_25_0.07/485847695_AIp_R_proj_density_25.nii.gz\")"
   ]
  },
  {
   "cell_type": "code",
   "execution_count": 27,
   "metadata": {},
   "outputs": [],
   "source": [
    "data = map.get_fdata()"
   ]
  },
  {
   "cell_type": "code",
   "execution_count": 28,
   "metadata": {},
   "outputs": [],
   "source": [
    "data = data > .05"
   ]
  },
  {
   "cell_type": "code",
   "execution_count": 29,
   "metadata": {},
   "outputs": [
    {
     "data": {
      "text/plain": [
       "(164, 212, 158)"
      ]
     },
     "execution_count": 29,
     "metadata": {},
     "output_type": "execute_result"
    }
   ],
   "source": [
    "data.shape"
   ]
  },
  {
   "cell_type": "code",
   "execution_count": 30,
   "metadata": {},
   "outputs": [],
   "source": [
    "img = nib.Nifti1Image(data.astype(np.int32), map.affine)\n",
    "nib.save(img, \"/Users/mahdi/stage-2022-mahdi/niftis/485847695_180403712_25_0.07/485847695_AIp_R_proj_density_25_bin.nii.gz\")"
   ]
  },
  {
   "cell_type": "code",
   "execution_count": 11,
   "metadata": {},
   "outputs": [],
   "source": [
    "bin = nib.load(\"/Users/mahdi/stage-2022-mahdi/niftis/485847695_180403712_25_0.07/485847695_AIp_R_proj_density_25_bin.nii.gz\")"
   ]
  },
  {
   "cell_type": "code",
   "execution_count": 12,
   "metadata": {},
   "outputs": [
    {
     "name": "stdout",
     "output_type": "stream",
     "text": [
      "<class 'nibabel.nifti1.Nifti1Image'>\n",
      "data shape (95,)\n",
      "affine: \n",
      "[[ 0.06999999  0.          0.         -5.67500019]\n",
      " [ 0.          0.06999999  0.         -8.79448032]\n",
      " [ 0.          0.          0.06999999 -8.45033455]\n",
      " [ 0.          0.          0.          1.        ]]\n",
      "metadata:\n",
      "<class 'nibabel.nifti1.Nifti1Header'> object, endian='<'\n",
      "sizeof_hdr      : 348\n",
      "data_type       : b''\n",
      "db_name         : b''\n",
      "extents         : 0\n",
      "session_error   : 0\n",
      "regular         : b''\n",
      "dim_info        : 0\n",
      "dim             : [ 1 95  1  1  1  1  1  1]\n",
      "intent_p1       : 0.0\n",
      "intent_p2       : 0.0\n",
      "intent_p3       : 0.0\n",
      "intent_code     : none\n",
      "datatype        : int32\n",
      "bitpix          : 32\n",
      "slice_start     : 0\n",
      "pixdim          : [ 1.          0.06999999  0.06999999  0.06999999  1.          1.          1.\n",
      "  1.        ]\n",
      "vox_offset      : 0.0\n",
      "scl_slope       : nan\n",
      "scl_inter       : nan\n",
      "slice_end       : 0\n",
      "slice_code      : unknown\n",
      "xyzt_units      : 0\n",
      "cal_max         : 0.0\n",
      "cal_min         : 0.0\n",
      "slice_duration  : 0.0\n",
      "toffset         : 0.0\n",
      "glmax           : 0\n",
      "glmin           : 0\n",
      "descrip         : b''\n",
      "aux_file        : b''\n",
      "qform_code      : unknown\n",
      "sform_code      : aligned\n",
      "quatern_b       : 0.0\n",
      "quatern_c       : 0.0\n",
      "quatern_d       : 0.0\n",
      "qoffset_x       : -5.675000190734863\n",
      "qoffset_y       : -8.794480323791504\n",
      "qoffset_z       : -8.450334548950195\n",
      "srow_x          : [ 0.06999999  0.          0.         -5.67500019]\n",
      "srow_y          : [ 0.          0.06999999  0.         -8.79448032]\n",
      "srow_z          : [ 0.          0.          0.06999999 -8.45033455]\n",
      "intent_name     : b''\n",
      "magic           : b'n+1'\n"
     ]
    }
   ],
   "source": [
    "print(bin)"
   ]
  },
  {
   "cell_type": "markdown",
   "metadata": {},
   "source": [
    "### transform"
   ]
  },
  {
   "cell_type": "code",
   "execution_count": 2,
   "metadata": {},
   "outputs": [],
   "source": [
    "import ants\n",
    "import nibabel as nib\n",
    "import numpy as np"
   ]
  },
  {
   "cell_type": "code",
   "execution_count": 5,
   "metadata": {},
   "outputs": [],
   "source": [
    "tx = ants.read_transform(\"/Users/mahdi/stage-2022-mahdi/data/transformations_allen2avgt/allen2avgtAffine_50.mat\")"
   ]
  },
  {
   "cell_type": "code",
   "execution_count": 179,
   "metadata": {},
   "outputs": [],
   "source": [
    "moving = nib.load(\"/Users/mahdi/stage-2022-mahdi/data/allen/allen_volume_50.nii.gz\")"
   ]
  },
  {
   "cell_type": "code",
   "execution_count": 287,
   "metadata": {},
   "outputs": [],
   "source": [
    "import nrrd"
   ]
  },
  {
   "cell_type": "code",
   "execution_count": 394,
   "metadata": {},
   "outputs": [],
   "source": [
    "moving, hdr = nrrd.read(\"/Users/mahdi/stage-2022-mahdi/data/allen/average_template_50.nrrd\")"
   ]
  },
  {
   "cell_type": "code",
   "execution_count": 395,
   "metadata": {},
   "outputs": [
    {
     "name": "stdout",
     "output_type": "stream",
     "text": [
      "OrderedDict([('type', 'unsigned short'), ('dimension', 3), ('space', 'left-posterior-superior'), ('sizes', array([264, 160, 228])), ('space directions', array([[ 50.,   0.,   0.],\n",
      "       [  0.,  50.,   0.],\n",
      "       [  0.,   0.,  50.]])), ('kinds', ['domain', 'domain', 'domain']), ('endian', 'little'), ('encoding', 'gzip'), ('space origin', array([ 0.,  0.,  0.]))])\n"
     ]
    }
   ],
   "source": [
    "print(hdr)"
   ]
  },
  {
   "cell_type": "code",
   "execution_count": 296,
   "metadata": {},
   "outputs": [],
   "source": [
    "fixed = nib.load('/Users/mahdi/stage-2022-mahdi/data/AVGT.nii.gz')"
   ]
  },
  {
   "cell_type": "code",
   "execution_count": 109,
   "metadata": {},
   "outputs": [],
   "source": [
    "wmv = ants.apply_transforms(\n",
    "    ants.from_nibabel(fixed).resample_image(fixed.shape, 1, 0),\n",
    "    ants.from_nibabel(moving).resample_image(fixed.shape, 1, 0),\n",
    "    [\"/Users/mahdi/stage-2022-mahdi/data/transformations_allen2avgt/allen2avgtAffine_50.mat\",\n",
    "    \"/Users/mahdi/stage-2022-mahdi/data/transformations_allen2avgt/allen2avgt_50.nii.gz\"],\n",
    "    )"
   ]
  },
  {
   "cell_type": "code",
   "execution_count": 106,
   "metadata": {},
   "outputs": [
    {
     "data": {
      "image/png": "[encoded data removed]",
      "text/plain": [
       "<Figure size 720x540 with 6 Axes>"
      ]
     },
     "metadata": {
      "needs_background": "light"
     },
     "output_type": "display_data"
    }
   ],
   "source": [
    "ants.from_nibabel(moving).resample_image(fixed.shape, 1, 0).plot_ortho_double(ants.from_nibabel(fixed))"
   ]
  },
  {
   "cell_type": "code",
   "execution_count": 110,
   "metadata": {},
   "outputs": [
    {
     "data": {
      "image/png": "[encoded data removed]",
      "text/plain": [
       "<Figure size 720x540 with 6 Axes>"
      ]
     },
     "metadata": {
      "needs_background": "light"
     },
     "output_type": "display_data"
    }
   ],
   "source": [
    "wmv.plot_ortho_double(ants.from_nibabel(fixed))"
   ]
  },
  {
   "cell_type": "code",
   "execution_count": 95,
   "metadata": {},
   "outputs": [],
   "source": [
    "wmv = wmv.numpy()"
   ]
  },
  {
   "cell_type": "code",
   "execution_count": 96,
   "metadata": {},
   "outputs": [],
   "source": [
    "nimg = nib.Nifti1Image(wmv, fixed.affine)"
   ]
  },
  {
   "cell_type": "code",
   "execution_count": 97,
   "metadata": {},
   "outputs": [],
   "source": [
    "nib.save(nimg, \"kkk.nii.gz\")"
   ]
  },
  {
   "cell_type": "code",
   "execution_count": null,
   "metadata": {},
   "outputs": [],
   "source": []
  },
  {
   "cell_type": "markdown",
   "metadata": {},
   "source": [
    "## Test matrice generique"
   ]
  },
  {
   "cell_type": "code",
   "execution_count": 1,
   "metadata": {},
   "outputs": [],
   "source": [
    "import numpy as np\n",
    "from scipy.io import loadmat, savemat"
   ]
  },
  {
   "cell_type": "code",
   "execution_count": 134,
   "metadata": {},
   "outputs": [],
   "source": [
    "def load_matrix_in_any_format(filepath):\n",
    "    _, ext = os.path.splitext(filepath)\n",
    "    if ext == '.txt':\n",
    "        data = np.loadtxt(filepath)\n",
    "    elif ext == '.npy':\n",
    "        data = np.load(filepath)\n",
    "    elif ext == '.mat':\n",
    "        # .mat are actually dictionnary. This function support .mat from\n",
    "        # antsRegistration that encode a 4x4 transformation matrix.\n",
    "        transfo_dict = loadmat(filepath)\n",
    "        lps2ras = np.diag([-1, -1, 1])\n",
    "\n",
    "        rot = transfo_dict['AffineTransform_double_3_3'][0:9].reshape((3, 3))\n",
    "        trans = transfo_dict['AffineTransform_double_3_3'][9:12]\n",
    "        offset = transfo_dict['fixed']\n",
    "        r_trans = (np.dot(rot, offset) - offset - trans).T * [1, 1, -1]\n",
    "\n",
    "        data = np.eye(4)\n",
    "        data[0:3, 3] = r_trans\n",
    "        data[:3, :3] = np.dot(np.dot(lps2ras, rot), lps2ras)\n",
    "    else:\n",
    "        raise ValueError('Extension {} is not supported'.format(ext))\n",
    "\n",
    "    return data"
   ]
  },
  {
   "cell_type": "code",
   "execution_count": null,
   "metadata": {},
   "outputs": [],
   "source": [
    "mat = load_matrix_in_any_format(\"/Users/mahdi/stage-2022-mahdi/data/transformations_allen2avgt/allen2avgtAffine_50.mat\")"
   ]
  },
  {
   "cell_type": "code",
   "execution_count": 9,
   "metadata": {},
   "outputs": [],
   "source": [
    "imat = np.linalg.inv(mat)"
   ]
  },
  {
   "cell_type": "code",
   "execution_count": null,
   "metadata": {},
   "outputs": [],
   "source": [
    "print(mat)"
   ]
  },
  {
   "cell_type": "code",
   "execution_count": 349,
   "metadata": {},
   "outputs": [
    {
     "name": "stdout",
     "output_type": "stream",
     "text": [
      "[[  1.40010476e+00   7.93613726e-05   2.72541976e-04  -1.51824951e-02]\n",
      " [ -1.61930133e-04   1.35685694e+00  -3.45518261e-01   3.86941071e+01]\n",
      " [ -1.27313469e-04   3.46717477e-01   1.35826540e+00   9.10607910e+00]\n",
      " [  0.00000000e+00   0.00000000e+00   0.00000000e+00   1.00000000e+00]]\n"
     ]
    }
   ],
   "source": [
    "l = mat.copy()\n",
    "print(l)"
   ]
  },
  {
   "cell_type": "code",
   "execution_count": 370,
   "metadata": {},
   "outputs": [],
   "source": [
    "lps2ras = np.diag([-1, -1, 1])"
   ]
  },
  {
   "cell_type": "code",
   "execution_count": 372,
   "metadata": {},
   "outputs": [],
   "source": [
    "l3 = np.dot(np.dot(lps2ras, l[:3, :3]), lps2ras)"
   ]
  },
  {
   "cell_type": "code",
   "execution_count": 373,
   "metadata": {},
   "outputs": [
    {
     "name": "stdout",
     "output_type": "stream",
     "text": [
      "[[  1.40010476e+00   7.93613726e-05  -2.72541976e-04]\n",
      " [ -1.61930133e-04   1.35685694e+00   3.45518261e-01]\n",
      " [  1.27313469e-04  -3.46717477e-01   1.35826540e+00]]\n"
     ]
    }
   ],
   "source": [
    "print(l3)"
   ]
  },
  {
   "cell_type": "code",
   "execution_count": null,
   "metadata": {},
   "outputs": [],
   "source": [
    "l3f = (np.dot(l3, offset) - offset - trans).T * [1, 1, -1]"
   ]
  },
  {
   "cell_type": "code",
   "execution_count": 387,
   "metadata": {},
   "outputs": [],
   "source": [
    "t = ants.create_ants_transform(matrix=l3, fixed_parameters= l[0:3, 3])"
   ]
  },
  {
   "cell_type": "code",
   "execution_count": 388,
   "metadata": {},
   "outputs": [],
   "source": [
    "ants.write_transform(t, \"test.mat\")"
   ]
  },
  {
   "cell_type": "code",
   "execution_count": 389,
   "metadata": {},
   "outputs": [
    {
     "name": "stdout",
     "output_type": "stream",
     "text": [
      "[[  1.40010476e+00   7.93613726e-05   2.72541976e-04  -5.48555993e-03]\n",
      " [ -1.61930133e-04   1.35685694e+00  -3.45518261e-01   1.69545798e+01]\n",
      " [ -1.27313469e-04   3.46717477e-01   1.35826540e+00   1.01535320e+01]\n",
      " [  0.00000000e+00   0.00000000e+00   0.00000000e+00   1.00000000e+00]]\n"
     ]
    }
   ],
   "source": [
    "print(load_matrix_in_any_format(\"test.mat\"))"
   ]
  },
  {
   "cell_type": "code",
   "execution_count": 344,
   "metadata": {},
   "outputs": [],
   "source": [
    "moving = np.moveaxis(moving, (0, 1, 2), (1, 2, 0))\n",
    "moving = np.flip(moving, axis=2)\n",
    "moving = np.flip(moving, axis=1)"
   ]
  },
  {
   "cell_type": "code",
   "execution_count": 407,
   "metadata": {},
   "outputs": [],
   "source": [
    "aras = nib.load(\"/Users/mahdi/stage-2022-mahdi/data/allen_template_50_ras.nii.gz\")"
   ]
  },
  {
   "cell_type": "code",
   "execution_count": 414,
   "metadata": {},
   "outputs": [],
   "source": [
    "x , y, z = nib.aff2axcodes(aras.affine)"
   ]
  },
  {
   "cell_type": "code",
   "execution_count": 415,
   "metadata": {},
   "outputs": [
    {
     "name": "stdout",
     "output_type": "stream",
     "text": [
      "P I R\n"
     ]
    }
   ],
   "source": [
    "print(x, y, z)"
   ]
  },
  {
   "cell_type": "code",
   "execution_count": 435,
   "metadata": {},
   "outputs": [],
   "source": [
    "ornt_ras = nib.orientations.axcodes2ornt(('R', 'A', 'S'))"
   ]
  },
  {
   "cell_type": "code",
   "execution_count": 436,
   "metadata": {},
   "outputs": [],
   "source": [
    "ornt_pir = nib.orientations.axcodes2ornt(('P', 'I', 'R'))"
   ]
  },
  {
   "cell_type": "code",
   "execution_count": 437,
   "metadata": {},
   "outputs": [],
   "source": [
    "ornt_pir2ras = nib.orientations.ornt_transform(ornt_pir,ornt_ras)"
   ]
  },
  {
   "cell_type": "code",
   "execution_count": 438,
   "metadata": {},
   "outputs": [],
   "source": [
    "aras_reorient = nib.orientations.apply_orientation(aras.get_fdata(), ornt_pir2ras)"
   ]
  },
  {
   "cell_type": "code",
   "execution_count": 446,
   "metadata": {},
   "outputs": [],
   "source": [
    "moving_reorient = nib.orientations.apply_orientation(moving, ornt_pir2ras)"
   ]
  },
  {
   "cell_type": "code",
   "execution_count": 447,
   "metadata": {},
   "outputs": [
    {
     "name": "stdout",
     "output_type": "stream",
     "text": [
      "(264, 160, 228) (228, 264, 160) (228, 264, 160)\n"
     ]
    }
   ],
   "source": [
    "print(aras.shape,aras_reorient.shape, moving_reorient.shape)"
   ]
  },
  {
   "cell_type": "code",
   "execution_count": 448,
   "metadata": {},
   "outputs": [],
   "source": [
    "lpi = ants.apply_ants_transform_to_image(\n",
    "    ants.read_transform(\"/Users/mahdi/stage-2022-mahdi/data/transformations_allen2avgt/allen2avgtAffine_50.mat\"),\n",
    "    ants.from_numpy(moving_reorient.astype(np.float32)),\n",
    "    reference=ants.from_numpy(fixed.get_fdata().astype(np.float32))\n",
    ")"
   ]
  },
  {
   "cell_type": "code",
   "execution_count": 449,
   "metadata": {},
   "outputs": [
    {
     "data": {
      "image/png": "[encoded data removed]",
      "text/plain": [
       "<Figure size 720x540 with 6 Axes>"
      ]
     },
     "metadata": {
      "needs_background": "light"
     },
     "output_type": "display_data"
    }
   ],
   "source": [
    "lpi.plot_ortho_double(ants.from_numpy(fixed.get_fdata().astype(np.float32)))"
   ]
  },
  {
   "cell_type": "code",
   "execution_count": 443,
   "metadata": {},
   "outputs": [],
   "source": [
    "nimg = nib.Nifti1Image(lpi.numpy(), fixed.affine)"
   ]
  },
  {
   "cell_type": "code",
   "execution_count": 444,
   "metadata": {},
   "outputs": [],
   "source": [
    "nib.save(nimg, \"kkk.nii.gz\")"
   ]
  },
  {
   "cell_type": "code",
   "execution_count": 445,
   "metadata": {},
   "outputs": [
    {
     "name": "stdout",
     "output_type": "stream",
     "text": [
      "[[[0 0 0 ..., 0 0 0]\n",
      "  [0 0 0 ..., 0 0 0]\n",
      "  [0 0 0 ..., 0 0 0]\n",
      "  ..., \n",
      "  [0 0 0 ..., 0 0 0]\n",
      "  [0 0 0 ..., 0 0 0]\n",
      "  [0 0 0 ..., 0 0 0]]\n",
      "\n",
      " [[0 0 0 ..., 0 0 0]\n",
      "  [0 0 0 ..., 0 0 0]\n",
      "  [0 0 0 ..., 0 0 0]\n",
      "  ..., \n",
      "  [0 0 0 ..., 0 0 0]\n",
      "  [0 0 0 ..., 0 0 0]\n",
      "  [0 0 0 ..., 0 0 0]]\n",
      "\n",
      " [[0 0 0 ..., 0 0 0]\n",
      "  [0 0 0 ..., 0 0 0]\n",
      "  [0 0 0 ..., 0 0 0]\n",
      "  ..., \n",
      "  [0 0 0 ..., 0 0 0]\n",
      "  [0 0 0 ..., 0 0 0]\n",
      "  [0 0 0 ..., 0 0 0]]\n",
      "\n",
      " ..., \n",
      " [[0 0 0 ..., 0 0 0]\n",
      "  [0 1 0 ..., 1 1 1]\n",
      "  [0 1 1 ..., 1 1 1]\n",
      "  ..., \n",
      "  [0 1 2 ..., 1 2 1]\n",
      "  [0 1 1 ..., 1 1 1]\n",
      "  [0 1 1 ..., 1 1 1]]\n",
      "\n",
      " [[0 0 0 ..., 0 0 0]\n",
      "  [0 1 1 ..., 1 1 1]\n",
      "  [0 1 1 ..., 1 1 1]\n",
      "  ..., \n",
      "  [0 1 1 ..., 1 2 1]\n",
      "  [0 1 1 ..., 1 1 1]\n",
      "  [0 1 1 ..., 1 1 1]]\n",
      "\n",
      " [[0 0 0 ..., 0 0 0]\n",
      "  [0 1 0 ..., 0 1 1]\n",
      "  [0 1 1 ..., 1 1 1]\n",
      "  ..., \n",
      "  [0 1 1 ..., 1 1 1]\n",
      "  [0 1 1 ..., 1 1 1]\n",
      "  [0 1 1 ..., 1 1 1]]]\n"
     ]
    }
   ],
   "source": [
    "print(moving)"
   ]
  }
 ],
 "metadata": {
  "interpreter": {
   "hash": "89bcfc095d93340fd71944c2b6d026b0e5cbee18d73e5518fd1156fb5e6b8805"
  },
  "kernelspec": {
   "display_name": "Python 3.6.13 ('allen2tract')",
   "language": "python",
   "name": "python3"
  },
  "language_info": {
   "codemirror_mode": {
    "name": "ipython",
    "version": 3
   },
   "file_extension": ".py",
   "mimetype": "text/x-python",
   "name": "python",
   "nbconvert_exporter": "python",
   "pygments_lexer": "ipython3",
   "version": "3.6.13"
  },
  "orig_nbformat": 4
 },
 "nbformat": 4,
 "nbformat_minor": 2
}
