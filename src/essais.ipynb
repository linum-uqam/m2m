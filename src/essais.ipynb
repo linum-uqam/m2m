{
 "cells": [
  {
   "cell_type": "markdown",
   "metadata": {},
   "source": [
    "## Recherche par liste de régions d'injection"
   ]
  },
  {
   "cell_type": "code",
   "execution_count": null,
   "metadata": {},
   "outputs": [],
   "source": [
    "# exemple sur les injections à l'isocortex\n",
    "import pandas as pd\n",
    "from allensdk.core.mouse_connectivity_cache import MouseConnectivityCache\n",
    "\n",
    "mcc = MouseConnectivityCache()\n",
    "\n",
    "structure_tree = mcc.get_structure_tree()\n",
    "isocortex_id = structure_tree.get_structures_by_name(['Isocortex'])[0]['id']                             \n",
    "injection_regions_ids = [isocortex_id]\n",
    "\n",
    "experiments = mcc.get_experiments(dataframe=True, injection_structure_ids=injection_regions_ids)\n",
    "print(\"%d total experiments\" % len(experiments))\n",
    "\n",
    "experiments"
   ]
  },
  {
   "cell_type": "markdown",
   "metadata": {},
   "source": [
    "## Recherche par proximité d'une région d'injection"
   ]
  },
  {
   "cell_type": "code",
   "execution_count": 17,
   "metadata": {},
   "outputs": [
    {
     "name": "stdout",
     "output_type": "stream",
     "text": [
      "0      0.000000\n",
      "1    508.527285\n",
      "2    540.555270\n",
      "3    548.543526\n",
      "4    685.930026\n",
      "Name: distance, dtype: float64\n"
     ]
    }
   ],
   "source": [
    "# experiment_injection_coordinate_search (regions d'injections)\n",
    "import pandas as pd\n",
    "from allensdk.api.queries.mouse_connectivity_api import MouseConnectivityApi\n",
    "\n",
    "mca = MouseConnectivityApi()\n",
    "\n",
    "# get metadata for all experiments near the injection coordinates\n",
    "    # configure the coordinates\n",
    "x = 5520\n",
    "y = 4470\n",
    "z = 10080\n",
    "injection_coordinates = [x, y, z]\n",
    "\n",
    "    # API request on this link http://api.brain-map.org/api/v2/data/query.xml?criteria=service::mouse_connectivity_injection_coordinate[seed_point$eq5520,4470,10080]\n",
    "nearby_experiment = mca.experiment_injection_coordinate_search(seed_point=injection_coordinates)\n",
    "\n",
    "    # display the experiments\n",
    "list_of_distances = pd.DataFrame(nearby_experiment).distance\n",
    "print(list_of_distances.head())\n"
   ]
  },
  {
   "cell_type": "markdown",
   "metadata": {},
   "source": [
    "## Recherche par zone à forte densité de projection"
   ]
  },
  {
   "cell_type": "code",
   "execution_count": 18,
   "metadata": {},
   "outputs": [
    {
     "name": "stdout",
     "output_type": "stream",
     "text": [
      "0    0.131948\n",
      "1    0.028094\n",
      "2    0.258777\n",
      "3    0.011534\n",
      "4    0.223838\n",
      "Name: density, dtype: float64 [{'coord': [5500.0, 4500.0, 10100.0], 'density': 0.0, 'intensity': 0.0}, {'coord': [5411.0, 4488.0, 10033.0], 'density': 0.0, 'intensity': 0.0}, {'coord': [5344.0, 4466.0, 9966.0], 'density': 0.0, 'intensity': 0.0}, {'coord': [5311.0, 4433.0, 9888.0], 'density': 0.0, 'intensity': 0.0}, {'coord': [5288.0, 4400.0, 9800.0], 'density': 0.0, 'intensity': 0.0}, {'coord': [5266.0, 4366.0, 9711.0], 'density': 0.0, 'intensity': 0.0}, {'coord': [5233.0, 4333.0, 9633.0], 'density': 0.0, 'intensity': 0.0}, {'coord': [5211.0, 4311.0, 9566.0], 'density': 0.0, 'intensity': 0.0}, {'coord': [5200.0, 4288.0, 9488.0], 'density': 0.0, 'intensity': 0.0}, {'coord': [5200.0, 4255.0, 9411.0], 'density': 0.0, 'intensity': 0.0}, {'coord': [5200.0, 4188.0, 9311.0], 'density': 0.000826954492367804, 'intensity': 3310.013916015625}, {'coord': [5200.0, 4100.0, 9200.0], 'density': 0.09509018063545227, 'intensity': 2293.598876953125}, {'coord': [5390, 3560, 8980], 'density': 0, 'intensity': 0}]\n"
     ]
    }
   ],
   "source": [
    "# experiment_spatial_search (densité)\n",
    "import pandas as pd\n",
    "from allensdk.api.queries.mouse_connectivity_api import MouseConnectivityApi\n",
    "\n",
    "mca = MouseConnectivityApi()\n",
    "\n",
    "    # configure the coordinates\n",
    "x = 5520\n",
    "y = 4470\n",
    "z = 10080\n",
    "injection_coordinates = [x, y, z]\n",
    "\n",
    "    # API request http://api.brain-map.org/api/v2/data/query.xml?criteria=service::mouse_connectivity_target_spatial[seed_point$eqx,y,z]\n",
    "sections_data_sets = mca.experiment_spatial_search(seed_point=injection_coordinates)\n",
    "\n",
    "    # display the experiments\n",
    "list_of_density = pd.DataFrame(sections_data_sets).density\n",
    "path_along_most_dense_pixel_id1 = pd.DataFrame(sections_data_sets).path[1]\n",
    "\n",
    "print(list_of_density.head(),path_along_most_dense_pixel_id1)"
   ]
  },
  {
   "cell_type": "markdown",
   "metadata": {},
   "source": [
    "## Recherche par coordonnées d'injection"
   ]
  },
  {
   "cell_type": "code",
   "execution_count": null,
   "metadata": {},
   "outputs": [],
   "source": [
    "import pandas as pd\n",
    "import matplotlib.pyplot as plt\n",
    "from allensdk.core.mouse_connectivity_cache import MouseConnectivityCache\n",
    "\n",
    "def load_allen_experiments():\n",
    "    # open up a list of all of the experiments\n",
    "    return MouseConnectivityCache().get_experiments(dataframe=True)\n",
    "\n",
    "def get_id_from_injection_coord(injection_coord):#(x,y,z):\n",
    "    #injection_coord = [x, y, z]\n",
    "    all_experiments = load_allen_experiments()\n",
    "    experiment_id = all_experiments.index[all_experiments['injection-coordinates'].map(set(injection_coord).issubset)].tolist() \n",
    "    return experiment_id[0]\n",
    "\n",
    "def get_projection_density(experiment_id):\n",
    "    pd, pd_info = mcc.get_projection_density(experiment_id)\n",
    "    # compute the maximum intensity projection (along the anterior-posterior axis) of the projection data\n",
    "    pd_mip_x = pd.max(axis=0)\n",
    "    pd_mip_y = pd.max(axis=1)\n",
    "    f, pr_axes = plt.subplots(1, 2, figsize=(15, 6))\n",
    "    pr_axes[0].imshow(pd_mip_x, cmap='hot', aspect='equal')\n",
    "    pr_axes[0].set_title(\"projection density MaxIP\")\n",
    "    pr_axes[1].imshow(pd_mip_y, cmap='hot', aspect='equal')\n",
    "    pr_axes[1].set_title(\"projection density MaxIP\")\n",
    "    plt.show()\n",
    "    return\n",
    "\n",
    "load_allen_experiments()\n",
    "experiment_id = get_id_from_injection_coord([5520, 4470, 10080])\n",
    "get_projection_density(experiment_id)"
   ]
  }
 ],
 "metadata": {
  "interpreter": {
   "hash": "89bcfc095d93340fd71944c2b6d026b0e5cbee18d73e5518fd1156fb5e6b8805"
  },
  "kernelspec": {
   "display_name": "Python 3.6.13 ('allen2tract')",
   "language": "python",
   "name": "python3"
  },
  "language_info": {
   "codemirror_mode": {
    "name": "ipython",
    "version": 3
   },
   "file_extension": ".py",
   "mimetype": "text/x-python",
   "name": "python",
   "nbconvert_exporter": "python",
   "pygments_lexer": "ipython3",
   "version": "3.6.13"
  },
  "orig_nbformat": 4
 },
 "nbformat": 4,
 "nbformat_minor": 2
}
