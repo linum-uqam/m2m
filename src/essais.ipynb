{
 "cells": [
  {
   "cell_type": "markdown",
   "metadata": {},
   "source": [
    "# Essais avec les données du Allen Institute"
   ]
  },
  {
   "cell_type": "markdown",
   "metadata": {},
   "source": [
    "## Exemple type d'expérience\n",
    "* __Analyse 1__\n",
    "    1. Choisir une région du cerveau à étudier.\n",
    "\n",
    "    2. Recupérer les expériences du Allen pour lesquelles il y a beaucoup de fluorescence à cet endroit. \n",
    "\n",
    "    3. Télécharger les volumes du Allen correpondants\n",
    "\n",
    "    4. Aligner sur nos cerveaux de référence\n",
    "\n",
    "    5. Intégrer ces volumes au SBH-Assistant (pour aider les utilisateurs du microscope à cibler les régions où on s'attend à avoir beaucoup de signal.)\n",
    "\n",
    "* __Analyse 2__ \n",
    "    1. Proposer des lieux d'injections\n",
    "    \n",
    "    2. Obtenir du signal dans notre région ciblée. "
   ]
  },
  {
   "cell_type": "markdown",
   "metadata": {},
   "source": [
    "# Mouse Connectivity Cache"
   ]
  },
  {
   "cell_type": "markdown",
   "metadata": {},
   "source": [
    "## Recherche par liste de régions d'injection (cache)"
   ]
  },
  {
   "cell_type": "code",
   "execution_count": null,
   "metadata": {},
   "outputs": [],
   "source": [
    "# exemple sur les injections à l'isocortex\n",
    "import pandas as pd\n",
    "from allensdk.core.mouse_connectivity_cache import MouseConnectivityCache\n",
    "\n",
    "mcc = MouseConnectivityCache()\n",
    "\n",
    "structure_tree = mcc.get_structure_tree()\n",
    "isocortex_id = structure_tree.get_structures_by_name(['Isocortex'])[0]['id']                             \n",
    "injection_regions_ids = [isocortex_id]\n",
    "\n",
    "experiments = mcc.get_experiments(dataframe=True, injection_structure_ids=injection_regions_ids)\n",
    "print(\"%d total experiments\" % len(experiments))\n",
    "\n",
    "experiments"
   ]
  },
  {
   "cell_type": "markdown",
   "metadata": {},
   "source": [
    "## Recherche par coordonnées d'injection (cache)"
   ]
  },
  {
   "cell_type": "code",
   "execution_count": null,
   "metadata": {},
   "outputs": [],
   "source": [
    "import pandas as pd\n",
    "import matplotlib.pyplot as plt\n",
    "from allensdk.core.mouse_connectivity_cache import MouseConnectivityCache\n",
    "\n",
    "def load_allen_experiments():\n",
    "    # open up a list of all of the experiments\n",
    "    return MouseConnectivityCache().get_experiments(dataframe=True)\n",
    "\n",
    "def get_id_from_injection_coord(injection_coord):#(x,y,z):\n",
    "    #injection_coord = [x, y, z]\n",
    "    all_experiments = load_allen_experiments()\n",
    "    experiment_id = all_experiments.index[all_experiments['injection-coordinates'].map(set(injection_coord).issubset)].tolist() \n",
    "    return experiment_id[0]\n",
    "\n",
    "def get_projection_density(experiment_id):\n",
    "    pd, pd_info = mcc.get_projection_density(experiment_id)\n",
    "    # compute the maximum intensity projection (along the anterior-posterior axis) of the projection data\n",
    "    pd_mip_x = pd.max(axis=0)\n",
    "    pd_mip_y = pd.max(axis=1)\n",
    "    f, pr_axes = plt.subplots(1, 2, figsize=(15, 6))\n",
    "    pr_axes[0].imshow(pd_mip_x, cmap='hot', aspect='equal')\n",
    "    pr_axes[0].set_title(\"projection density MaxIP\")\n",
    "    pr_axes[1].imshow(pd_mip_y, cmap='hot', aspect='equal')\n",
    "    pr_axes[1].set_title(\"projection density MaxIP\")\n",
    "    plt.show()\n",
    "    return\n",
    "\n",
    "load_allen_experiments()\n",
    "experiment_id = get_id_from_injection_coord([5520, 4470, 10080])\n",
    "get_projection_density(experiment_id)"
   ]
  },
  {
   "cell_type": "markdown",
   "metadata": {},
   "source": [
    "## Liste des régions du cerveau"
   ]
  },
  {
   "cell_type": "code",
   "execution_count": 91,
   "metadata": {},
   "outputs": [
    {
     "data": {
      "text/html": [
       "<div>\n",
       "<table border=\"1\" class=\"dataframe\">\n",
       "  <thead>\n",
       "    <tr style=\"text-align: right;\">\n",
       "      <th></th>\n",
       "      <th>acronym</th>\n",
       "      <th>name</th>\n",
       "      <th>id</th>\n",
       "    </tr>\n",
       "  </thead>\n",
       "  <tbody>\n",
       "    <tr>\n",
       "      <th>308</th>\n",
       "      <td>COPY</td>\n",
       "      <td>Copula pyramidis</td>\n",
       "      <td>1033</td>\n",
       "    </tr>\n",
       "    <tr>\n",
       "      <th>309</th>\n",
       "      <td>PFL</td>\n",
       "      <td>Paraflocculus</td>\n",
       "      <td>1041</td>\n",
       "    </tr>\n",
       "    <tr>\n",
       "      <th>310</th>\n",
       "      <td>FL</td>\n",
       "      <td>Flocculus</td>\n",
       "      <td>1049</td>\n",
       "    </tr>\n",
       "    <tr>\n",
       "      <th>311</th>\n",
       "      <td>FN</td>\n",
       "      <td>Fastigial nucleus</td>\n",
       "      <td>989</td>\n",
       "    </tr>\n",
       "    <tr>\n",
       "      <th>312</th>\n",
       "      <td>IP</td>\n",
       "      <td>Interposed nucleus</td>\n",
       "      <td>91</td>\n",
       "    </tr>\n",
       "    <tr>\n",
       "      <th>313</th>\n",
       "      <td>DN</td>\n",
       "      <td>Dentate nucleus</td>\n",
       "      <td>846</td>\n",
       "    </tr>\n",
       "    <tr>\n",
       "      <th>314</th>\n",
       "      <td>VeCB</td>\n",
       "      <td>Vestibulocerebellar nucleus</td>\n",
       "      <td>589508455</td>\n",
       "    </tr>\n",
       "    <tr>\n",
       "      <th>315</th>\n",
       "      <td>fiber tracts</td>\n",
       "      <td>fiber tracts</td>\n",
       "      <td>1009</td>\n",
       "    </tr>\n",
       "  </tbody>\n",
       "</table>\n",
       "</div>"
      ],
      "text/plain": [
       "          acronym                         name         id\n",
       "308          COPY             Copula pyramidis       1033\n",
       "309           PFL                Paraflocculus       1041\n",
       "310            FL                    Flocculus       1049\n",
       "311            FN            Fastigial nucleus        989\n",
       "312            IP           Interposed nucleus         91\n",
       "313            DN              Dentate nucleus        846\n",
       "314          VeCB  Vestibulocerebellar nucleus  589508455\n",
       "315  fiber tracts                 fiber tracts       1009"
      ]
     },
     "execution_count": 91,
     "metadata": {},
     "output_type": "execute_result"
    }
   ],
   "source": [
    "import pandas as pd\n",
    "from allensdk.core.mouse_connectivity_cache import MouseConnectivityCache\n",
    "\n",
    "structure_tree = MouseConnectivityCache().get_structure_tree()\n",
    "summary_structures =  structure_tree.get_structures_by_set_id([167587189])\n",
    "pd.DataFrame(summary_structures)[['acronym','name','id']].tail(8)"
   ]
  },
  {
   "cell_type": "markdown",
   "metadata": {},
   "source": [
    "# Mouse Connectivity API"
   ]
  },
  {
   "cell_type": "markdown",
   "metadata": {},
   "source": [
    "## Recherche par régions (API)"
   ]
  },
  {
   "cell_type": "code",
   "execution_count": 29,
   "metadata": {},
   "outputs": [
    {
     "data": {
      "text/html": [
       "<div>\n",
       "<table border=\"1\" class=\"dataframe\">\n",
       "  <thead>\n",
       "    <tr style=\"text-align: right;\">\n",
       "      <th></th>\n",
       "      <th>id</th>\n",
       "      <th>injection-volume</th>\n",
       "      <th>structure-abbrev</th>\n",
       "    </tr>\n",
       "  </thead>\n",
       "  <tbody>\n",
       "    <tr>\n",
       "      <th>0</th>\n",
       "      <td>100140756</td>\n",
       "      <td>0.156190</td>\n",
       "      <td>FRP</td>\n",
       "    </tr>\n",
       "    <tr>\n",
       "      <th>1</th>\n",
       "      <td>304474221</td>\n",
       "      <td>0.261310</td>\n",
       "      <td>IP</td>\n",
       "    </tr>\n",
       "    <tr>\n",
       "      <th>2</th>\n",
       "      <td>268389532</td>\n",
       "      <td>0.159990</td>\n",
       "      <td>IP</td>\n",
       "    </tr>\n",
       "    <tr>\n",
       "      <th>3</th>\n",
       "      <td>293433996</td>\n",
       "      <td>0.190371</td>\n",
       "      <td>FRP</td>\n",
       "    </tr>\n",
       "    <tr>\n",
       "      <th>4</th>\n",
       "      <td>286299886</td>\n",
       "      <td>0.093602</td>\n",
       "      <td>FRP</td>\n",
       "    </tr>\n",
       "  </tbody>\n",
       "</table>\n",
       "</div>"
      ],
      "text/plain": [
       "          id  injection-volume structure-abbrev\n",
       "0  100140756          0.156190              FRP\n",
       "1  304474221          0.261310               IP\n",
       "2  268389532          0.159990               IP\n",
       "3  293433996          0.190371              FRP\n",
       "4  286299886          0.093602              FRP"
      ]
     },
     "execution_count": 29,
     "metadata": {},
     "output_type": "execute_result"
    }
   ],
   "source": [
    "import pandas as pd\n",
    "from allensdk.api.queries.mouse_connectivity_api import MouseConnectivityApi\n",
    "\n",
    "mca = MouseConnectivityApi()\n",
    "\n",
    "# get metadata for all experiments in specific regions\n",
    "    # create a list of regions\n",
    "injection_regions = ['FRP','IP']\n",
    "\n",
    "    # API request on this link http://api.brain-map.org/api/v2/data/query.xml?criteria=service::mouse_connectivity_injection_coordinate[seed_point$eq5520,4470,10080]\n",
    "experiments = mca.experiment_source_search(injection_structures=injection_regions)\n",
    "\n",
    "    # display the experiments\n",
    "pd.DataFrame(experiments)[['id','injection-volume','structure-abbrev']].head()"
   ]
  },
  {
   "cell_type": "markdown",
   "metadata": {},
   "source": [
    "## Recherche par proximité d'une région d'injection (API)"
   ]
  },
  {
   "cell_type": "code",
   "execution_count": 71,
   "metadata": {},
   "outputs": [
    {
     "name": "stdout",
     "output_type": "stream",
     "text": [
      "0      0.000000\n",
      "1    508.527285\n",
      "2    540.555270\n",
      "3    548.543526\n",
      "4    685.930026\n",
      "Name: distance, dtype: float64\n"
     ]
    },
    {
     "data": {
      "text/html": [
       "<div>\n",
       "<table border=\"1\" class=\"dataframe\">\n",
       "  <thead>\n",
       "    <tr style=\"text-align: right;\">\n",
       "      <th></th>\n",
       "      <th>id</th>\n",
       "      <th>distance</th>\n",
       "      <th>injection-volume</th>\n",
       "      <th>injection-coordinates</th>\n",
       "    </tr>\n",
       "  </thead>\n",
       "  <tbody>\n",
       "    <tr>\n",
       "      <th>0</th>\n",
       "      <td>180436360</td>\n",
       "      <td>0.000000</td>\n",
       "      <td>1.135290</td>\n",
       "      <td>[5520, 4470, 10080]</td>\n",
       "    </tr>\n",
       "    <tr>\n",
       "      <th>1</th>\n",
       "      <td>113036264</td>\n",
       "      <td>508.527285</td>\n",
       "      <td>0.553939</td>\n",
       "      <td>[5810, 4780, 9800]</td>\n",
       "    </tr>\n",
       "    <tr>\n",
       "      <th>2</th>\n",
       "      <td>286775476</td>\n",
       "      <td>540.555270</td>\n",
       "      <td>0.279911</td>\n",
       "      <td>[5930, 4760, 9880]</td>\n",
       "    </tr>\n",
       "    <tr>\n",
       "      <th>3</th>\n",
       "      <td>174361746</td>\n",
       "      <td>548.543526</td>\n",
       "      <td>0.449952</td>\n",
       "      <td>[6040, 4400, 10240]</td>\n",
       "    </tr>\n",
       "    <tr>\n",
       "      <th>4</th>\n",
       "      <td>174360333</td>\n",
       "      <td>685.930026</td>\n",
       "      <td>0.223101</td>\n",
       "      <td>[4920, 4350, 9770]</td>\n",
       "    </tr>\n",
       "    <tr>\n",
       "      <th>5</th>\n",
       "      <td>297858011</td>\n",
       "      <td>708.025423</td>\n",
       "      <td>0.024480</td>\n",
       "      <td>[5590, 4870, 9500]</td>\n",
       "    </tr>\n",
       "    <tr>\n",
       "      <th>6</th>\n",
       "      <td>508373923</td>\n",
       "      <td>711.758386</td>\n",
       "      <td>0.004450</td>\n",
       "      <td>[6190, 4230, 10090]</td>\n",
       "    </tr>\n",
       "    <tr>\n",
       "      <th>7</th>\n",
       "      <td>168095756</td>\n",
       "      <td>738.850458</td>\n",
       "      <td>0.000816</td>\n",
       "      <td>[5770, 4920, 9550]</td>\n",
       "    </tr>\n",
       "    <tr>\n",
       "      <th>8</th>\n",
       "      <td>297945448</td>\n",
       "      <td>772.398861</td>\n",
       "      <td>0.142637</td>\n",
       "      <td>[5780, 3780, 9850]</td>\n",
       "    </tr>\n",
       "    <tr>\n",
       "      <th>9</th>\n",
       "      <td>180404418</td>\n",
       "      <td>792.022727</td>\n",
       "      <td>0.007727</td>\n",
       "      <td>[5260, 4360, 9340]</td>\n",
       "    </tr>\n",
       "  </tbody>\n",
       "</table>\n",
       "</div>"
      ],
      "text/plain": [
       "          id    distance  injection-volume injection-coordinates\n",
       "0  180436360    0.000000          1.135290   [5520, 4470, 10080]\n",
       "1  113036264  508.527285          0.553939    [5810, 4780, 9800]\n",
       "2  286775476  540.555270          0.279911    [5930, 4760, 9880]\n",
       "3  174361746  548.543526          0.449952   [6040, 4400, 10240]\n",
       "4  174360333  685.930026          0.223101    [4920, 4350, 9770]\n",
       "5  297858011  708.025423          0.024480    [5590, 4870, 9500]\n",
       "6  508373923  711.758386          0.004450   [6190, 4230, 10090]\n",
       "7  168095756  738.850458          0.000816    [5770, 4920, 9550]\n",
       "8  297945448  772.398861          0.142637    [5780, 3780, 9850]\n",
       "9  180404418  792.022727          0.007727    [5260, 4360, 9340]"
      ]
     },
     "execution_count": 71,
     "metadata": {},
     "output_type": "execute_result"
    }
   ],
   "source": [
    "# experiment_injection_coordinate_search (regions d'injections)\n",
    "import pandas as pd\n",
    "from allensdk.api.queries.mouse_connectivity_api import MouseConnectivityApi\n",
    "\n",
    "mca = MouseConnectivityApi()\n",
    "\n",
    "# get metadata for all experiments near the injection coordinates\n",
    "    # configure the coordinates\n",
    "x = 5520\n",
    "y = 4470\n",
    "z = 10080\n",
    "injection_coordinates = [x, y, z]\n",
    "\n",
    "    # API request on this link http://api.brain-map.org/api/v2/data/query.xml?criteria=service::mouse_connectivity_injection_coordinate[seed_point$eq5520,4470,10080]\n",
    "nearby_experiment = mca.experiment_injection_coordinate_search(seed_point=injection_coordinates)\n",
    "\n",
    "    # display the experiments\n",
    "list_of_distances = pd.DataFrame(nearby_experiment).distance\n",
    "print(list_of_distances.head())\n",
    "pd.DataFrame(nearby_experiment)[['id','distance','injection-volume','injection-coordinates']].head(10)\n"
   ]
  },
  {
   "cell_type": "markdown",
   "metadata": {},
   "source": [
    "## Recherche par zone à forte densité de projection (API)"
   ]
  },
  {
   "cell_type": "code",
   "execution_count": 82,
   "metadata": {},
   "outputs": [
    {
     "name": "stdout",
     "output_type": "stream",
     "text": [
      "{'coord': [5200.0, 4100.0, 9200.0], 'density': 0.09509018063545227, 'intensity': 2293.598876953125}\n"
     ]
    },
    {
     "data": {
      "text/html": [
       "<div>\n",
       "<table border=\"1\" class=\"dataframe\">\n",
       "  <thead>\n",
       "    <tr style=\"text-align: right;\">\n",
       "      <th></th>\n",
       "      <th>id</th>\n",
       "      <th>density</th>\n",
       "      <th>injection-volume</th>\n",
       "      <th>projection</th>\n",
       "      <th>injection-coordinates</th>\n",
       "    </tr>\n",
       "  </thead>\n",
       "  <tbody>\n",
       "    <tr>\n",
       "      <th>0</th>\n",
       "      <td>272827141</td>\n",
       "      <td>0.131948</td>\n",
       "      <td>0.104110</td>\n",
       "      <td>0.131836</td>\n",
       "      <td>[6020, 3820, 9380]</td>\n",
       "    </tr>\n",
       "    <tr>\n",
       "      <th>1</th>\n",
       "      <td>286838022</td>\n",
       "      <td>0.028094</td>\n",
       "      <td>0.041925</td>\n",
       "      <td>0.028320</td>\n",
       "      <td>[5390, 3560, 8980]</td>\n",
       "    </tr>\n",
       "    <tr>\n",
       "      <th>2</th>\n",
       "      <td>299783689</td>\n",
       "      <td>0.258777</td>\n",
       "      <td>0.695015</td>\n",
       "      <td>0.258789</td>\n",
       "      <td>[4420, 4070, 9060]</td>\n",
       "    </tr>\n",
       "    <tr>\n",
       "      <th>3</th>\n",
       "      <td>551350026</td>\n",
       "      <td>0.011534</td>\n",
       "      <td>0.223544</td>\n",
       "      <td>0.011719</td>\n",
       "      <td>[4450, 5750, 8230]</td>\n",
       "    </tr>\n",
       "    <tr>\n",
       "      <th>4</th>\n",
       "      <td>174360333</td>\n",
       "      <td>0.223838</td>\n",
       "      <td>0.223101</td>\n",
       "      <td>0.223633</td>\n",
       "      <td>[4920, 4350, 9770]</td>\n",
       "    </tr>\n",
       "    <tr>\n",
       "      <th>5</th>\n",
       "      <td>182280207</td>\n",
       "      <td>0.068109</td>\n",
       "      <td>0.173941</td>\n",
       "      <td>0.068359</td>\n",
       "      <td>[9480, 4060, 5670]</td>\n",
       "    </tr>\n",
       "    <tr>\n",
       "      <th>6</th>\n",
       "      <td>294397199</td>\n",
       "      <td>0.106985</td>\n",
       "      <td>0.336656</td>\n",
       "      <td>0.107422</td>\n",
       "      <td>[4420, 2970, 9130]</td>\n",
       "    </tr>\n",
       "    <tr>\n",
       "      <th>7</th>\n",
       "      <td>553446684</td>\n",
       "      <td>0.048221</td>\n",
       "      <td>0.014138</td>\n",
       "      <td>0.047852</td>\n",
       "      <td>[5960, 3980, 9630]</td>\n",
       "    </tr>\n",
       "    <tr>\n",
       "      <th>8</th>\n",
       "      <td>157654817</td>\n",
       "      <td>0.094868</td>\n",
       "      <td>0.138259</td>\n",
       "      <td>0.094727</td>\n",
       "      <td>[4370, 3460, 9310]</td>\n",
       "    </tr>\n",
       "    <tr>\n",
       "      <th>9</th>\n",
       "      <td>159552290</td>\n",
       "      <td>0.035296</td>\n",
       "      <td>0.196300</td>\n",
       "      <td>0.035156</td>\n",
       "      <td>[6240, 3380, 9210]</td>\n",
       "    </tr>\n",
       "  </tbody>\n",
       "</table>\n",
       "</div>"
      ],
      "text/plain": [
       "          id   density  injection-volume  projection injection-coordinates\n",
       "0  272827141  0.131948          0.104110    0.131836    [6020, 3820, 9380]\n",
       "1  286838022  0.028094          0.041925    0.028320    [5390, 3560, 8980]\n",
       "2  299783689  0.258777          0.695015    0.258789    [4420, 4070, 9060]\n",
       "3  551350026  0.011534          0.223544    0.011719    [4450, 5750, 8230]\n",
       "4  174360333  0.223838          0.223101    0.223633    [4920, 4350, 9770]\n",
       "5  182280207  0.068109          0.173941    0.068359    [9480, 4060, 5670]\n",
       "6  294397199  0.106985          0.336656    0.107422    [4420, 2970, 9130]\n",
       "7  553446684  0.048221          0.014138    0.047852    [5960, 3980, 9630]\n",
       "8  157654817  0.094868          0.138259    0.094727    [4370, 3460, 9310]\n",
       "9  159552290  0.035296          0.196300    0.035156    [6240, 3380, 9210]"
      ]
     },
     "execution_count": 82,
     "metadata": {},
     "output_type": "execute_result"
    }
   ],
   "source": [
    "# experiment_spatial_search (densité)\n",
    "import pandas as pd\n",
    "from allensdk.api.queries.mouse_connectivity_api import MouseConnectivityApi\n",
    "\n",
    "mca = MouseConnectivityApi()\n",
    "\n",
    "# get metadata for all experiments with high density near the injection coordinate\n",
    "    # configure the coordinates\n",
    "x = 5520\n",
    "y = 4470\n",
    "z = 10080\n",
    "injection_coordinates = [x, y, z]\n",
    "\n",
    "    # API request http://api.brain-map.org/api/v2/data/query.xml?criteria=service::mouse_connectivity_target_spatial[seed_point$eqx,y,z]\n",
    "sections_data_sets = mca.experiment_spatial_search(seed_point=injection_coordinates)\n",
    "\n",
    "    # display the experiments\n",
    "list_of_density = pd.DataFrame(sections_data_sets).density\n",
    "path_along_most_dense_pixel_id1 = pd.DataFrame(sections_data_sets).path[1]\n",
    "\n",
    "#print(list_of_density.head(),path_along_most_dense_pixel_id1)\n",
    "\n",
    "for pixel in path_along_most_dense_pixel_id1:\n",
    "    if pixel['intensity'] > 0 and pixel['density'] >= 0.09: \n",
    "        print(pixel)\n",
    "\n",
    "df = pd.DataFrame(sections_data_sets)[['density','injection-volume','projection','path']]\n",
    "\n",
    "\"\"\"\n",
    "for path in df['path']:\n",
    "    for pixel in path:\n",
    "        if pixel['intensity'] > 0 and pixel['density'] >= 0.1: \n",
    "            print(pixel['coord'],\", \",pixel['density'],\", \",pixel['intensity'])\n",
    "\"\"\"\n",
    "pd.DataFrame(sections_data_sets)[['id','density','injection-volume','projection','injection-coordinates']].head(10)\n"
   ]
  },
  {
   "cell_type": "markdown",
   "metadata": {},
   "source": [
    "# Reference Space API"
   ]
  },
  {
   "cell_type": "markdown",
   "metadata": {},
   "source": [
    "## Essais et Tests avec la documentation"
   ]
  },
  {
   "cell_type": "code",
   "execution_count": 145,
   "metadata": {},
   "outputs": [
    {
     "name": "stderr",
     "output_type": "stream",
     "text": [
      "2022-04-27 14:55:58,319 allensdk.api.api.retrieve_file_over_http INFO     Downloading URL: http://download.alleninstitute.org/informatics-archive/current-release/mouse_ccf/annotation/ccf_2017/structure_masks/structure_masks_25/structure_1049.nrrd\n"
     ]
    },
    {
     "ename": "AttributeError",
     "evalue": "'numpy.ndarray' object has no attribute 'imshow'",
     "output_type": "error",
     "traceback": [
      "\u001b[0;31m---------------------------------------------------------------------------\u001b[0m",
      "\u001b[0;31mAttributeError\u001b[0m                            Traceback (most recent call last)",
      "\u001b[0;32m<ipython-input-145-d1c59bef161d>\u001b[0m in \u001b[0;36m<module>\u001b[0;34m\u001b[0m\n\u001b[1;32m     20\u001b[0m \u001b[0mig\u001b[0m\u001b[0;34m,\u001b[0m \u001b[0max\u001b[0m \u001b[0;34m=\u001b[0m \u001b[0mplt\u001b[0m\u001b[0;34m.\u001b[0m\u001b[0msubplots\u001b[0m\u001b[0;34m(\u001b[0m\u001b[0mnrows\u001b[0m\u001b[0;34m,\u001b[0m\u001b[0mncols\u001b[0m\u001b[0;34m)\u001b[0m\u001b[0;34m\u001b[0m\u001b[0;34m\u001b[0m\u001b[0m\n\u001b[1;32m     21\u001b[0m \u001b[0;32mfor\u001b[0m \u001b[0mr\u001b[0m \u001b[0;32min\u001b[0m \u001b[0mrange\u001b[0m\u001b[0;34m(\u001b[0m\u001b[0mnrows\u001b[0m\u001b[0;34m)\u001b[0m\u001b[0;34m:\u001b[0m\u001b[0;34m\u001b[0m\u001b[0;34m\u001b[0m\u001b[0m\n\u001b[0;32m---> 22\u001b[0;31m     \u001b[0max\u001b[0m\u001b[0;34m[\u001b[0m\u001b[0mr\u001b[0m\u001b[0;34m]\u001b[0m\u001b[0;34m.\u001b[0m\u001b[0mimshow\u001b[0m\u001b[0;34m(\u001b[0m\u001b[0mstructure_mask\u001b[0m\u001b[0;34m[\u001b[0m\u001b[0;36m0\u001b[0m\u001b[0;34m]\u001b[0m\u001b[0;34m[\u001b[0m\u001b[0mi\u001b[0m\u001b[0;34m,\u001b[0m\u001b[0;34m:\u001b[0m\u001b[0;34m]\u001b[0m\u001b[0;34m,\u001b[0m \u001b[0minterpolation\u001b[0m\u001b[0;34m=\u001b[0m\u001b[0;34m'none'\u001b[0m\u001b[0;34m,\u001b[0m \u001b[0mcmap\u001b[0m\u001b[0;34m=\u001b[0m\u001b[0mplt\u001b[0m\u001b[0;34m.\u001b[0m\u001b[0mcm\u001b[0m\u001b[0;34m.\u001b[0m\u001b[0mafmhot\u001b[0m\u001b[0;34m)\u001b[0m\u001b[0;34m\u001b[0m\u001b[0;34m\u001b[0m\u001b[0m\n\u001b[0m\u001b[1;32m     23\u001b[0m     \u001b[0mi\u001b[0m\u001b[0;34m+=\u001b[0m\u001b[0;36m1\u001b[0m\u001b[0;34m\u001b[0m\u001b[0;34m\u001b[0m\u001b[0m\n\u001b[1;32m     24\u001b[0m \u001b[0;34m\u001b[0m\u001b[0m\n",
      "\u001b[0;31mAttributeError\u001b[0m: 'numpy.ndarray' object has no attribute 'imshow'"
     ]
    },
    {
     "data": {
      "image/png": "[encoded data removed]",
      "text/plain": [
       "<Figure size 432x288 with 100 Axes>"
      ]
     },
     "metadata": {
      "needs_background": "light"
     },
     "output_type": "display_data"
    }
   ],
   "source": [
    "from allensdk.api.queries.reference_space_api import ReferenceSpaceApi\n",
    "import matplotlib.pyplot as plt\n",
    "\n",
    "rspa = ReferenceSpaceApi()\n",
    "\n",
    "resolution = rspa.VOXEL_RESOLUTION_25_MICRONS\n",
    "id = 1049 # Flocculus\n",
    "path = \"/Users/mahdi/stage-2022-mahdi/src/test_structure_mask\"\n",
    "vesion = 'annotation/ccf_2017'\n",
    "structure_mask = rspa.download_structure_mask(\n",
    "    ccf_version=vesion,\n",
    "    structure_id=id,\n",
    "    resolution=resolution,\n",
    "    file_name=path)\n",
    "\n",
    "# view \n",
    "i = 400\n",
    "nrows = 10\n",
    "ncols = 10\n",
    "fig, axs = plt.subplots(nrows,ncols)\n",
    "for r in range(nrows):\n",
    "    for c in range(ncols):\n",
    "        axs[r,c].imshow(structure_mask[0][i,:], interpolation='none', cmap=plt.cm.afmhot)\n",
    "        i+=1\n",
    "       "
   ]
  }
 ],
 "metadata": {
  "interpreter": {
   "hash": "89bcfc095d93340fd71944c2b6d026b0e5cbee18d73e5518fd1156fb5e6b8805"
  },
  "kernelspec": {
   "display_name": "Python 3.6.13 ('allen2tract')",
   "language": "python",
   "name": "python3"
  },
  "language_info": {
   "codemirror_mode": {
    "name": "ipython",
    "version": 3
   },
   "file_extension": ".py",
   "mimetype": "text/x-python",
   "name": "python",
   "nbconvert_exporter": "python",
   "pygments_lexer": "ipython3",
   "version": "3.6.13"
  },
  "orig_nbformat": 4
 },
 "nbformat": 4,
 "nbformat_minor": 2
}
