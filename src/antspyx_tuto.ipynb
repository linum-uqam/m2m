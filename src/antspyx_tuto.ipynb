{
 "cells": [
  {
   "cell_type": "code",
   "execution_count": 1,
   "metadata": {},
   "outputs": [],
   "source": [
    "import ants\n",
    "import numpy as np"
   ]
  },
  {
   "cell_type": "code",
   "execution_count": 2,
   "metadata": {},
   "outputs": [
    {
     "name": "stdout",
     "output_type": "stream",
     "text": [
      "/Users/mahdi/.antspy/r16slice.jpg\n",
      "/Users/mahdi/.antspy/r64slice.jpg\n"
     ]
    }
   ],
   "source": [
    "fname1 = ants.get_ants_data('r16')\n",
    "fname2 = ants.get_ants_data('r64')\n",
    "print(fname1)\n",
    "print(fname2)"
   ]
  },
  {
   "cell_type": "code",
   "execution_count": 3,
   "metadata": {},
   "outputs": [
    {
     "name": "stdout",
     "output_type": "stream",
     "text": [
      "ANTsImage\n",
      "\t Pixel Type : float (float32)\n",
      "\t Components : 1\n",
      "\t Dimensions : (256, 256)\n",
      "\t Spacing    : (1.0, 1.0)\n",
      "\t Origin     : (0.0, 0.0)\n",
      "\t Direction  : [1. 0. 0. 1.]\n",
      "\n"
     ]
    }
   ],
   "source": [
    "img1 = ants.image_read(fname1)\n",
    "img2 = ants.image_read(fname2)\n",
    "print(img1)"
   ]
  },
  {
   "cell_type": "code",
   "execution_count": 4,
   "metadata": {},
   "outputs": [
    {
     "name": "stdout",
     "output_type": "stream",
     "text": [
      "ANTsImage (RAI)\n",
      "\t Pixel Type : float (float32)\n",
      "\t Components : 10\n",
      "\t Dimensions : (70, 70, 70)\n",
      "\t Spacing    : (1.0, 1.0, 1.0)\n",
      "\t Origin     : (0.0, 0.0, 0.0)\n",
      "\t Direction  : [1. 0. 0. 0. 1. 0. 0. 0. 1.]\n",
      "\n"
     ]
    }
   ],
   "source": [
    "arr_4d = np.random.randn(70,70,70,10).astype('float32')\n",
    "img_fmri = ants.from_numpy(arr_4d, has_components=True)\n",
    "print(img_fmri)\n",
    "\n",
    "# todo : tester aussi from_nibabel/ to_nibabel (-> .nii.gz)\n",
    "#        nifti_to_ants"
   ]
  },
  {
   "cell_type": "code",
   "execution_count": 5,
   "metadata": {},
   "outputs": [
    {
     "name": "stdout",
     "output_type": "stream",
     "text": [
      "dict_keys(['segmentation', 'probabilityimages'])\n"
     ]
    },
    {
     "data": {
      "image/png": "[encoded data removed]",
      "text/plain": [
       "<Figure size 432x288 with 1 Axes>"
      ]
     },
     "metadata": {
      "needs_background": "light"
     },
     "output_type": "display_data"
    }
   ],
   "source": [
    "img = ants.image_read(ants.get_ants_data('r16'))\n",
    "img = ants.resample_image(img, (64,64), 1, 0)\n",
    "mask = ants.get_mask(img)\n",
    "img_seg = ants.atropos(a=img, \n",
    "                       m='[0.2,1x1]', \n",
    "                       c='[2,0]', \n",
    "                       i='kmeans[3]', \n",
    "                       x=mask)\n",
    "print(img_seg.keys())\n",
    "ants.plot(img_seg['segmentation'])"
   ]
  },
  {
   "cell_type": "code",
   "execution_count": 6,
   "metadata": {},
   "outputs": [
    {
     "name": "stdout",
     "output_type": "stream",
     "text": [
      "ANTsImage\n",
      "\t Pixel Type : float (float32)\n",
      "\t Components : 1\n",
      "\t Dimensions : (64, 64)\n",
      "\t Spacing    : (4.0476, 4.0476)\n",
      "\t Origin     : (0.0, 0.0)\n",
      "\t Direction  : [1. 0. 0. 1.]\n",
      "\n"
     ]
    },
    {
     "data": {
      "image/png": "[encoded data removed]",
      "text/plain": [
       "<Figure size 432x288 with 1 Axes>"
      ]
     },
     "metadata": {
      "needs_background": "light"
     },
     "output_type": "display_data"
    }
   ],
   "source": [
    "mg = ants.image_read( ants.get_ants_data('r16') ,2)\n",
    "mask = ants.get_mask( img ).threshold_image( 1, 2 )\n",
    "segs=ants.atropos( a = img, \n",
    "                   m = '[0.2,1x1]', \n",
    "                   c = '[2,0]',  \n",
    "                   i = 'kmeans[3]', \n",
    "                   x = mask )\n",
    "thickimg = ants.kelly_kapowski(s=segs['segmentation'], \n",
    "                               g=segs['probabilityimages'][1],\n",
    "                               w=segs['probabilityimages'][2], \n",
    "                               its=45, \n",
    "                               r=0.5, \n",
    "                               m=1)\n",
    "print(thickimg)\n",
    "img.plot(overlay=thickimg, overlay_cmap='jet')"
   ]
  },
  {
   "cell_type": "markdown",
   "metadata": {},
   "source": [
    "# Transform manually template "
   ]
  },
  {
   "cell_type": "code",
   "execution_count": 115,
   "metadata": {},
   "outputs": [
    {
     "name": "stdout",
     "output_type": "stream",
     "text": [
      "[[0.07 0.   0.   0.  ]\n",
      " [0.   0.07 0.   0.  ]\n",
      " [0.   0.   0.07 0.  ]\n",
      " [0.   0.   0.   0.07]]\n"
     ]
    }
   ],
   "source": [
    "import nrrd\n",
    "import nibabel as nib\n",
    "import numpy as np\n",
    "import os\n",
    "from pathlib import Path\n",
    "\n",
    "template_file = '/Users/mahdi/stage-2022-mahdi/src/allen_template_25.nii.gz'\n",
    "template_ras_file = \"/Users/mahdi/stage-2022-mahdi/src/allen_template_25_manualRAS.nii.gz\"\n",
    "\n",
    "resolution = 25\n",
    "res_avgt_mm = 70 / 1e3\n",
    "avgt_offset = np.array([-5.675, -8.79448, -8.450335, 0])\n",
    "\n",
    "# Load and manually transform the template\n",
    "vol = nib.load(template_file).get_fdata()\n",
    "\n",
    "vol_ras = np.moveaxis(vol, (0,1,2), (1,2,0))\n",
    "vol_ras = np.flip(vol_ras, axis=2)\n",
    "vol_ras = np.flip(vol_ras, axis=1)\n",
    "\n",
    "affine = np.eye(4) * res_avgt_mm\n",
    "\n",
    "img_ras = nib.Nifti1Image(vol_ras, affine)\n",
    "nib.save(img_ras, template_ras_file)\n",
    "\n",
    "# load reference\n",
    "avgt = nib.load('/Users/mahdi/stage-2022-mahdi/src/AVGT.nii.gz')\n",
    "ref_vol = avgt.get_fdata()\n",
    "\n",
    "# load moving\n",
    "allen = nib.load('/Users/mahdi/stage-2022-mahdi/src/allen_template_25_manualRAS.nii.gz')\n",
    "allen_vol = allen.get_fdata()\n",
    "\n",
    "\n",
    "allen_vol = allen_vol.astype(float)\n",
    "ref_vol = ref_vol.astype(float)\n",
    "\n",
    "fixed = ants.from_numpy( ref_vol ).resample_image((164, 212, 158),1,0)\n",
    "moving = ants.from_numpy( allen_vol ).resample_image((164, 212, 158),1,0)\n",
    "\n",
    "fixed.plot_ortho()\n",
    "moving.plot_ortho()\n",
    "mytx = ants.registration(fixed=fixed , moving=moving, type_of_transform='SyN' )\n",
    "\n",
    "warped_moving = ants.apply_transforms(fixed=fixed, moving=moving, \n",
    "                                          transformlist=mytx['fwdtransforms'])\n",
    "fixed.plot_ortho_double(warped_moving)\n",
    "affine_offset = affine.copy()\n",
    "affine_offset[:,3] + avgt_offset\n",
    "\n",
    "warped_vol = warped_moving.numpy()\n",
    "# Saving the volume (nifti)\n",
    "img = nib.Nifti1Image(warped_vol, affine_offset)\n",
    "nib.save(img, '/Users/mahdi/stage-2022-mahdi/src/template_reg.nii.gz')"
   ]
  },
  {
   "cell_type": "code",
   "execution_count": 101,
   "metadata": {},
   "outputs": [
    {
     "data": {
      "text/plain": [
       "(164, 212, 158)"
      ]
     },
     "execution_count": 101,
     "metadata": {},
     "output_type": "execute_result"
    }
   ],
   "source": [
    "warped_moving.shape"
   ]
  },
  {
   "cell_type": "markdown",
   "metadata": {},
   "source": [
    "### essais nii nibabel ants"
   ]
  },
  {
   "cell_type": "code",
   "execution_count": 38,
   "metadata": {},
   "outputs": [
    {
     "ename": "KeyError",
     "evalue": "'uint16'",
     "output_type": "error",
     "traceback": [
      "\u001b[0;31m---------------------------------------------------------------------------\u001b[0m",
      "\u001b[0;31mKeyError\u001b[0m                                  Traceback (most recent call last)",
      "\u001b[0;32m<ipython-input-38-b671736fa2d5>\u001b[0m in \u001b[0;36m<module>\u001b[0;34m\u001b[0m\n\u001b[1;32m      8\u001b[0m \u001b[0marray\u001b[0m\u001b[0;34m,\u001b[0m \u001b[0mmetadata\u001b[0m \u001b[0;34m=\u001b[0m \u001b[0mnrrd\u001b[0m\u001b[0;34m.\u001b[0m\u001b[0mread\u001b[0m\u001b[0;34m(\u001b[0m\u001b[0;34m'/Users/mahdi/stage-2022-mahdi/src/average_template_25.nrrd'\u001b[0m\u001b[0;34m)\u001b[0m\u001b[0;34m\u001b[0m\u001b[0;34m\u001b[0m\u001b[0m\n\u001b[1;32m      9\u001b[0m \u001b[0;34m\u001b[0m\u001b[0m\n\u001b[0;32m---> 10\u001b[0;31m \u001b[0mimg\u001b[0m \u001b[0;34m=\u001b[0m \u001b[0mants\u001b[0m\u001b[0;34m.\u001b[0m\u001b[0mfrom_numpy\u001b[0m\u001b[0;34m(\u001b[0m\u001b[0marray\u001b[0m\u001b[0;34m)\u001b[0m\u001b[0;34m\u001b[0m\u001b[0;34m\u001b[0m\u001b[0m\n\u001b[0m\u001b[1;32m     11\u001b[0m \u001b[0;34m\u001b[0m\u001b[0m\n\u001b[1;32m     12\u001b[0m \u001b[0morientation\u001b[0m \u001b[0;34m=\u001b[0m \u001b[0mants\u001b[0m\u001b[0;34m.\u001b[0m\u001b[0mget_orientation\u001b[0m\u001b[0;34m(\u001b[0m\u001b[0mimg\u001b[0m\u001b[0;34m)\u001b[0m\u001b[0;34m\u001b[0m\u001b[0;34m\u001b[0m\u001b[0m\n",
      "\u001b[0;32m/opt/anaconda3/envs/allen2tract/lib/python3.6/site-packages/ants/core/ants_image_io.py\u001b[0m in \u001b[0;36mfrom_numpy\u001b[0;34m(data, origin, spacing, direction, has_components, is_rgb)\u001b[0m\n\u001b[1;32m     98\u001b[0m     \"\"\"\n\u001b[1;32m     99\u001b[0m     \u001b[0mdata\u001b[0m \u001b[0;34m=\u001b[0m \u001b[0mdata\u001b[0m\u001b[0;34m.\u001b[0m\u001b[0mastype\u001b[0m\u001b[0;34m(\u001b[0m\u001b[0;34m\"float32\"\u001b[0m\u001b[0;34m)\u001b[0m \u001b[0;32mif\u001b[0m \u001b[0mdata\u001b[0m\u001b[0;34m.\u001b[0m\u001b[0mdtype\u001b[0m\u001b[0;34m.\u001b[0m\u001b[0mname\u001b[0m \u001b[0;34m==\u001b[0m \u001b[0;34m\"float64\"\u001b[0m \u001b[0;32melse\u001b[0m \u001b[0mdata\u001b[0m\u001b[0;34m\u001b[0m\u001b[0;34m\u001b[0m\u001b[0m\n\u001b[0;32m--> 100\u001b[0;31m     \u001b[0mimg\u001b[0m \u001b[0;34m=\u001b[0m \u001b[0m_from_numpy\u001b[0m\u001b[0;34m(\u001b[0m\u001b[0mdata\u001b[0m\u001b[0;34m.\u001b[0m\u001b[0mT\u001b[0m\u001b[0;34m.\u001b[0m\u001b[0mcopy\u001b[0m\u001b[0;34m(\u001b[0m\u001b[0;34m)\u001b[0m\u001b[0;34m,\u001b[0m \u001b[0morigin\u001b[0m\u001b[0;34m,\u001b[0m \u001b[0mspacing\u001b[0m\u001b[0;34m,\u001b[0m \u001b[0mdirection\u001b[0m\u001b[0;34m,\u001b[0m \u001b[0mhas_components\u001b[0m\u001b[0;34m,\u001b[0m \u001b[0mis_rgb\u001b[0m\u001b[0;34m)\u001b[0m\u001b[0;34m\u001b[0m\u001b[0;34m\u001b[0m\u001b[0m\n\u001b[0m\u001b[1;32m    101\u001b[0m     \u001b[0;32mreturn\u001b[0m \u001b[0mimg\u001b[0m\u001b[0;34m\u001b[0m\u001b[0;34m\u001b[0m\u001b[0m\n\u001b[1;32m    102\u001b[0m \u001b[0;34m\u001b[0m\u001b[0m\n",
      "\u001b[0;32m/opt/anaconda3/envs/allen2tract/lib/python3.6/site-packages/ants/core/ants_image_io.py\u001b[0m in \u001b[0;36m_from_numpy\u001b[0;34m(data, origin, spacing, direction, has_components, is_rgb)\u001b[0m\n\u001b[1;32m    114\u001b[0m         \u001b[0mndim\u001b[0m \u001b[0;34m-=\u001b[0m \u001b[0;36m1\u001b[0m\u001b[0;34m\u001b[0m\u001b[0;34m\u001b[0m\u001b[0m\n\u001b[1;32m    115\u001b[0m     \u001b[0mdtype\u001b[0m \u001b[0;34m=\u001b[0m \u001b[0mdata\u001b[0m\u001b[0;34m.\u001b[0m\u001b[0mdtype\u001b[0m\u001b[0;34m.\u001b[0m\u001b[0mname\u001b[0m\u001b[0;34m\u001b[0m\u001b[0;34m\u001b[0m\u001b[0m\n\u001b[0;32m--> 116\u001b[0;31m     \u001b[0mptype\u001b[0m \u001b[0;34m=\u001b[0m \u001b[0m_npy_to_itk_map\u001b[0m\u001b[0;34m[\u001b[0m\u001b[0mdtype\u001b[0m\u001b[0;34m]\u001b[0m\u001b[0;34m\u001b[0m\u001b[0;34m\u001b[0m\u001b[0m\n\u001b[0m\u001b[1;32m    117\u001b[0m \u001b[0;34m\u001b[0m\u001b[0m\n\u001b[1;32m    118\u001b[0m     \u001b[0mdata\u001b[0m \u001b[0;34m=\u001b[0m \u001b[0mnp\u001b[0m\u001b[0;34m.\u001b[0m\u001b[0marray\u001b[0m\u001b[0;34m(\u001b[0m\u001b[0mdata\u001b[0m\u001b[0;34m)\u001b[0m\u001b[0;34m\u001b[0m\u001b[0;34m\u001b[0m\u001b[0m\n",
      "\u001b[0;31mKeyError\u001b[0m: 'uint16'"
     ]
    }
   ],
   "source": [
    "# todo : tester aussi from_nibabel/ to_nibabel (-> .nii.gz)\n",
    "#        nifti_to_ants\n",
    "\n",
    "import ants\n",
    "import nrrd\n",
    "import numpy as np\n",
    "\n",
    "array, metadata = nrrd.read('/Users/mahdi/stage-2022-mahdi/src/average_template_25.nrrd')\n",
    "\n",
    "img = ants.from_numpy(array) # convertir en float\n",
    "\n",
    "orientation = ants.get_orientation(img)\n",
    "\n",
    "print(orientation)"
   ]
  }
 ],
 "metadata": {
  "interpreter": {
   "hash": "89bcfc095d93340fd71944c2b6d026b0e5cbee18d73e5518fd1156fb5e6b8805"
  },
  "kernelspec": {
   "display_name": "Python 3.6.13 ('allen2tract')",
   "language": "python",
   "name": "python3"
  },
  "language_info": {
   "codemirror_mode": {
    "name": "ipython",
    "version": 3
   },
   "file_extension": ".py",
   "mimetype": "text/x-python",
   "name": "python",
   "nbconvert_exporter": "python",
   "pygments_lexer": "ipython3",
   "version": "3.6.13"
  },
  "orig_nbformat": 4
 },
 "nbformat": 4,
 "nbformat_minor": 2
}
