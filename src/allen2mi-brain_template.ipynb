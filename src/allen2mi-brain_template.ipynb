{
 "cells": [
  {
   "cell_type": "code",
   "execution_count": 14,
   "metadata": {},
   "outputs": [],
   "source": [
    "from allensdk.api.queries.reference_space_api import ReferenceSpaceApi\n",
    "import nibabel as nib\n",
    "import nrrd\n",
    "import ants\n",
    "import numpy as np\n",
    "import os\n",
    "import logging\n",
    "from pathlib import Path"
   ]
  },
  {
   "cell_type": "code",
   "execution_count": 15,
   "metadata": {},
   "outputs": [],
   "source": [
    "avgt_file = '/Users/mahdi/stage-2022-mahdi/src/AVGT.nii.gz'\n",
    "res_avgt_mm = 70 / 1e3\n",
    "avgt_offset = np.array([-5.675, -8.79448, -8.450335, 0])\n",
    "ALLEN_RESOLUTIONS = [10, 25, 50, 100]"
   ]
  },
  {
   "cell_type": "code",
   "execution_count": 16,
   "metadata": {},
   "outputs": [],
   "source": [
    "def download_allen_template(res=100, directory=\".\"):# todo change to projection\n",
    "    \"\"\"Downloading the Allen mouse brain template volume at a given resolution, and setting the correct affine\n",
    "    Parameters\n",
    "    ----------\n",
    "    res : int\n",
    "        Reference volume resolution. (Available resolutions : 10, 25, 50, 100 microns)\n",
    "    directory : str\n",
    "        Directory where the data will be saved.\n",
    "    Returns\n",
    "    -------\n",
    "    nifti_file : str\n",
    "        Absolute path to the downloaded template (nifti format, aligned to RAS+)\n",
    "    \"\"\"\n",
    "    assert res in ALLEN_RESOLUTIONS, f\"'res' must be in {ALLEN_RESOLUTIONS}\"\n",
    "    res = int(res)\n",
    "    directory = Path(directory)\n",
    "    directory.absolute()\n",
    "    directory.mkdir(exist_ok=True, parents=True)\n",
    "\n",
    "    # Preparing the filenames\n",
    "    nrrd_file = directory / f\"allen_template_{res}.nrrd\"\n",
    "    nifti_file = directory / f\"allen_template_{res}.nii.gz\"\n",
    "\n",
    "    # Downloading the template\n",
    "    rpa = ReferenceSpaceApi(base_uri=str(directory))\n",
    "    rpa.download_template_volume(resolution=res, file_name=nrrd_file)\n",
    "\n",
    "    # Loading the nrrd file\n",
    "    vol, header = nrrd.read(nrrd_file)\n",
    "\n",
    "    # Preparing the affine to align the template in the RAS+\n",
    "    r_mm = res / 1e3\n",
    "    affine = np.array([[0, 0, r_mm, 0],\n",
    "                       [-r_mm, 0, 0, 0],\n",
    "                       [0, -r_mm, 0, 0],\n",
    "                       [0, 0, 0, 1]])\n",
    "\n",
    "    # Saving the volume (nifti)\n",
    "    img = nib.Nifti1Image(vol, affine)\n",
    "    nib.save(img, nifti_file)\n",
    "\n",
    "    # Deleting the nrrd file\n",
    "    os.remove(nrrd_file)\n",
    "\n",
    "    return nifti_file"
   ]
  },
  {
   "cell_type": "code",
   "execution_count": 17,
   "metadata": {},
   "outputs": [],
   "source": [
    "def transform_manually_to_ras(allen_volume, directory=\".\"):\n",
    "    \"\"\"\n",
    "    \"\"\"\n",
    "    directory = Path(directory)\n",
    "    directory.absolute()\n",
    "    directory.mkdir(exist_ok=True, parents=True)\n",
    "\n",
    "    # Preparing the filename\n",
    "    template_ras_file = directory / f\"allen_volume_manualRAS.nii.gz\"\n",
    "\n",
    "    # Loading the volume\n",
    "    vol = nib.load(allen_volume).get_fdata()\n",
    "    \n",
    "    # Manually transforming the volume\n",
    "    vol_ras = np.moveaxis(vol, (0,1,2), (1,2,0))\n",
    "    vol_ras = np.flip(vol_ras, axis=2)\n",
    "    vol_ras = np.flip(vol_ras, axis=1)\n",
    "    \n",
    "    # Scaling to AVGT resolution\n",
    "    affine = np.eye(4) * res_avgt_mm\n",
    "\n",
    "    # Saving the volume (nifti)\n",
    "    img_ras = nib.Nifti1Image(vol_ras, affine)\n",
    "    nib.save(img_ras, template_ras_file)\n",
    "\n",
    "    # Deleting the old file\n",
    "    os.remove(allen_volume)\n",
    "\n",
    "    return template_ras_file"
   ]
  },
  {
   "cell_type": "code",
   "execution_count": 18,
   "metadata": {},
   "outputs": [],
   "source": [
    "def align_volume_on_avgt(allen_volume, directory=\".\"):\n",
    "\n",
    "    \"\"\"\n",
    "    \"\"\"\n",
    "    directory = Path(directory)\n",
    "    directory.absolute()\n",
    "    directory.mkdir(exist_ok=True, parents=True)\n",
    "\n",
    "    # Preparing the filename\n",
    "    aligned_volume_file = directory / f\"allen_volume_aligned.nii.gz\"\n",
    "    \n",
    "    # Loading the AVGT (fixed reference volume)\n",
    "    avgt = nib.load(avgt_file)\n",
    "    ref_vol = avgt.get_fdata()\n",
    "\n",
    "    # Loading the Allen volume (moving allen volume)\n",
    "    allen = nib.load(allen_volume)\n",
    "    allen_vol = allen.get_fdata()\n",
    "\n",
    "    # Converting to float array\n",
    "    allen_vol = allen_vol.astype(float)\n",
    "    ref_vol = ref_vol.astype(float)\n",
    "\n",
    "    # Creating ANTsPy images\n",
    "    fixed = ants.from_numpy( ref_vol ).resample_image((164, 212, 158),1,0)\n",
    "    moving = ants.from_numpy( allen_vol ).resample_image((164, 212, 158),1,0)\n",
    "\n",
    "    # Configuring the transformation\n",
    "    mytx = ants.registration(fixed=fixed , moving=moving, type_of_transform='SyN' )\n",
    "\n",
    "    # Applying the transformation\n",
    "    warped_moving = ants.apply_transforms(fixed=fixed, moving=moving, \n",
    "                                              transformlist=mytx['fwdtransforms'])\n",
    "    \n",
    "    # Placing the volume at the avgt origin\n",
    "    affine = allen.affine\n",
    "    affine_offset = affine.copy()\n",
    "    affine_offset[:,3] = affine_offset[:,3] + avgt_offset\n",
    "\n",
    "    # Changing the registrate volume to numpy array\n",
    "    warped_vol = warped_moving.numpy()\n",
    "\n",
    "    # Saving the volume (nifti)\n",
    "    img = nib.Nifti1Image(warped_vol, affine_offset)\n",
    "    nib.save(img, aligned_volume_file)\n",
    "\n",
    "    # Deleting the old file\n",
    "    os.remove(allen_volume)\n",
    "\n",
    "    return aligned_volume_file, mytx"
   ]
  },
  {
   "cell_type": "code",
   "execution_count": 19,
   "metadata": {},
   "outputs": [
    {
     "name": "stderr",
     "output_type": "stream",
     "text": [
      "2022-05-04 12:28:04,398 allensdk.api.api.retrieve_file_over_http INFO     Downloading URL: http://download.alleninstitute.org/informatics-archive/current-release/mouse_ccf/average_template/average_template_100.nrrd\n"
     ]
    }
   ],
   "source": [
    "directory = \"/Users/mahdi/stage-2022-mahdi/src\"\n",
    "\n",
    "allen_nifti = download_allen_template(res=100, directory=directory)\n",
    "allen_manualRAS = transform_manually_to_ras(allen_volume=allen_nifti, directory=directory)\n",
    "allen_MIbrain, mytx = align_volume_on_avgt(allen_volume=allen_manualRAS, directory=directory)"
   ]
  },
  {
   "cell_type": "code",
   "execution_count": 21,
   "metadata": {},
   "outputs": [
    {
     "data": {
      "text/plain": [
       "['/var/folders/h3/kbdrj8js4h713qz5mlv7vx5w0000gp/T/tmpk9difx7i1Warp.nii.gz',\n",
       " '/var/folders/h3/kbdrj8js4h713qz5mlv7vx5w0000gp/T/tmpk9difx7i0GenericAffine.mat']"
      ]
     },
     "execution_count": 21,
     "metadata": {},
     "output_type": "execute_result"
    }
   ],
   "source": [
    "mytx['fwdtransforms']"
   ]
  }
 ],
 "metadata": {
  "interpreter": {
   "hash": "89bcfc095d93340fd71944c2b6d026b0e5cbee18d73e5518fd1156fb5e6b8805"
  },
  "kernelspec": {
   "display_name": "Python 3.6.13 ('allen2tract')",
   "language": "python",
   "name": "python3"
  },
  "language_info": {
   "codemirror_mode": {
    "name": "ipython",
    "version": 3
   },
   "file_extension": ".py",
   "mimetype": "text/x-python",
   "name": "python",
   "nbconvert_exporter": "python",
   "pygments_lexer": "ipython3",
   "version": "3.6.13"
  },
  "orig_nbformat": 4
 },
 "nbformat": 4,
 "nbformat_minor": 2
}
