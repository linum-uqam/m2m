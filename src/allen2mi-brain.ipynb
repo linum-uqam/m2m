{
 "cells": [
  {
   "cell_type": "code",
   "execution_count": 33,
   "metadata": {},
   "outputs": [
    {
     "name": "stderr",
     "output_type": "stream",
     "text": [
      "2022-05-03 16:27:12,998 allensdk.api.api.retrieve_file_over_http INFO     Downloading URL: http://download.alleninstitute.org/informatics-archive/current-release/mouse_ccf/average_template/average_template_50.nrrd\n"
     ]
    },
    {
     "data": {
      "text/plain": [
       "PosixPath('/Users/mahdi/stage-2022-mahdi/src/allen_template_50.nii.gz')"
      ]
     },
     "execution_count": 33,
     "metadata": {},
     "output_type": "execute_result"
    }
   ],
   "source": [
    "from allensdk.api.queries.reference_space_api import ReferenceSpaceApi\n",
    "import nibabel as nib\n",
    "import nrrd\n",
    "import numpy as np\n",
    "import os\n",
    "from pathlib import Path\n",
    "import ants\n",
    "\n",
    "ALLEN_RESOLUTIONS = [10, 25, 50, 100]\n",
    "\n",
    "\n",
    "def download_allen_template(res=100, directory=\".\"):\n",
    "    \"\"\"Downloading the Allen mouse brain template volume at a given resolution, and setting the correct affine\n",
    "    Parameters\n",
    "    ----------\n",
    "    res : int\n",
    "        Reference volume resolution. (Available resolutions : 10, 25, 50, 100 microns)\n",
    "    directory : str\n",
    "        Directory where the data will be saved.\n",
    "    Returns\n",
    "    -------\n",
    "    nifti_file : str\n",
    "        Absolute path to the downloaded template (nifti format, aligned to RAS+)\n",
    "    \"\"\"\n",
    "    assert res in ALLEN_RESOLUTIONS, f\"'res' must be in {ALLEN_RESOLUTIONS}\"\n",
    "    res = int(res)\n",
    "    directory = Path(directory)\n",
    "    directory.absolute()\n",
    "    directory.mkdir(exist_ok=True, parents=True)\n",
    "\n",
    "    # Preparing the filenames\n",
    "    nrrd_file = directory / f\"allen_template_{res}.nrrd\"\n",
    "    nifti_file = directory / f\"allen_template_{res}.nii.gz\"\n",
    "\n",
    "    # Downloading the template\n",
    "    rpa = ReferenceSpaceApi(base_uri=str(directory))\n",
    "    rpa.download_template_volume(resolution=res, file_name=nrrd_file)\n",
    "\n",
    "    # Loading the nrrd file\n",
    "    vol, header = nrrd.read(nrrd_file)\n",
    "\n",
    "    # Preparing the affine to align the template in the RAS+\n",
    "    r_mm = res / 1e3\n",
    "    affine = np.array([[ 0,      0,     r_mm, 0  ],\n",
    "                       [ -r_mm,  0,     0,    0  ],\n",
    "                       [ 0,     -r_mm,  0,    0  ],\n",
    "                       [ 0,      0,     0,    1  ]])\n",
    "\n",
    "    # Registrating with ANTsPy\n",
    "        # loading the AVGT\n",
    "    AVGT = nib.load('/Users/mahdi/stage-2022-mahdi/src/AVGT.nii.gz')\n",
    "    AVGT_vol = AVGT.get_fdata()\n",
    "    AVGT_shape = (164, 212, 158)\n",
    "\n",
    "        # converting volumes to float ...   \n",
    "    vol = vol.astype(float)\n",
    "    AVGT_vol = AVGT_vol.astype(float)\n",
    "\n",
    "        # reshaping the volumes to the AVGT shape\n",
    "    fixed = ants.from_numpy( AVGT_vol ).resample_image(AVGT_shape,1,0)\n",
    "    moving = ants.from_numpy( vol ).resample_image(AVGT_shape,1,0)\n",
    "\n",
    "        # creating the tranformation\n",
    "    t_type = 'SyN'\n",
    "    t = ants.registration(fixed=fixed , moving=moving, \n",
    "                          type_of_transform=t_type )\n",
    "\n",
    "        # applying the transformation\n",
    "    warped_moving = ants.apply_transforms(fixed=fixed, moving=moving, \n",
    "                                          transformlist=t['fwdtransforms'])\n",
    "\n",
    "        # reconverting to volume\n",
    "    warped_vol = warped_moving.numpy()\n",
    "\n",
    "    # Saving the volume (nifti)\n",
    "    img = nib.Nifti1Image(warped_vol, affine)\n",
    "\n",
    "    #nib.save(img, nifti_file)\n",
    "    nib.save(img, nifti_file)\n",
    "\n",
    "    # Deleting the nrrd file\n",
    "    os.remove(nrrd_file)\n",
    "\n",
    "    return nifti_file\n",
    "\n",
    "download_allen_template(res=50, directory='/Users/mahdi/stage-2022-mahdi/src')"
   ]
  },
  {
   "cell_type": "code",
   "execution_count": 34,
   "metadata": {},
   "outputs": [
    {
     "name": "stderr",
     "output_type": "stream",
     "text": [
      "2022-05-03 16:31:07,157 allensdk.api.api.retrieve_file_over_http INFO     Downloading URL: http://download.alleninstitute.org/informatics-archive/current-release/mouse_ccf/average_template/average_template_25.nrrd\n"
     ]
    },
    {
     "data": {
      "text/plain": [
       "PosixPath('/Users/mahdi/stage-2022-mahdi/src/allen_template_25.nii.gz')"
      ]
     },
     "execution_count": 34,
     "metadata": {},
     "output_type": "execute_result"
    }
   ],
   "source": [
    "from allensdk.api.queries.reference_space_api import ReferenceSpaceApi\n",
    "import nibabel as nib\n",
    "import nrrd\n",
    "import numpy as np\n",
    "import os\n",
    "from pathlib import Path\n",
    "\n",
    "\n",
    "ALLEN_RESOLUTIONS = [10, 25, 50, 100]\n",
    "\n",
    "\n",
    "def download_allen_template(res=100, directory=\".\"):\n",
    "    \"\"\"Downloading the Allen mouse brain template volume at a given resolution, and setting the correct affine\n",
    "    Parameters\n",
    "    ----------\n",
    "    res : int\n",
    "        Reference volume resolution. (Available resolutions : 10, 25, 50, 100 microns)\n",
    "    directory : str\n",
    "        Directory where the data will be saved.\n",
    "    Returns\n",
    "    -------\n",
    "    nifti_file : str\n",
    "        Absolute path to the downloaded template (nifti format, aligned to RAS+)\n",
    "    \"\"\"\n",
    "    assert res in ALLEN_RESOLUTIONS, f\"'res' must be in {ALLEN_RESOLUTIONS}\"\n",
    "    res = int(res)\n",
    "    directory = Path(directory)\n",
    "    directory.absolute()\n",
    "    directory.mkdir(exist_ok=True, parents=True)\n",
    "\n",
    "    # Preparing the filenames\n",
    "    nrrd_file = directory / f\"allen_template_{res}.nrrd\"\n",
    "    nifti_file = directory / f\"allen_template_{res}.nii.gz\"\n",
    "\n",
    "    # Downloading the template\n",
    "    rpa = ReferenceSpaceApi(base_uri=str(directory))\n",
    "    rpa.download_template_volume(resolution=res, file_name=nrrd_file)\n",
    "\n",
    "    # Loading the nrrd file\n",
    "    vol, header = nrrd.read(nrrd_file)\n",
    "\n",
    "    # Preparing the affine to align the template in the RAS+\n",
    "    r_mm = res / 1e3\n",
    "    affine = np.array([[0, 0, r_mm, 0],\n",
    "                       [-r_mm, 0, 0, 0],\n",
    "                       [0, -r_mm, 0, 0],\n",
    "                       [0, 0, 0, 1]])\n",
    "\n",
    "    # Saving the volume (nifti)\n",
    "    img = nib.Nifti1Image(vol, affine)\n",
    "    nib.save(img, nifti_file)\n",
    "\n",
    "    # Deleting the nrrd file\n",
    "    os.remove(nrrd_file)\n",
    "\n",
    "    return nifti_file\n",
    "\n",
    "download_allen_template(res=25, directory='/Users/mahdi/stage-2022-mahdi/src')"
   ]
  },
  {
   "cell_type": "code",
   "execution_count": null,
   "metadata": {},
   "outputs": [
    {
     "name": "stderr",
     "output_type": "stream",
     "text": [
      "2022-05-03 16:31:07,157 allensdk.api.api.retrieve_file_over_http INFO     Downloading URL: http://download.alleninstitute.org/informatics-archive/current-release/mouse_ccf/average_template/average_template_25.nrrd\n"
     ]
    },
    {
     "data": {
      "text/plain": [
       "PosixPath('/Users/mahdi/stage-2022-mahdi/src/allen_template_25.nii.gz')"
      ]
     },
     "metadata": {},
     "output_type": "display_data"
    }
   ],
   "source": [
    "from allensdk.api.queries.reference_space_api import ReferenceSpaceApi\n",
    "import nibabel as nib\n",
    "import nrrd\n",
    "import numpy as np\n",
    "import os\n",
    "from pathlib import Path\n",
    "\n",
    "\n",
    "ALLEN_RESOLUTIONS = [10, 25, 50, 100]\n",
    "\n",
    "\n",
    "def download_allen_template(res=100, directory=\".\"):\n",
    "    \"\"\"Downloading the Allen mouse brain template volume at a given resolution, and setting the correct affine\n",
    "    Parameters\n",
    "    ----------\n",
    "    res : int\n",
    "        Reference volume resolution. (Available resolutions : 10, 25, 50, 100 microns)\n",
    "    directory : str\n",
    "        Directory where the data will be saved.\n",
    "    Returns\n",
    "    -------\n",
    "    nifti_file : str\n",
    "        Absolute path to the downloaded template (nifti format, aligned to RAS+)\n",
    "    \"\"\"\n",
    "    assert res in ALLEN_RESOLUTIONS, f\"'res' must be in {ALLEN_RESOLUTIONS}\"\n",
    "    res = int(res)\n",
    "    directory = Path(directory)\n",
    "    directory.absolute()\n",
    "    directory.mkdir(exist_ok=True, parents=True)\n",
    "\n",
    "    # Preparing the filenames\n",
    "    nrrd_file = directory / f\"allen_template_{res}.nrrd\"\n",
    "    nifti_file = directory / f\"allen_template_{res}.nii.gz\"\n",
    "\n",
    "    # Downloading the template\n",
    "    rpa = ReferenceSpaceApi(base_uri=str(directory))\n",
    "    rpa.download_template_volume(resolution=res, file_name=nrrd_file)\n",
    "\n",
    "    # Loading the nrrd file\n",
    "    vol, header = nrrd.read(nrrd_file)\n",
    "\n",
    "    # Preparing the affine to align the template in the RAS+\n",
    "    r_mm = res / 1e3\n",
    "    affine = np.array([[0, 0, r_mm, 0],\n",
    "                       [-r_mm, 0, 0, 0],\n",
    "                       [0, -r_mm, 0, 0],\n",
    "                       [0, 0, 0, 1]])\n",
    "\n",
    "    # Saving the volume (nifti)\n",
    "    img = nib.Nifti1Image(vol, affine)\n",
    "    nib.save(img, nifti_file)\n",
    "\n",
    "    # Deleting the nrrd file\n",
    "    os.remove(nrrd_file)\n",
    "\n",
    "    return nifti_file\n",
    "\n",
    "download_allen_template(res=25, directory='/Users/mahdi/stage-2022-mahdi/src')"
   ]
  }
 ],
 "metadata": {
  "interpreter": {
   "hash": "89bcfc095d93340fd71944c2b6d026b0e5cbee18d73e5518fd1156fb5e6b8805"
  },
  "kernelspec": {
   "display_name": "Python 3.6.13 ('allen2tract')",
   "language": "python",
   "name": "python3"
  },
  "language_info": {
   "codemirror_mode": {
    "name": "ipython",
    "version": 3
   },
   "file_extension": ".py",
   "mimetype": "text/x-python",
   "name": "python",
   "nbconvert_exporter": "python",
   "pygments_lexer": "ipython3",
   "version": "3.6.13"
  },
  "orig_nbformat": 4
 },
 "nbformat": 4,
 "nbformat_minor": 2
}
